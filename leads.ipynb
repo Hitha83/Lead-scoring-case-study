{
 "cells": [
  {
   "cell_type": "code",
   "execution_count": 1,
   "metadata": {},
   "outputs": [],
   "source": [
    "# Importing libraries\n",
    "import numpy as np\n",
    "import pandas as pd\n",
    "import matplotlib.pyplot as plt\n",
    "import seaborn as sns"
   ]
  },
  {
   "cell_type": "code",
   "execution_count": 3,
   "metadata": {},
   "outputs": [
    {
     "data": {
      "text/html": [
       "<div>\n",
       "<style scoped>\n",
       "    .dataframe tbody tr th:only-of-type {\n",
       "        vertical-align: middle;\n",
       "    }\n",
       "\n",
       "    .dataframe tbody tr th {\n",
       "        vertical-align: top;\n",
       "    }\n",
       "\n",
       "    .dataframe thead th {\n",
       "        text-align: right;\n",
       "    }\n",
       "</style>\n",
       "<table border=\"1\" class=\"dataframe\">\n",
       "  <thead>\n",
       "    <tr style=\"text-align: right;\">\n",
       "      <th></th>\n",
       "      <th>Prospect ID</th>\n",
       "      <th>Lead Number</th>\n",
       "      <th>Lead Origin</th>\n",
       "      <th>Lead Source</th>\n",
       "      <th>Do Not Email</th>\n",
       "      <th>Do Not Call</th>\n",
       "      <th>Converted</th>\n",
       "      <th>TotalVisits</th>\n",
       "      <th>Total Time Spent on Website</th>\n",
       "      <th>Page Views Per Visit</th>\n",
       "      <th>...</th>\n",
       "      <th>Get updates on DM Content</th>\n",
       "      <th>Lead Profile</th>\n",
       "      <th>City</th>\n",
       "      <th>Asymmetrique Activity Index</th>\n",
       "      <th>Asymmetrique Profile Index</th>\n",
       "      <th>Asymmetrique Activity Score</th>\n",
       "      <th>Asymmetrique Profile Score</th>\n",
       "      <th>I agree to pay the amount through cheque</th>\n",
       "      <th>A free copy of Mastering The Interview</th>\n",
       "      <th>Last Notable Activity</th>\n",
       "    </tr>\n",
       "  </thead>\n",
       "  <tbody>\n",
       "    <tr>\n",
       "      <th>0</th>\n",
       "      <td>7927b2df-8bba-4d29-b9a2-b6e0beafe620</td>\n",
       "      <td>660737</td>\n",
       "      <td>API</td>\n",
       "      <td>Olark Chat</td>\n",
       "      <td>No</td>\n",
       "      <td>No</td>\n",
       "      <td>0</td>\n",
       "      <td>0.0</td>\n",
       "      <td>0</td>\n",
       "      <td>0.0</td>\n",
       "      <td>...</td>\n",
       "      <td>No</td>\n",
       "      <td>Select</td>\n",
       "      <td>Select</td>\n",
       "      <td>02.Medium</td>\n",
       "      <td>02.Medium</td>\n",
       "      <td>15.0</td>\n",
       "      <td>15.0</td>\n",
       "      <td>No</td>\n",
       "      <td>No</td>\n",
       "      <td>Modified</td>\n",
       "    </tr>\n",
       "    <tr>\n",
       "      <th>1</th>\n",
       "      <td>2a272436-5132-4136-86fa-dcc88c88f482</td>\n",
       "      <td>660728</td>\n",
       "      <td>API</td>\n",
       "      <td>Organic Search</td>\n",
       "      <td>No</td>\n",
       "      <td>No</td>\n",
       "      <td>0</td>\n",
       "      <td>5.0</td>\n",
       "      <td>674</td>\n",
       "      <td>2.5</td>\n",
       "      <td>...</td>\n",
       "      <td>No</td>\n",
       "      <td>Select</td>\n",
       "      <td>Select</td>\n",
       "      <td>02.Medium</td>\n",
       "      <td>02.Medium</td>\n",
       "      <td>15.0</td>\n",
       "      <td>15.0</td>\n",
       "      <td>No</td>\n",
       "      <td>No</td>\n",
       "      <td>Email Opened</td>\n",
       "    </tr>\n",
       "    <tr>\n",
       "      <th>2</th>\n",
       "      <td>8cc8c611-a219-4f35-ad23-fdfd2656bd8a</td>\n",
       "      <td>660727</td>\n",
       "      <td>Landing Page Submission</td>\n",
       "      <td>Direct Traffic</td>\n",
       "      <td>No</td>\n",
       "      <td>No</td>\n",
       "      <td>1</td>\n",
       "      <td>2.0</td>\n",
       "      <td>1532</td>\n",
       "      <td>2.0</td>\n",
       "      <td>...</td>\n",
       "      <td>No</td>\n",
       "      <td>Potential Lead</td>\n",
       "      <td>Mumbai</td>\n",
       "      <td>02.Medium</td>\n",
       "      <td>01.High</td>\n",
       "      <td>14.0</td>\n",
       "      <td>20.0</td>\n",
       "      <td>No</td>\n",
       "      <td>Yes</td>\n",
       "      <td>Email Opened</td>\n",
       "    </tr>\n",
       "    <tr>\n",
       "      <th>3</th>\n",
       "      <td>0cc2df48-7cf4-4e39-9de9-19797f9b38cc</td>\n",
       "      <td>660719</td>\n",
       "      <td>Landing Page Submission</td>\n",
       "      <td>Direct Traffic</td>\n",
       "      <td>No</td>\n",
       "      <td>No</td>\n",
       "      <td>0</td>\n",
       "      <td>1.0</td>\n",
       "      <td>305</td>\n",
       "      <td>1.0</td>\n",
       "      <td>...</td>\n",
       "      <td>No</td>\n",
       "      <td>Select</td>\n",
       "      <td>Mumbai</td>\n",
       "      <td>02.Medium</td>\n",
       "      <td>01.High</td>\n",
       "      <td>13.0</td>\n",
       "      <td>17.0</td>\n",
       "      <td>No</td>\n",
       "      <td>No</td>\n",
       "      <td>Modified</td>\n",
       "    </tr>\n",
       "    <tr>\n",
       "      <th>4</th>\n",
       "      <td>3256f628-e534-4826-9d63-4a8b88782852</td>\n",
       "      <td>660681</td>\n",
       "      <td>Landing Page Submission</td>\n",
       "      <td>Google</td>\n",
       "      <td>No</td>\n",
       "      <td>No</td>\n",
       "      <td>1</td>\n",
       "      <td>2.0</td>\n",
       "      <td>1428</td>\n",
       "      <td>1.0</td>\n",
       "      <td>...</td>\n",
       "      <td>No</td>\n",
       "      <td>Select</td>\n",
       "      <td>Mumbai</td>\n",
       "      <td>02.Medium</td>\n",
       "      <td>01.High</td>\n",
       "      <td>15.0</td>\n",
       "      <td>18.0</td>\n",
       "      <td>No</td>\n",
       "      <td>No</td>\n",
       "      <td>Modified</td>\n",
       "    </tr>\n",
       "  </tbody>\n",
       "</table>\n",
       "<p>5 rows × 37 columns</p>\n",
       "</div>"
      ],
      "text/plain": [
       "                            Prospect ID  Lead Number              Lead Origin  \\\n",
       "0  7927b2df-8bba-4d29-b9a2-b6e0beafe620       660737                      API   \n",
       "1  2a272436-5132-4136-86fa-dcc88c88f482       660728                      API   \n",
       "2  8cc8c611-a219-4f35-ad23-fdfd2656bd8a       660727  Landing Page Submission   \n",
       "3  0cc2df48-7cf4-4e39-9de9-19797f9b38cc       660719  Landing Page Submission   \n",
       "4  3256f628-e534-4826-9d63-4a8b88782852       660681  Landing Page Submission   \n",
       "\n",
       "      Lead Source Do Not Email Do Not Call  Converted  TotalVisits  \\\n",
       "0      Olark Chat           No          No          0          0.0   \n",
       "1  Organic Search           No          No          0          5.0   \n",
       "2  Direct Traffic           No          No          1          2.0   \n",
       "3  Direct Traffic           No          No          0          1.0   \n",
       "4          Google           No          No          1          2.0   \n",
       "\n",
       "   Total Time Spent on Website  Page Views Per Visit  ...  \\\n",
       "0                            0                   0.0  ...   \n",
       "1                          674                   2.5  ...   \n",
       "2                         1532                   2.0  ...   \n",
       "3                          305                   1.0  ...   \n",
       "4                         1428                   1.0  ...   \n",
       "\n",
       "  Get updates on DM Content    Lead Profile    City  \\\n",
       "0                        No          Select  Select   \n",
       "1                        No          Select  Select   \n",
       "2                        No  Potential Lead  Mumbai   \n",
       "3                        No          Select  Mumbai   \n",
       "4                        No          Select  Mumbai   \n",
       "\n",
       "  Asymmetrique Activity Index Asymmetrique Profile Index  \\\n",
       "0                   02.Medium                  02.Medium   \n",
       "1                   02.Medium                  02.Medium   \n",
       "2                   02.Medium                    01.High   \n",
       "3                   02.Medium                    01.High   \n",
       "4                   02.Medium                    01.High   \n",
       "\n",
       "  Asymmetrique Activity Score Asymmetrique Profile Score  \\\n",
       "0                        15.0                       15.0   \n",
       "1                        15.0                       15.0   \n",
       "2                        14.0                       20.0   \n",
       "3                        13.0                       17.0   \n",
       "4                        15.0                       18.0   \n",
       "\n",
       "  I agree to pay the amount through cheque  \\\n",
       "0                                       No   \n",
       "1                                       No   \n",
       "2                                       No   \n",
       "3                                       No   \n",
       "4                                       No   \n",
       "\n",
       "  A free copy of Mastering The Interview Last Notable Activity  \n",
       "0                                     No              Modified  \n",
       "1                                     No          Email Opened  \n",
       "2                                    Yes          Email Opened  \n",
       "3                                     No              Modified  \n",
       "4                                     No              Modified  \n",
       "\n",
       "[5 rows x 37 columns]"
      ]
     },
     "execution_count": 3,
     "metadata": {},
     "output_type": "execute_result"
    }
   ],
   "source": [
    "data = pd.DataFrame(pd.read_csv('C:\\Users\\STS\\Downloads\\Lead Scoring Assignment\\Leads.csv'))\n",
    "data.head(5)"
   ]
  },
  {
   "cell_type": "code",
   "execution_count": 4,
   "metadata": {},
   "outputs": [],
   "source": [
    "data.drop_duplicates(subset='Prospect ID',inplace = True)"
   ]
  },
  {
   "cell_type": "code",
   "execution_count": 5,
   "metadata": {},
   "outputs": [
    {
     "data": {
      "text/plain": [
       "(9240, 37)"
      ]
     },
     "execution_count": 5,
     "metadata": {},
     "output_type": "execute_result"
    }
   ],
   "source": [
    "data.shape"
   ]
  },
  {
   "cell_type": "code",
   "execution_count": 6,
   "metadata": {},
   "outputs": [],
   "source": [
    "# Converting 'Select' values to NaN.\n",
    "data = data.replace('Select', np.nan)"
   ]
  },
  {
   "cell_type": "code",
   "execution_count": 7,
   "metadata": {},
   "outputs": [
    {
     "data": {
      "text/plain": [
       "Prospect ID                                       0.000000\n",
       "Lead Number                                       0.000000\n",
       "Lead Origin                                       0.000000\n",
       "Lead Source                                       0.389610\n",
       "Do Not Email                                      0.000000\n",
       "Do Not Call                                       0.000000\n",
       "Converted                                         0.000000\n",
       "TotalVisits                                       1.482684\n",
       "Total Time Spent on Website                       0.000000\n",
       "Page Views Per Visit                              1.482684\n",
       "Last Activity                                     1.114719\n",
       "Country                                          26.634199\n",
       "Specialization                                   36.580087\n",
       "How did you hear about X Education               78.463203\n",
       "What is your current occupation                  29.112554\n",
       "What matters most to you in choosing a course    29.318182\n",
       "Search                                            0.000000\n",
       "Magazine                                          0.000000\n",
       "Newspaper Article                                 0.000000\n",
       "X Education Forums                                0.000000\n",
       "Newspaper                                         0.000000\n",
       "Digital Advertisement                             0.000000\n",
       "Through Recommendations                           0.000000\n",
       "Receive More Updates About Our Courses            0.000000\n",
       "Tags                                             36.287879\n",
       "Lead Quality                                     51.590909\n",
       "Update me on Supply Chain Content                 0.000000\n",
       "Get updates on DM Content                         0.000000\n",
       "Lead Profile                                     74.188312\n",
       "City                                             39.707792\n",
       "Asymmetrique Activity Index                      45.649351\n",
       "Asymmetrique Profile Index                       45.649351\n",
       "Asymmetrique Activity Score                      45.649351\n",
       "Asymmetrique Profile Score                       45.649351\n",
       "I agree to pay the amount through cheque          0.000000\n",
       "A free copy of Mastering The Interview            0.000000\n",
       "Last Notable Activity                             0.000000\n",
       "dtype: float64"
      ]
     },
     "execution_count": 7,
     "metadata": {},
     "output_type": "execute_result"
    }
   ],
   "source": [
    "data.isnull().sum()*100/data.shape[0]"
   ]
  },
  {
   "cell_type": "code",
   "execution_count": 8,
   "metadata": {},
   "outputs": [
    {
     "data": {
      "text/plain": [
       "array(['API', 'Landing Page Submission', 'Lead Add Form', 'Lead Import',\n",
       "       'Quick Add Form'], dtype=object)"
      ]
     },
     "execution_count": 8,
     "metadata": {},
     "output_type": "execute_result"
    }
   ],
   "source": [
    "data['Lead Origin'].unique()"
   ]
  },
  {
   "cell_type": "code",
   "execution_count": 9,
   "metadata": {},
   "outputs": [
    {
     "data": {
      "text/plain": [
       "<matplotlib.axes._subplots.AxesSubplot at 0xb9329e8>"
      ]
     },
     "execution_count": 9,
     "metadata": {},
     "output_type": "execute_result"
    },
    {
     "data": {
      "image/png": "[encoded data removed]",
      "text/plain": [
       "<Figure size 720x360 with 1 Axes>"
      ]
     },
     "metadata": {
      "needs_background": "light"
     },
     "output_type": "display_data"
    }
   ],
   "source": [
    "#API and Landing Page Submission higher compared to other origins\n",
    "plt.figure(figsize=(10, 5))\n",
    "sns.countplot(data['Lead Origin'])"
   ]
  },
  {
   "cell_type": "code",
   "execution_count": 10,
   "metadata": {},
   "outputs": [
    {
     "data": {
      "text/plain": [
       "array(['Olark Chat', 'Organic Search', 'Direct Traffic', 'Google',\n",
       "       'Referral Sites', 'Welingak Website', 'Reference', 'google',\n",
       "       'Facebook', nan, 'blog', 'Pay per Click Ads', 'bing',\n",
       "       'Social Media', 'WeLearn', 'Click2call', 'Live Chat',\n",
       "       'welearnblog_Home', 'youtubechannel', 'testone', 'Press_Release',\n",
       "       'NC_EDM'], dtype=object)"
      ]
     },
     "execution_count": 10,
     "metadata": {},
     "output_type": "execute_result"
    }
   ],
   "source": [
    "data['Lead Source'].unique()"
   ]
  },
  {
   "cell_type": "code",
   "execution_count": 11,
   "metadata": {},
   "outputs": [],
   "source": [
    "data = data.replace('google', 'Google')"
   ]
  },
  {
   "cell_type": "code",
   "execution_count": 19,
   "metadata": {},
   "outputs": [
    {
     "data": {
      "text/plain": [
       "(array([ 0,  1,  2,  3,  4,  5,  6,  7,  8,  9, 10, 11, 12, 13, 14, 15, 16,\n",
       "        17, 18, 19]), <a list of 20 Text xticklabel objects>)"
      ]
     },
     "execution_count": 19,
     "metadata": {},
     "output_type": "execute_result"
    },
    {
     "data": {
      "image/png": "[encoded data removed]",
      "text/plain": [
       "<Figure size 432x288 with 1 Axes>"
      ]
     },
     "metadata": {
      "needs_background": "light"
     },
     "output_type": "display_data"
    }
   ],
   "source": [
    "# Olark Chat,Organic Search,Direct Traffic and Google are Higher leading source\n",
    "sns.countplot(data['Lead Source'])\n",
    "plt.xticks(rotation = 90)"
   ]
  },
  {
   "cell_type": "code",
   "execution_count": 20,
   "metadata": {},
   "outputs": [
    {
     "data": {
      "text/plain": [
       "(array([0, 1]), <a list of 2 Text xticklabel objects>)"
      ]
     },
     "execution_count": 20,
     "metadata": {},
     "output_type": "execute_result"
    },
    {
     "data": {
      "image/png": "[encoded data removed]",
      "text/plain": [
       "<Figure size 576x432 with 1 Axes>"
      ]
     },
     "metadata": {
      "needs_background": "light"
     },
     "output_type": "display_data"
    }
   ],
   "source": [
    "# 26% values is null, most of the leads are from India.\n",
    "# Better to put all other countries under one value (\"Outside India\")\n",
    "# Null values , can be made to India.\n",
    "from matplotlib.pyplot import xticks\n",
    "plt.figure(figsize=(8, 6))\n",
    "sns.countplot(data['Country'])\n",
    "plt.xticks(rotation = 90)"
   ]
  },
  {
   "cell_type": "code",
   "execution_count": 21,
   "metadata": {},
   "outputs": [],
   "source": [
    "#Putting all other countries under one value (\"Outside India\")\n",
    "data['Country'] = np.where(data['Country'] != 'India', 'Outside India', data['Country'])"
   ]
  },
  {
   "cell_type": "code",
   "execution_count": 22,
   "metadata": {},
   "outputs": [],
   "source": [
    "# Converting 'Select' values to NaN.\n",
    "data['Country'] = data['Country'].replace(np.nan, 'India')"
   ]
  },
  {
   "cell_type": "code",
   "execution_count": 23,
   "metadata": {},
   "outputs": [
    {
     "data": {
      "text/plain": [
       "India            6492\n",
       "Outside India    2748\n",
       "Name: Country, dtype: int64"
      ]
     },
     "execution_count": 23,
     "metadata": {},
     "output_type": "execute_result"
    }
   ],
   "source": [
    "data['Country'].value_counts()"
   ]
  },
  {
   "cell_type": "code",
   "execution_count": 24,
   "metadata": {},
   "outputs": [
    {
     "data": {
      "text/plain": [
       "(array([ 0,  1,  2,  3,  4,  5,  6,  7,  8,  9, 10, 11, 12, 13, 14, 15, 16,\n",
       "        17]), <a list of 18 Text xticklabel objects>)"
      ]
     },
     "execution_count": 24,
     "metadata": {},
     "output_type": "execute_result"
    },
    {
     "data": {
      "image/png": "[encoded data removed]",
      "text/plain": [
       "<Figure size 720x360 with 1 Axes>"
      ]
     },
     "metadata": {
      "needs_background": "light"
     },
     "output_type": "display_data"
    }
   ],
   "source": [
    "plt.figure(figsize=(10, 5))\n",
    "sns.countplot(data['Specialization'])\n",
    "xticks(rotation = 90)"
   ]
  },
  {
   "cell_type": "code",
   "execution_count": 30,
   "metadata": {},
   "outputs": [
    {
     "ename": "KeyError",
     "evalue": "\"['How did you hear about X Education'] not found in axis\"",
     "output_type": "error",
     "traceback": [
      "\u001b[1;31m\u001b[0m",
      "\u001b[1;31mKeyError\u001b[0mTraceback (most recent call last)",
      "\u001b[1;32m<ipython-input-30-35d4fc0c9750>\u001b[0m in \u001b[0;36m<module>\u001b[1;34m()\u001b[0m\n\u001b[0;32m      1\u001b[0m \u001b[1;31m# Most of the values are null, nearly 75%,so dropping\u001b[0m\u001b[1;33m\u001b[0m\u001b[1;33m\u001b[0m\u001b[0m\n\u001b[1;32m----> 2\u001b[1;33m \u001b[0mdata\u001b[0m\u001b[1;33m=\u001b[0m \u001b[0mdata\u001b[0m\u001b[1;33m.\u001b[0m\u001b[0mdrop\u001b[0m\u001b[1;33m(\u001b[0m\u001b[1;34m'How did you hear about X Education'\u001b[0m\u001b[1;33m,\u001b[0m \u001b[0maxis\u001b[0m\u001b[1;33m=\u001b[0m\u001b[1;36m1\u001b[0m\u001b[1;33m)\u001b[0m\u001b[1;33m\u001b[0m\u001b[0m\n\u001b[0m\u001b[0;32m      3\u001b[0m \u001b[0mdata\u001b[0m\u001b[1;33m.\u001b[0m\u001b[0mshape\u001b[0m\u001b[1;33m\u001b[0m\u001b[0m\n",
      "\u001b[1;32mC:\\Users\\STS\\Anaconda2\\lib\\site-packages\\pandas\\core\\frame.pyc\u001b[0m in \u001b[0;36mdrop\u001b[1;34m(self, labels, axis, index, columns, level, inplace, errors)\u001b[0m\n\u001b[0;32m   3938\u001b[0m                                            \u001b[0mindex\u001b[0m\u001b[1;33m=\u001b[0m\u001b[0mindex\u001b[0m\u001b[1;33m,\u001b[0m \u001b[0mcolumns\u001b[0m\u001b[1;33m=\u001b[0m\u001b[0mcolumns\u001b[0m\u001b[1;33m,\u001b[0m\u001b[1;33m\u001b[0m\u001b[0m\n\u001b[0;32m   3939\u001b[0m                                            \u001b[0mlevel\u001b[0m\u001b[1;33m=\u001b[0m\u001b[0mlevel\u001b[0m\u001b[1;33m,\u001b[0m \u001b[0minplace\u001b[0m\u001b[1;33m=\u001b[0m\u001b[0minplace\u001b[0m\u001b[1;33m,\u001b[0m\u001b[1;33m\u001b[0m\u001b[0m\n\u001b[1;32m-> 3940\u001b[1;33m                                            errors=errors)\n\u001b[0m\u001b[0;32m   3941\u001b[0m \u001b[1;33m\u001b[0m\u001b[0m\n\u001b[0;32m   3942\u001b[0m     @rewrite_axis_style_signature('mapper', [('copy', True),\n",
      "\u001b[1;32mC:\\Users\\STS\\Anaconda2\\lib\\site-packages\\pandas\\core\\generic.pyc\u001b[0m in \u001b[0;36mdrop\u001b[1;34m(self, labels, axis, index, columns, level, inplace, errors)\u001b[0m\n\u001b[0;32m   3778\u001b[0m         \u001b[1;32mfor\u001b[0m \u001b[0maxis\u001b[0m\u001b[1;33m,\u001b[0m \u001b[0mlabels\u001b[0m \u001b[1;32min\u001b[0m \u001b[0maxes\u001b[0m\u001b[1;33m.\u001b[0m\u001b[0mitems\u001b[0m\u001b[1;33m(\u001b[0m\u001b[1;33m)\u001b[0m\u001b[1;33m:\u001b[0m\u001b[1;33m\u001b[0m\u001b[0m\n\u001b[0;32m   3779\u001b[0m             \u001b[1;32mif\u001b[0m \u001b[0mlabels\u001b[0m \u001b[1;32mis\u001b[0m \u001b[1;32mnot\u001b[0m \u001b[0mNone\u001b[0m\u001b[1;33m:\u001b[0m\u001b[1;33m\u001b[0m\u001b[0m\n\u001b[1;32m-> 3780\u001b[1;33m                 \u001b[0mobj\u001b[0m \u001b[1;33m=\u001b[0m \u001b[0mobj\u001b[0m\u001b[1;33m.\u001b[0m\u001b[0m_drop_axis\u001b[0m\u001b[1;33m(\u001b[0m\u001b[0mlabels\u001b[0m\u001b[1;33m,\u001b[0m \u001b[0maxis\u001b[0m\u001b[1;33m,\u001b[0m \u001b[0mlevel\u001b[0m\u001b[1;33m=\u001b[0m\u001b[0mlevel\u001b[0m\u001b[1;33m,\u001b[0m \u001b[0merrors\u001b[0m\u001b[1;33m=\u001b[0m\u001b[0merrors\u001b[0m\u001b[1;33m)\u001b[0m\u001b[1;33m\u001b[0m\u001b[0m\n\u001b[0m\u001b[0;32m   3781\u001b[0m \u001b[1;33m\u001b[0m\u001b[0m\n\u001b[0;32m   3782\u001b[0m         \u001b[1;32mif\u001b[0m \u001b[0minplace\u001b[0m\u001b[1;33m:\u001b[0m\u001b[1;33m\u001b[0m\u001b[0m\n",
      "\u001b[1;32mC:\\Users\\STS\\Anaconda2\\lib\\site-packages\\pandas\\core\\generic.pyc\u001b[0m in \u001b[0;36m_drop_axis\u001b[1;34m(self, labels, axis, level, errors)\u001b[0m\n\u001b[0;32m   3810\u001b[0m                 \u001b[0mnew_axis\u001b[0m \u001b[1;33m=\u001b[0m \u001b[0maxis\u001b[0m\u001b[1;33m.\u001b[0m\u001b[0mdrop\u001b[0m\u001b[1;33m(\u001b[0m\u001b[0mlabels\u001b[0m\u001b[1;33m,\u001b[0m \u001b[0mlevel\u001b[0m\u001b[1;33m=\u001b[0m\u001b[0mlevel\u001b[0m\u001b[1;33m,\u001b[0m \u001b[0merrors\u001b[0m\u001b[1;33m=\u001b[0m\u001b[0merrors\u001b[0m\u001b[1;33m)\u001b[0m\u001b[1;33m\u001b[0m\u001b[0m\n\u001b[0;32m   3811\u001b[0m             \u001b[1;32melse\u001b[0m\u001b[1;33m:\u001b[0m\u001b[1;33m\u001b[0m\u001b[0m\n\u001b[1;32m-> 3812\u001b[1;33m                 \u001b[0mnew_axis\u001b[0m \u001b[1;33m=\u001b[0m \u001b[0maxis\u001b[0m\u001b[1;33m.\u001b[0m\u001b[0mdrop\u001b[0m\u001b[1;33m(\u001b[0m\u001b[0mlabels\u001b[0m\u001b[1;33m,\u001b[0m \u001b[0merrors\u001b[0m\u001b[1;33m=\u001b[0m\u001b[0merrors\u001b[0m\u001b[1;33m)\u001b[0m\u001b[1;33m\u001b[0m\u001b[0m\n\u001b[0m\u001b[0;32m   3813\u001b[0m             \u001b[0mresult\u001b[0m \u001b[1;33m=\u001b[0m \u001b[0mself\u001b[0m\u001b[1;33m.\u001b[0m\u001b[0mreindex\u001b[0m\u001b[1;33m(\u001b[0m\u001b[1;33m**\u001b[0m\u001b[1;33m{\u001b[0m\u001b[0maxis_name\u001b[0m\u001b[1;33m:\u001b[0m \u001b[0mnew_axis\u001b[0m\u001b[1;33m}\u001b[0m\u001b[1;33m)\u001b[0m\u001b[1;33m\u001b[0m\u001b[0m\n\u001b[0;32m   3814\u001b[0m \u001b[1;33m\u001b[0m\u001b[0m\n",
      "\u001b[1;32mC:\\Users\\STS\\Anaconda2\\lib\\site-packages\\pandas\\core\\indexes\\base.pyc\u001b[0m in \u001b[0;36mdrop\u001b[1;34m(self, labels, errors)\u001b[0m\n\u001b[0;32m   4963\u001b[0m             \u001b[1;32mif\u001b[0m \u001b[0merrors\u001b[0m \u001b[1;33m!=\u001b[0m \u001b[1;34m'ignore'\u001b[0m\u001b[1;33m:\u001b[0m\u001b[1;33m\u001b[0m\u001b[0m\n\u001b[0;32m   4964\u001b[0m                 raise KeyError(\n\u001b[1;32m-> 4965\u001b[1;33m                     '{} not found in axis'.format(labels[mask]))\n\u001b[0m\u001b[0;32m   4966\u001b[0m             \u001b[0mindexer\u001b[0m \u001b[1;33m=\u001b[0m \u001b[0mindexer\u001b[0m\u001b[1;33m[\u001b[0m\u001b[1;33m~\u001b[0m\u001b[0mmask\u001b[0m\u001b[1;33m]\u001b[0m\u001b[1;33m\u001b[0m\u001b[0m\n\u001b[0;32m   4967\u001b[0m         \u001b[1;32mreturn\u001b[0m \u001b[0mself\u001b[0m\u001b[1;33m.\u001b[0m\u001b[0mdelete\u001b[0m\u001b[1;33m(\u001b[0m\u001b[0mindexer\u001b[0m\u001b[1;33m)\u001b[0m\u001b[1;33m\u001b[0m\u001b[0m\n",
      "\u001b[1;31mKeyError\u001b[0m: \"['How did you hear about X Education'] not found in axis\""
     ]
    }
   ],
   "source": [
    "# Most of the values are null, nearly 75%,so dropping\n",
    "data= data.drop('How did you hear about X Education', axis=1)\n",
    "data.shape"
   ]
  },
  {
   "cell_type": "code",
   "execution_count": 31,
   "metadata": {},
   "outputs": [
    {
     "data": {
      "text/plain": [
       "Unemployed              5600\n",
       "Working Professional     706\n",
       "Student                  210\n",
       "Other                     16\n",
       "Housewife                 10\n",
       "Businessman                8\n",
       "Name: What is your current occupation, dtype: int64"
      ]
     },
     "execution_count": 31,
     "metadata": {},
     "output_type": "execute_result"
    }
   ],
   "source": [
    "data['What is your current occupation'].value_counts()\n"
   ]
  },
  {
   "cell_type": "code",
   "execution_count": 32,
   "metadata": {},
   "outputs": [
    {
     "data": {
      "text/plain": [
       "(array([0, 1, 2, 3, 4, 5]), <a list of 6 Text xticklabel objects>)"
      ]
     },
     "execution_count": 32,
     "metadata": {},
     "output_type": "execute_result"
    },
    {
     "data": {
      "image/png": "[encoded data removed]",
      "text/plain": [
       "<Figure size 576x576 with 1 Axes>"
      ]
     },
     "metadata": {
      "needs_background": "light"
     },
     "output_type": "display_data"
    }
   ],
   "source": [
    "plt.figure(figsize=(8, 8))\n",
    "sns.countplot(data['What is your current occupation'])\n",
    "xticks(rotation = 90)"
   ]
  },
  {
   "cell_type": "code",
   "execution_count": 33,
   "metadata": {},
   "outputs": [
    {
     "data": {
      "text/plain": [
       "Better Career Prospects      6528\n",
       "Flexibility & Convenience       2\n",
       "Other                           1\n",
       "Name: What matters most to you in choosing a course, dtype: int64"
      ]
     },
     "execution_count": 33,
     "metadata": {},
     "output_type": "execute_result"
    }
   ],
   "source": [
    "data['What matters most to you in choosing a course'].value_counts()"
   ]
  },
  {
   "cell_type": "code",
   "execution_count": 34,
   "metadata": {},
   "outputs": [],
   "source": [
    "# 70 % is better career prospects, other option are single digit,nan can be convert to better career prospects\n",
    "data['What matters most to you in choosing a course'] = data['What matters most to you in choosing a course'].replace(np.nan, 'Better Career Prospects')"
   ]
  },
  {
   "cell_type": "code",
   "execution_count": 35,
   "metadata": {},
   "outputs": [
    {
     "data": {
      "text/plain": [
       "(array([0, 1, 2]), <a list of 3 Text xticklabel objects>)"
      ]
     },
     "execution_count": 35,
     "metadata": {},
     "output_type": "execute_result"
    },
    {
     "data": {
      "image/png": "[encoded data removed]",
      "text/plain": [
       "<Figure size 576x576 with 1 Axes>"
      ]
     },
     "metadata": {
      "needs_background": "light"
     },
     "output_type": "display_data"
    }
   ],
   "source": [
    "plt.figure(figsize=(8, 8))\n",
    "sns.countplot(data['What matters most to you in choosing a course'])\n",
    "xticks(rotation = 90)"
   ]
  },
  {
   "cell_type": "code",
   "execution_count": 36,
   "metadata": {},
   "outputs": [
    {
     "data": {
      "text/plain": [
       "Will revert after reading the email                  2072\n",
       "Ringing                                              1203\n",
       "Interested in other courses                           513\n",
       "Already a student                                     465\n",
       "Closed by Horizzon                                    358\n",
       "switched off                                          240\n",
       "Busy                                                  186\n",
       "Lost to EINS                                          175\n",
       "Not doing further education                           145\n",
       "Interested  in full time MBA                          117\n",
       "Graduation in progress                                111\n",
       "invalid number                                         83\n",
       "Diploma holder (Not Eligible)                          63\n",
       "wrong number given                                     47\n",
       "opp hangup                                             33\n",
       "number not provided                                    27\n",
       "in touch with EINS                                     12\n",
       "Lost to Others                                          7\n",
       "Still Thinking                                          6\n",
       "Want to take admission but has financial problems       6\n",
       "In confusion whether part time or DLP                   5\n",
       "Interested in Next batch                                5\n",
       "Lateral student                                         3\n",
       "Shall take in the next coming month                     2\n",
       "University not recognized                               2\n",
       "Recognition issue (DEC approval)                        1\n",
       "Name: Tags, dtype: int64"
      ]
     },
     "execution_count": 36,
     "metadata": {},
     "output_type": "execute_result"
    }
   ],
   "source": [
    "data['Tags'].value_counts()"
   ]
  },
  {
   "cell_type": "code",
   "execution_count": 37,
   "metadata": {},
   "outputs": [
    {
     "data": {
      "text/plain": [
       "(array([ 0,  1,  2,  3,  4,  5,  6,  7,  8,  9, 10, 11, 12, 13, 14, 15, 16,\n",
       "        17, 18, 19, 20, 21, 22, 23, 24, 25]),\n",
       " <a list of 26 Text xticklabel objects>)"
      ]
     },
     "execution_count": 37,
     "metadata": {},
     "output_type": "execute_result"
    },
    {
     "data": {
      "image/png": "[encoded data removed]",
      "text/plain": [
       "<Figure size 576x576 with 1 Axes>"
      ]
     },
     "metadata": {
      "needs_background": "light"
     },
     "output_type": "display_data"
    }
   ],
   "source": [
    "plt.figure(figsize=(8, 8))\n",
    "sns.countplot(data['Tags'])\n",
    "xticks(rotation = 90)"
   ]
  },
  {
   "cell_type": "code",
   "execution_count": 38,
   "metadata": {},
   "outputs": [],
   "source": [
    "#Changing the null to Unknown, as it is set by customer\n",
    "data['Tags'].fillna(\"Unknown\", inplace = True)"
   ]
  },
  {
   "cell_type": "code",
   "execution_count": 39,
   "metadata": {},
   "outputs": [
    {
     "data": {
      "text/plain": [
       "<matplotlib.axes._subplots.AxesSubplot at 0xe8de710>"
      ]
     },
     "execution_count": 39,
     "metadata": {},
     "output_type": "execute_result"
    },
    {
     "data": {
      "image/png": "[encoded data removed]",
      "text/plain": [
       "<Figure size 432x288 with 1 Axes>"
      ]
     },
     "metadata": {
      "needs_background": "light"
     },
     "output_type": "display_data"
    }
   ],
   "source": [
    "sns.countplot(data['Lead Quality'])"
   ]
  },
  {
   "cell_type": "code",
   "execution_count": 40,
   "metadata": {},
   "outputs": [],
   "source": [
    "# as there are lot of \n",
    "data['Lead Quality'].fillna(\"Not Sure\", inplace = True)\n"
   ]
  },
  {
   "cell_type": "code",
   "execution_count": 41,
   "metadata": {},
   "outputs": [
    {
     "data": {
      "text/plain": [
       "array([nan, 'Potential Lead', 'Other Leads', 'Lateral Student',\n",
       "       'Dual Specialization Student', 'Student of SomeSchool'],\n",
       "      dtype=object)"
      ]
     },
     "execution_count": 41,
     "metadata": {},
     "output_type": "execute_result"
    }
   ],
   "source": [
    "data['Lead Profile'].unique()"
   ]
  },
  {
   "cell_type": "code",
   "execution_count": 42,
   "metadata": {},
   "outputs": [
    {
     "data": {
      "text/plain": [
       "(array([0, 1, 2, 3, 4]), <a list of 5 Text xticklabel objects>)"
      ]
     },
     "execution_count": 42,
     "metadata": {},
     "output_type": "execute_result"
    },
    {
     "data": {
      "image/png": "[encoded data removed]",
      "text/plain": [
       "<Figure size 576x576 with 1 Axes>"
      ]
     },
     "metadata": {
      "needs_background": "light"
     },
     "output_type": "display_data"
    }
   ],
   "source": [
    "plt.figure(figsize=(8, 8))\n",
    "sns.countplot(data['Lead Profile'])\n",
    "xticks(rotation = 90)"
   ]
  },
  {
   "cell_type": "code",
   "execution_count": 43,
   "metadata": {},
   "outputs": [
    {
     "data": {
      "text/plain": [
       "6855"
      ]
     },
     "execution_count": 43,
     "metadata": {},
     "output_type": "execute_result"
    }
   ],
   "source": [
    "data['Lead Profile'].isnull().sum()\n"
   ]
  },
  {
   "cell_type": "code",
   "execution_count": 44,
   "metadata": {},
   "outputs": [],
   "source": [
    "#Removing as 70% is null.\n",
    "data = data.drop('Lead Profile', axis=1)\n"
   ]
  },
  {
   "cell_type": "code",
   "execution_count": 45,
   "metadata": {},
   "outputs": [
    {
     "data": {
      "text/plain": [
       "(array([0, 1, 2, 3, 4, 5]), <a list of 6 Text xticklabel objects>)"
      ]
     },
     "execution_count": 45,
     "metadata": {},
     "output_type": "execute_result"
    },
    {
     "data": {
      "image/png": "[encoded data removed]",
      "text/plain": [
       "<Figure size 432x288 with 1 Axes>"
      ]
     },
     "metadata": {
      "needs_background": "light"
     },
     "output_type": "display_data"
    }
   ],
   "source": [
    "sns.countplot(data['City'])\n",
    "from matplotlib.pyplot import xticks\n",
    "xticks(rotation = 90)"
   ]
  },
  {
   "cell_type": "code",
   "execution_count": 46,
   "metadata": {},
   "outputs": [
    {
     "data": {
      "text/plain": [
       "array(['02.Medium', '01.High', '03.Low', nan], dtype=object)"
      ]
     },
     "execution_count": 46,
     "metadata": {},
     "output_type": "execute_result"
    }
   ],
   "source": [
    "\n",
    "data['Asymmetrique Activity Index'].unique()"
   ]
  },
  {
   "cell_type": "code",
   "execution_count": 47,
   "metadata": {},
   "outputs": [
    {
     "data": {
      "text/plain": [
       "(array([0, 1, 2]), <a list of 3 Text xticklabel objects>)"
      ]
     },
     "execution_count": 47,
     "metadata": {},
     "output_type": "execute_result"
    },
    {
     "data": {
      "image/png": "[encoded data removed]",
      "text/plain": [
       "<Figure size 432x288 with 1 Axes>"
      ]
     },
     "metadata": {
      "needs_background": "light"
     },
     "output_type": "display_data"
    }
   ],
   "source": [
    "sns.countplot(data['Asymmetrique Activity Index'])\n",
    "from matplotlib.pyplot import xticks\n",
    "xticks(rotation = 90)"
   ]
  },
  {
   "cell_type": "code",
   "execution_count": 48,
   "metadata": {},
   "outputs": [
    {
     "data": {
      "text/plain": [
       "array(['02.Medium', '01.High', '03.Low', nan], dtype=object)"
      ]
     },
     "execution_count": 48,
     "metadata": {},
     "output_type": "execute_result"
    }
   ],
   "source": [
    "data['Asymmetrique Profile Index'].unique()"
   ]
  },
  {
   "cell_type": "code",
   "execution_count": 49,
   "metadata": {},
   "outputs": [
    {
     "data": {
      "text/plain": [
       "(array([0, 1, 2]), <a list of 3 Text xticklabel objects>)"
      ]
     },
     "execution_count": 49,
     "metadata": {},
     "output_type": "execute_result"
    },
    {
     "data": {
      "image/png": "[encoded data removed]",
      "text/plain": [
       "<Figure size 432x288 with 1 Axes>"
      ]
     },
     "metadata": {
      "needs_background": "light"
     },
     "output_type": "display_data"
    }
   ],
   "source": [
    "sns.countplot(data['Asymmetrique Profile Index'])\n",
    "from matplotlib.pyplot import xticks\n",
    "xticks(rotation = 90)"
   ]
  },
  {
   "cell_type": "code",
   "execution_count": 50,
   "metadata": {},
   "outputs": [],
   "source": [
    "#Removing the Score, as the index is calculated based on this\n",
    "data = data.drop('Asymmetrique Activity Score', axis=1)\n",
    "data = data.drop('Asymmetrique Profile Score', axis=1)"
   ]
  },
  {
   "cell_type": "code",
   "execution_count": 51,
   "metadata": {},
   "outputs": [
    {
     "data": {
      "text/plain": [
       "No    9240\n",
       "Name: I agree to pay the amount through cheque, dtype: int64"
      ]
     },
     "execution_count": 51,
     "metadata": {},
     "output_type": "execute_result"
    }
   ],
   "source": [
    "data['I agree to pay the amount through cheque'].value_counts()"
   ]
  },
  {
   "cell_type": "code",
   "execution_count": 52,
   "metadata": {},
   "outputs": [
    {
     "data": {
      "text/plain": [
       "<matplotlib.axes._subplots.AxesSubplot at 0xf81be10>"
      ]
     },
     "execution_count": 52,
     "metadata": {},
     "output_type": "execute_result"
    },
    {
     "data": {
      "image/png": "[encoded data removed]",
      "text/plain": [
       "<Figure size 432x288 with 1 Axes>"
      ]
     },
     "metadata": {
      "needs_background": "light"
     },
     "output_type": "display_data"
    }
   ],
   "source": [
    "sns.countplot(data['I agree to pay the amount through cheque'])"
   ]
  },
  {
   "cell_type": "code",
   "execution_count": 53,
   "metadata": {},
   "outputs": [],
   "source": [
    "# Remove as all the values are same\n",
    "data = data.drop('I agree to pay the amount through cheque', axis=1)"
   ]
  },
  {
   "cell_type": "code",
   "execution_count": 54,
   "metadata": {},
   "outputs": [
    {
     "data": {
      "text/plain": [
       "No     6352\n",
       "Yes    2888\n",
       "Name: A free copy of Mastering The Interview, dtype: int64"
      ]
     },
     "execution_count": 54,
     "metadata": {},
     "output_type": "execute_result"
    }
   ],
   "source": [
    "data['A free copy of Mastering The Interview'].value_counts()"
   ]
  },
  {
   "cell_type": "code",
   "execution_count": 55,
   "metadata": {},
   "outputs": [
    {
     "data": {
      "text/plain": [
       "<matplotlib.axes._subplots.AxesSubplot at 0xfa15240>"
      ]
     },
     "execution_count": 55,
     "metadata": {},
     "output_type": "execute_result"
    },
    {
     "data": {
      "image/png": "[encoded data removed]",
      "text/plain": [
       "<Figure size 432x288 with 1 Axes>"
      ]
     },
     "metadata": {
      "needs_background": "light"
     },
     "output_type": "display_data"
    }
   ],
   "source": [
    "sns.countplot(data['A free copy of Mastering The Interview'])"
   ]
  },
  {
   "cell_type": "code",
   "execution_count": 56,
   "metadata": {},
   "outputs": [
    {
     "data": {
      "text/plain": [
       "(array([ 0,  1,  2,  3,  4,  5,  6,  7,  8,  9, 10, 11, 12, 13, 14, 15]),\n",
       " <a list of 16 Text xticklabel objects>)"
      ]
     },
     "execution_count": 56,
     "metadata": {},
     "output_type": "execute_result"
    },
    {
     "data": {
      "image/png": "[encoded data removed]",
      "text/plain": [
       "<Figure size 432x288 with 1 Axes>"
      ]
     },
     "metadata": {
      "needs_background": "light"
     },
     "output_type": "display_data"
    }
   ],
   "source": [
    "sns.countplot(data['Last Notable Activity'])\n",
    "xticks(rotation = 90)"
   ]
  },
  {
   "cell_type": "code",
   "execution_count": 57,
   "metadata": {},
   "outputs": [
    {
     "data": {
      "text/plain": [
       "<matplotlib.axes._subplots.AxesSubplot at 0xfc9c5f8>"
      ]
     },
     "execution_count": 57,
     "metadata": {},
     "output_type": "execute_result"
    },
    {
     "data": {
      "image/png": "[encoded data removed]",
      "text/plain": [
       "<Figure size 432x288 with 1 Axes>"
      ]
     },
     "metadata": {
      "needs_background": "light"
     },
     "output_type": "display_data"
    }
   ],
   "source": [
    "sns.countplot(data['Do Not Call'])"
   ]
  },
  {
   "cell_type": "code",
   "execution_count": 58,
   "metadata": {},
   "outputs": [
    {
     "data": {
      "text/plain": [
       "<matplotlib.axes._subplots.AxesSubplot at 0xf6627f0>"
      ]
     },
     "execution_count": 58,
     "metadata": {},
     "output_type": "execute_result"
    },
    {
     "data": {
      "image/png": "[encoded data removed]",
      "text/plain": [
       "<Figure size 432x288 with 1 Axes>"
      ]
     },
     "metadata": {
      "needs_background": "light"
     },
     "output_type": "display_data"
    }
   ],
   "source": [
    "sns.countplot(data['Do Not Email'])"
   ]
  },
  {
   "cell_type": "code",
   "execution_count": 59,
   "metadata": {},
   "outputs": [
    {
     "data": {
      "text/plain": [
       "(array([0, 1, 2, 3, 4, 5]), <a list of 6 Text xticklabel objects>)"
      ]
     },
     "execution_count": 59,
     "metadata": {},
     "output_type": "execute_result"
    },
    {
     "data": {
      "image/png": "[encoded data removed]",
      "text/plain": [
       "<Figure size 720x360 with 1 Axes>"
      ]
     },
     "metadata": {
      "needs_background": "light"
     },
     "output_type": "display_data"
    }
   ],
   "source": [
    "plt.figure(figsize=(10, 5))\n",
    "\n",
    "sns.countplot(data['What is your current occupation'])\n",
    "from matplotlib.pyplot import xticks\n",
    "xticks(rotation = 90)"
   ]
  },
  {
   "cell_type": "code",
   "execution_count": 60,
   "metadata": {},
   "outputs": [
    {
     "data": {
      "text/plain": [
       "(array([0, 1, 2]), <a list of 3 Text xticklabel objects>)"
      ]
     },
     "execution_count": 60,
     "metadata": {},
     "output_type": "execute_result"
    },
    {
     "data": {
      "image/png": "[encoded data removed]",
      "text/plain": [
       "<Figure size 432x288 with 1 Axes>"
      ]
     },
     "metadata": {
      "needs_background": "light"
     },
     "output_type": "display_data"
    }
   ],
   "source": [
    "sns.countplot(data['What matters most to you in choosing a course'])\n",
    "from matplotlib.pyplot import xticks\n",
    "xticks(rotation = 90)"
   ]
  },
  {
   "cell_type": "code",
   "execution_count": 61,
   "metadata": {},
   "outputs": [
    {
     "data": {
      "text/plain": [
       "<matplotlib.axes._subplots.AxesSubplot at 0x107b9c50>"
      ]
     },
     "execution_count": 61,
     "metadata": {},
     "output_type": "execute_result"
    },
    {
     "data": {
      "image/png": "[encoded data removed]",
      "text/plain": [
       "<Figure size 432x288 with 1 Axes>"
      ]
     },
     "metadata": {
      "needs_background": "light"
     },
     "output_type": "display_data"
    }
   ],
   "source": [
    "sns.boxplot(data['TotalVisits'])"
   ]
  },
  {
   "cell_type": "code",
   "execution_count": 62,
   "metadata": {},
   "outputs": [],
   "source": [
    "Q1 = data.TotalVisits.quantile(0.05)\n",
    "Q2 = data.TotalVisits.quantile(0.95)\n",
    "data= data[(data.TotalVisits>=Q1) & (data.TotalVisits<=Q2)]"
   ]
  },
  {
   "cell_type": "code",
   "execution_count": 63,
   "metadata": {},
   "outputs": [
    {
     "data": {
      "text/plain": [
       "<matplotlib.axes._subplots.AxesSubplot at 0x108340f0>"
      ]
     },
     "execution_count": 63,
     "metadata": {},
     "output_type": "execute_result"
    },
    {
     "data": {
      "image/png": "[encoded data removed]",
      "text/plain": [
       "<Figure size 432x288 with 1 Axes>"
      ]
     },
     "metadata": {
      "needs_background": "light"
     },
     "output_type": "display_data"
    }
   ],
   "source": [
    "sns.boxplot(data['Total Time Spent on Website'])"
   ]
  },
  {
   "cell_type": "code",
   "execution_count": 64,
   "metadata": {},
   "outputs": [
    {
     "data": {
      "text/plain": [
       "<matplotlib.axes._subplots.AxesSubplot at 0x10cdac50>"
      ]
     },
     "execution_count": 64,
     "metadata": {},
     "output_type": "execute_result"
    },
    {
     "data": {
      "image/png": "[encoded data removed]",
      "text/plain": [
       "<Figure size 432x288 with 1 Axes>"
      ]
     },
     "metadata": {
      "needs_background": "light"
     },
     "output_type": "display_data"
    }
   ],
   "source": [
    "sns.boxplot(data['Page Views Per Visit'])"
   ]
  },
  {
   "cell_type": "code",
   "execution_count": 65,
   "metadata": {},
   "outputs": [],
   "source": [
    "Q1 = data['Page Views Per Visit'].quantile(0.05)\n",
    "Q2 = data['Page Views Per Visit'].quantile(0.95)\n",
    "data= data[(data['Page Views Per Visit']>=Q1) & (data['Page Views Per Visit']<=Q2)]"
   ]
  },
  {
   "cell_type": "code",
   "execution_count": 66,
   "metadata": {},
   "outputs": [
    {
     "data": {
      "text/plain": [
       "<matplotlib.axes._subplots.AxesSubplot at 0xf96db70>"
      ]
     },
     "execution_count": 66,
     "metadata": {},
     "output_type": "execute_result"
    },
    {
     "data": {
      "image/png": "[encoded data removed]",
      "text/plain": [
       "<Figure size 432x288 with 1 Axes>"
      ]
     },
     "metadata": {
      "needs_background": "light"
     },
     "output_type": "display_data"
    }
   ],
   "source": [
    "sns.countplot(data['Search'])\n"
   ]
  },
  {
   "cell_type": "code",
   "execution_count": 67,
   "metadata": {},
   "outputs": [
    {
     "data": {
      "text/plain": [
       "<matplotlib.axes._subplots.AxesSubplot at 0x108347b8>"
      ]
     },
     "execution_count": 67,
     "metadata": {},
     "output_type": "execute_result"
    },
    {
     "data": {
      "image/png": "[encoded data removed]",
      "text/plain": [
       "<Figure size 432x288 with 1 Axes>"
      ]
     },
     "metadata": {
      "needs_background": "light"
     },
     "output_type": "display_data"
    }
   ],
   "source": [
    "sns.countplot(data['Magazine'])"
   ]
  },
  {
   "cell_type": "code",
   "execution_count": null,
   "metadata": {},
   "outputs": [],
   "source": []
  },
  {
   "cell_type": "code",
   "execution_count": 68,
   "metadata": {},
   "outputs": [
    {
     "data": {
      "text/plain": [
       "<matplotlib.axes._subplots.AxesSubplot at 0x1100fb38>"
      ]
     },
     "execution_count": 68,
     "metadata": {},
     "output_type": "execute_result"
    },
    {
     "data": {
      "image/png": "[encoded data removed]",
      "text/plain": [
       "<Figure size 432x288 with 1 Axes>"
      ]
     },
     "metadata": {
      "needs_background": "light"
     },
     "output_type": "display_data"
    }
   ],
   "source": [
    "sns.countplot(data['X Education Forums'])"
   ]
  },
  {
   "cell_type": "code",
   "execution_count": 69,
   "metadata": {},
   "outputs": [
    {
     "data": {
      "text/plain": [
       "<matplotlib.axes._subplots.AxesSubplot at 0x113bbe10>"
      ]
     },
     "execution_count": 69,
     "metadata": {},
     "output_type": "execute_result"
    },
    {
     "data": {
      "image/png": "[encoded data removed]",
      "text/plain": [
       "<Figure size 432x288 with 1 Axes>"
      ]
     },
     "metadata": {
      "needs_background": "light"
     },
     "output_type": "display_data"
    }
   ],
   "source": [
    "sns.countplot(data['Newspaper'])\n"
   ]
  },
  {
   "cell_type": "code",
   "execution_count": 70,
   "metadata": {},
   "outputs": [
    {
     "data": {
      "text/plain": [
       "<matplotlib.axes._subplots.AxesSubplot at 0x114ad7b8>"
      ]
     },
     "execution_count": 70,
     "metadata": {},
     "output_type": "execute_result"
    },
    {
     "data": {
      "image/png": "[encoded data removed]",
      "text/plain": [
       "<Figure size 432x288 with 1 Axes>"
      ]
     },
     "metadata": {
      "needs_background": "light"
     },
     "output_type": "display_data"
    }
   ],
   "source": [
    "sns.countplot(data['Digital Advertisement'])"
   ]
  },
  {
   "cell_type": "code",
   "execution_count": 71,
   "metadata": {},
   "outputs": [
    {
     "data": {
      "text/plain": [
       "<matplotlib.axes._subplots.AxesSubplot at 0x116e7c88>"
      ]
     },
     "execution_count": 71,
     "metadata": {},
     "output_type": "execute_result"
    },
    {
     "data": {
      "image/png": "[encoded data removed]",
      "text/plain": [
       "<Figure size 432x288 with 1 Axes>"
      ]
     },
     "metadata": {
      "needs_background": "light"
     },
     "output_type": "display_data"
    }
   ],
   "source": [
    "sns.countplot(data['Through Recommendations'])\n"
   ]
  },
  {
   "cell_type": "code",
   "execution_count": 72,
   "metadata": {},
   "outputs": [
    {
     "data": {
      "text/plain": [
       "<matplotlib.axes._subplots.AxesSubplot at 0x1167f748>"
      ]
     },
     "execution_count": 72,
     "metadata": {},
     "output_type": "execute_result"
    },
    {
     "data": {
      "image/png": "[encoded data removed]",
      "text/plain": [
       "<Figure size 432x288 with 1 Axes>"
      ]
     },
     "metadata": {
      "needs_background": "light"
     },
     "output_type": "display_data"
    }
   ],
   "source": [
    "sns.countplot(data['Receive More Updates About Our Courses'])"
   ]
  },
  {
   "cell_type": "code",
   "execution_count": 73,
   "metadata": {},
   "outputs": [
    {
     "data": {
      "text/plain": [
       "<matplotlib.axes._subplots.AxesSubplot at 0x11879c50>"
      ]
     },
     "execution_count": 73,
     "metadata": {},
     "output_type": "execute_result"
    },
    {
     "data": {
      "image/png": "[encoded data removed]",
      "text/plain": [
       "<Figure size 432x288 with 1 Axes>"
      ]
     },
     "metadata": {
      "needs_background": "light"
     },
     "output_type": "display_data"
    }
   ],
   "source": [
    "sns.countplot(data['Update me on Supply Chain Content'])"
   ]
  },
  {
   "cell_type": "code",
   "execution_count": 74,
   "metadata": {},
   "outputs": [
    {
     "data": {
      "text/plain": [
       "<matplotlib.axes._subplots.AxesSubplot at 0x11be1f98>"
      ]
     },
     "execution_count": 74,
     "metadata": {},
     "output_type": "execute_result"
    },
    {
     "data": {
      "image/png": "[encoded data removed]",
      "text/plain": [
       "<Figure size 432x288 with 1 Axes>"
      ]
     },
     "metadata": {
      "needs_background": "light"
     },
     "output_type": "display_data"
    }
   ],
   "source": [
    "sns.countplot(data['Get updates on DM Content'])"
   ]
  },
  {
   "cell_type": "code",
   "execution_count": 75,
   "metadata": {},
   "outputs": [],
   "source": [
    "data = data.drop('Prospect ID', axis=1)"
   ]
  },
  {
   "cell_type": "code",
   "execution_count": 76,
   "metadata": {},
   "outputs": [],
   "source": [
    "data = data.drop(['Search','Magazine','Newspaper Article','X Education Forums','Newspaper','Digital Advertisement','Through Recommendations',\n",
    "          'Receive More Updates About Our Courses','Update me on Supply Chain Content','Get updates on DM Content',\n",
    "          'A free copy of Mastering The Interview'],axis=1)\n",
    "        "
   ]
  },
  {
   "cell_type": "code",
   "execution_count": 77,
   "metadata": {},
   "outputs": [
    {
     "data": {
      "text/html": [
       "<div>\n",
       "<style scoped>\n",
       "    .dataframe tbody tr th:only-of-type {\n",
       "        vertical-align: middle;\n",
       "    }\n",
       "\n",
       "    .dataframe tbody tr th {\n",
       "        vertical-align: top;\n",
       "    }\n",
       "\n",
       "    .dataframe thead th {\n",
       "        text-align: right;\n",
       "    }\n",
       "</style>\n",
       "<table border=\"1\" class=\"dataframe\">\n",
       "  <thead>\n",
       "    <tr style=\"text-align: right;\">\n",
       "      <th></th>\n",
       "      <th>Lead Origin_Landing Page Submission</th>\n",
       "      <th>Lead Origin_Lead Add Form</th>\n",
       "      <th>Lead Origin_Lead Import</th>\n",
       "      <th>Lead Source_Direct Traffic</th>\n",
       "      <th>Lead Source_Facebook</th>\n",
       "      <th>Lead Source_Google</th>\n",
       "      <th>Lead Source_Live Chat</th>\n",
       "      <th>Lead Source_NC_EDM</th>\n",
       "      <th>Lead Source_Olark Chat</th>\n",
       "      <th>Lead Source_Organic Search</th>\n",
       "      <th>...</th>\n",
       "      <th>Last Notable Activity_Unreachable</th>\n",
       "      <th>Last Notable Activity_Unsubscribed</th>\n",
       "      <th>Last Notable Activity_View in browser link Clicked</th>\n",
       "      <th>Country_Outside India</th>\n",
       "      <th>What matters most to you in choosing a course_Flexibility &amp; Convenience</th>\n",
       "      <th>What matters most to you in choosing a course_Other</th>\n",
       "      <th>Asymmetrique Activity Index_02.Medium</th>\n",
       "      <th>Asymmetrique Activity Index_03.Low</th>\n",
       "      <th>Asymmetrique Profile Index_02.Medium</th>\n",
       "      <th>Asymmetrique Profile Index_03.Low</th>\n",
       "    </tr>\n",
       "  </thead>\n",
       "  <tbody>\n",
       "    <tr>\n",
       "      <th>0</th>\n",
       "      <td>0</td>\n",
       "      <td>0</td>\n",
       "      <td>0</td>\n",
       "      <td>0</td>\n",
       "      <td>0</td>\n",
       "      <td>0</td>\n",
       "      <td>0</td>\n",
       "      <td>0</td>\n",
       "      <td>1</td>\n",
       "      <td>0</td>\n",
       "      <td>...</td>\n",
       "      <td>0</td>\n",
       "      <td>0</td>\n",
       "      <td>0</td>\n",
       "      <td>1</td>\n",
       "      <td>0</td>\n",
       "      <td>0</td>\n",
       "      <td>1</td>\n",
       "      <td>0</td>\n",
       "      <td>1</td>\n",
       "      <td>0</td>\n",
       "    </tr>\n",
       "    <tr>\n",
       "      <th>1</th>\n",
       "      <td>0</td>\n",
       "      <td>0</td>\n",
       "      <td>0</td>\n",
       "      <td>0</td>\n",
       "      <td>0</td>\n",
       "      <td>0</td>\n",
       "      <td>0</td>\n",
       "      <td>0</td>\n",
       "      <td>0</td>\n",
       "      <td>1</td>\n",
       "      <td>...</td>\n",
       "      <td>0</td>\n",
       "      <td>0</td>\n",
       "      <td>0</td>\n",
       "      <td>0</td>\n",
       "      <td>0</td>\n",
       "      <td>0</td>\n",
       "      <td>1</td>\n",
       "      <td>0</td>\n",
       "      <td>1</td>\n",
       "      <td>0</td>\n",
       "    </tr>\n",
       "    <tr>\n",
       "      <th>2</th>\n",
       "      <td>1</td>\n",
       "      <td>0</td>\n",
       "      <td>0</td>\n",
       "      <td>1</td>\n",
       "      <td>0</td>\n",
       "      <td>0</td>\n",
       "      <td>0</td>\n",
       "      <td>0</td>\n",
       "      <td>0</td>\n",
       "      <td>0</td>\n",
       "      <td>...</td>\n",
       "      <td>0</td>\n",
       "      <td>0</td>\n",
       "      <td>0</td>\n",
       "      <td>0</td>\n",
       "      <td>0</td>\n",
       "      <td>0</td>\n",
       "      <td>1</td>\n",
       "      <td>0</td>\n",
       "      <td>0</td>\n",
       "      <td>0</td>\n",
       "    </tr>\n",
       "    <tr>\n",
       "      <th>3</th>\n",
       "      <td>1</td>\n",
       "      <td>0</td>\n",
       "      <td>0</td>\n",
       "      <td>1</td>\n",
       "      <td>0</td>\n",
       "      <td>0</td>\n",
       "      <td>0</td>\n",
       "      <td>0</td>\n",
       "      <td>0</td>\n",
       "      <td>0</td>\n",
       "      <td>...</td>\n",
       "      <td>0</td>\n",
       "      <td>0</td>\n",
       "      <td>0</td>\n",
       "      <td>0</td>\n",
       "      <td>0</td>\n",
       "      <td>0</td>\n",
       "      <td>1</td>\n",
       "      <td>0</td>\n",
       "      <td>0</td>\n",
       "      <td>0</td>\n",
       "    </tr>\n",
       "    <tr>\n",
       "      <th>4</th>\n",
       "      <td>1</td>\n",
       "      <td>0</td>\n",
       "      <td>0</td>\n",
       "      <td>0</td>\n",
       "      <td>0</td>\n",
       "      <td>1</td>\n",
       "      <td>0</td>\n",
       "      <td>0</td>\n",
       "      <td>0</td>\n",
       "      <td>0</td>\n",
       "      <td>...</td>\n",
       "      <td>0</td>\n",
       "      <td>0</td>\n",
       "      <td>0</td>\n",
       "      <td>0</td>\n",
       "      <td>0</td>\n",
       "      <td>0</td>\n",
       "      <td>1</td>\n",
       "      <td>0</td>\n",
       "      <td>0</td>\n",
       "      <td>0</td>\n",
       "    </tr>\n",
       "  </tbody>\n",
       "</table>\n",
       "<p>5 rows × 117 columns</p>\n",
       "</div>"
      ],
      "text/plain": [
       "   Lead Origin_Landing Page Submission  Lead Origin_Lead Add Form  \\\n",
       "0                                    0                          0   \n",
       "1                                    0                          0   \n",
       "2                                    1                          0   \n",
       "3                                    1                          0   \n",
       "4                                    1                          0   \n",
       "\n",
       "   Lead Origin_Lead Import  Lead Source_Direct Traffic  Lead Source_Facebook  \\\n",
       "0                        0                           0                     0   \n",
       "1                        0                           0                     0   \n",
       "2                        0                           1                     0   \n",
       "3                        0                           1                     0   \n",
       "4                        0                           0                     0   \n",
       "\n",
       "   Lead Source_Google  Lead Source_Live Chat  Lead Source_NC_EDM  \\\n",
       "0                   0                      0                   0   \n",
       "1                   0                      0                   0   \n",
       "2                   0                      0                   0   \n",
       "3                   0                      0                   0   \n",
       "4                   1                      0                   0   \n",
       "\n",
       "   Lead Source_Olark Chat  Lead Source_Organic Search  ...  \\\n",
       "0                       1                           0  ...   \n",
       "1                       0                           1  ...   \n",
       "2                       0                           0  ...   \n",
       "3                       0                           0  ...   \n",
       "4                       0                           0  ...   \n",
       "\n",
       "   Last Notable Activity_Unreachable  Last Notable Activity_Unsubscribed  \\\n",
       "0                                  0                                   0   \n",
       "1                                  0                                   0   \n",
       "2                                  0                                   0   \n",
       "3                                  0                                   0   \n",
       "4                                  0                                   0   \n",
       "\n",
       "   Last Notable Activity_View in browser link Clicked  Country_Outside India  \\\n",
       "0                                                  0                       1   \n",
       "1                                                  0                       0   \n",
       "2                                                  0                       0   \n",
       "3                                                  0                       0   \n",
       "4                                                  0                       0   \n",
       "\n",
       "   What matters most to you in choosing a course_Flexibility & Convenience  \\\n",
       "0                                                  0                         \n",
       "1                                                  0                         \n",
       "2                                                  0                         \n",
       "3                                                  0                         \n",
       "4                                                  0                         \n",
       "\n",
       "   What matters most to you in choosing a course_Other  \\\n",
       "0                                                  0     \n",
       "1                                                  0     \n",
       "2                                                  0     \n",
       "3                                                  0     \n",
       "4                                                  0     \n",
       "\n",
       "   Asymmetrique Activity Index_02.Medium  Asymmetrique Activity Index_03.Low  \\\n",
       "0                                      1                                   0   \n",
       "1                                      1                                   0   \n",
       "2                                      1                                   0   \n",
       "3                                      1                                   0   \n",
       "4                                      1                                   0   \n",
       "\n",
       "   Asymmetrique Profile Index_02.Medium  Asymmetrique Profile Index_03.Low  \n",
       "0                                     1                                  0  \n",
       "1                                     1                                  0  \n",
       "2                                     0                                  0  \n",
       "3                                     0                                  0  \n",
       "4                                     0                                  0  \n",
       "\n",
       "[5 rows x 117 columns]"
      ]
     },
     "execution_count": 77,
     "metadata": {},
     "output_type": "execute_result"
    }
   ],
   "source": [
    "dummy1 = pd.get_dummies(data[['Lead Origin', 'Lead Source', 'Last Activity', 'Specialization','What is your current occupation',\n",
    "                              'Tags','Lead Quality','City','Last Notable Activity',\n",
    "                             'Country','What matters most to you in choosing a course','Asymmetrique Activity Index','Asymmetrique Profile Index']], drop_first=True)\n",
    "dummy1.head()"
   ]
  },
  {
   "cell_type": "code",
   "execution_count": 78,
   "metadata": {},
   "outputs": [
    {
     "data": {
      "text/html": [
       "<div>\n",
       "<style scoped>\n",
       "    .dataframe tbody tr th:only-of-type {\n",
       "        vertical-align: middle;\n",
       "    }\n",
       "\n",
       "    .dataframe tbody tr th {\n",
       "        vertical-align: top;\n",
       "    }\n",
       "\n",
       "    .dataframe thead th {\n",
       "        text-align: right;\n",
       "    }\n",
       "</style>\n",
       "<table border=\"1\" class=\"dataframe\">\n",
       "  <thead>\n",
       "    <tr style=\"text-align: right;\">\n",
       "      <th></th>\n",
       "      <th>Lead Number</th>\n",
       "      <th>Lead Origin</th>\n",
       "      <th>Lead Source</th>\n",
       "      <th>Do Not Email</th>\n",
       "      <th>Do Not Call</th>\n",
       "      <th>Converted</th>\n",
       "      <th>TotalVisits</th>\n",
       "      <th>Total Time Spent on Website</th>\n",
       "      <th>Page Views Per Visit</th>\n",
       "      <th>Last Activity</th>\n",
       "      <th>...</th>\n",
       "      <th>Last Notable Activity_Unreachable</th>\n",
       "      <th>Last Notable Activity_Unsubscribed</th>\n",
       "      <th>Last Notable Activity_View in browser link Clicked</th>\n",
       "      <th>Country_Outside India</th>\n",
       "      <th>What matters most to you in choosing a course_Flexibility &amp; Convenience</th>\n",
       "      <th>What matters most to you in choosing a course_Other</th>\n",
       "      <th>Asymmetrique Activity Index_02.Medium</th>\n",
       "      <th>Asymmetrique Activity Index_03.Low</th>\n",
       "      <th>Asymmetrique Profile Index_02.Medium</th>\n",
       "      <th>Asymmetrique Profile Index_03.Low</th>\n",
       "    </tr>\n",
       "  </thead>\n",
       "  <tbody>\n",
       "    <tr>\n",
       "      <th>0</th>\n",
       "      <td>660737</td>\n",
       "      <td>API</td>\n",
       "      <td>Olark Chat</td>\n",
       "      <td>No</td>\n",
       "      <td>No</td>\n",
       "      <td>0</td>\n",
       "      <td>0.0</td>\n",
       "      <td>0</td>\n",
       "      <td>0.0</td>\n",
       "      <td>Page Visited on Website</td>\n",
       "      <td>...</td>\n",
       "      <td>0</td>\n",
       "      <td>0</td>\n",
       "      <td>0</td>\n",
       "      <td>1</td>\n",
       "      <td>0</td>\n",
       "      <td>0</td>\n",
       "      <td>1</td>\n",
       "      <td>0</td>\n",
       "      <td>1</td>\n",
       "      <td>0</td>\n",
       "    </tr>\n",
       "    <tr>\n",
       "      <th>1</th>\n",
       "      <td>660728</td>\n",
       "      <td>API</td>\n",
       "      <td>Organic Search</td>\n",
       "      <td>No</td>\n",
       "      <td>No</td>\n",
       "      <td>0</td>\n",
       "      <td>5.0</td>\n",
       "      <td>674</td>\n",
       "      <td>2.5</td>\n",
       "      <td>Email Opened</td>\n",
       "      <td>...</td>\n",
       "      <td>0</td>\n",
       "      <td>0</td>\n",
       "      <td>0</td>\n",
       "      <td>0</td>\n",
       "      <td>0</td>\n",
       "      <td>0</td>\n",
       "      <td>1</td>\n",
       "      <td>0</td>\n",
       "      <td>1</td>\n",
       "      <td>0</td>\n",
       "    </tr>\n",
       "    <tr>\n",
       "      <th>2</th>\n",
       "      <td>660727</td>\n",
       "      <td>Landing Page Submission</td>\n",
       "      <td>Direct Traffic</td>\n",
       "      <td>No</td>\n",
       "      <td>No</td>\n",
       "      <td>1</td>\n",
       "      <td>2.0</td>\n",
       "      <td>1532</td>\n",
       "      <td>2.0</td>\n",
       "      <td>Email Opened</td>\n",
       "      <td>...</td>\n",
       "      <td>0</td>\n",
       "      <td>0</td>\n",
       "      <td>0</td>\n",
       "      <td>0</td>\n",
       "      <td>0</td>\n",
       "      <td>0</td>\n",
       "      <td>1</td>\n",
       "      <td>0</td>\n",
       "      <td>0</td>\n",
       "      <td>0</td>\n",
       "    </tr>\n",
       "    <tr>\n",
       "      <th>3</th>\n",
       "      <td>660719</td>\n",
       "      <td>Landing Page Submission</td>\n",
       "      <td>Direct Traffic</td>\n",
       "      <td>No</td>\n",
       "      <td>No</td>\n",
       "      <td>0</td>\n",
       "      <td>1.0</td>\n",
       "      <td>305</td>\n",
       "      <td>1.0</td>\n",
       "      <td>Unreachable</td>\n",
       "      <td>...</td>\n",
       "      <td>0</td>\n",
       "      <td>0</td>\n",
       "      <td>0</td>\n",
       "      <td>0</td>\n",
       "      <td>0</td>\n",
       "      <td>0</td>\n",
       "      <td>1</td>\n",
       "      <td>0</td>\n",
       "      <td>0</td>\n",
       "      <td>0</td>\n",
       "    </tr>\n",
       "    <tr>\n",
       "      <th>4</th>\n",
       "      <td>660681</td>\n",
       "      <td>Landing Page Submission</td>\n",
       "      <td>Google</td>\n",
       "      <td>No</td>\n",
       "      <td>No</td>\n",
       "      <td>1</td>\n",
       "      <td>2.0</td>\n",
       "      <td>1428</td>\n",
       "      <td>1.0</td>\n",
       "      <td>Converted to Lead</td>\n",
       "      <td>...</td>\n",
       "      <td>0</td>\n",
       "      <td>0</td>\n",
       "      <td>0</td>\n",
       "      <td>0</td>\n",
       "      <td>0</td>\n",
       "      <td>0</td>\n",
       "      <td>1</td>\n",
       "      <td>0</td>\n",
       "      <td>0</td>\n",
       "      <td>0</td>\n",
       "    </tr>\n",
       "  </tbody>\n",
       "</table>\n",
       "<p>5 rows × 137 columns</p>\n",
       "</div>"
      ],
      "text/plain": [
       "   Lead Number              Lead Origin     Lead Source Do Not Email  \\\n",
       "0       660737                      API      Olark Chat           No   \n",
       "1       660728                      API  Organic Search           No   \n",
       "2       660727  Landing Page Submission  Direct Traffic           No   \n",
       "3       660719  Landing Page Submission  Direct Traffic           No   \n",
       "4       660681  Landing Page Submission          Google           No   \n",
       "\n",
       "  Do Not Call  Converted  TotalVisits  Total Time Spent on Website  \\\n",
       "0          No          0          0.0                            0   \n",
       "1          No          0          5.0                          674   \n",
       "2          No          1          2.0                         1532   \n",
       "3          No          0          1.0                          305   \n",
       "4          No          1          2.0                         1428   \n",
       "\n",
       "   Page Views Per Visit            Last Activity  ...  \\\n",
       "0                   0.0  Page Visited on Website  ...   \n",
       "1                   2.5             Email Opened  ...   \n",
       "2                   2.0             Email Opened  ...   \n",
       "3                   1.0              Unreachable  ...   \n",
       "4                   1.0        Converted to Lead  ...   \n",
       "\n",
       "  Last Notable Activity_Unreachable Last Notable Activity_Unsubscribed  \\\n",
       "0                                 0                                  0   \n",
       "1                                 0                                  0   \n",
       "2                                 0                                  0   \n",
       "3                                 0                                  0   \n",
       "4                                 0                                  0   \n",
       "\n",
       "  Last Notable Activity_View in browser link Clicked Country_Outside India  \\\n",
       "0                                                  0                     1   \n",
       "1                                                  0                     0   \n",
       "2                                                  0                     0   \n",
       "3                                                  0                     0   \n",
       "4                                                  0                     0   \n",
       "\n",
       "  What matters most to you in choosing a course_Flexibility & Convenience  \\\n",
       "0                                                  0                        \n",
       "1                                                  0                        \n",
       "2                                                  0                        \n",
       "3                                                  0                        \n",
       "4                                                  0                        \n",
       "\n",
       "  What matters most to you in choosing a course_Other  \\\n",
       "0                                                  0    \n",
       "1                                                  0    \n",
       "2                                                  0    \n",
       "3                                                  0    \n",
       "4                                                  0    \n",
       "\n",
       "  Asymmetrique Activity Index_02.Medium Asymmetrique Activity Index_03.Low  \\\n",
       "0                                     1                                  0   \n",
       "1                                     1                                  0   \n",
       "2                                     1                                  0   \n",
       "3                                     1                                  0   \n",
       "4                                     1                                  0   \n",
       "\n",
       "  Asymmetrique Profile Index_02.Medium Asymmetrique Profile Index_03.Low  \n",
       "0                                    1                                 0  \n",
       "1                                    1                                 0  \n",
       "2                                    0                                 0  \n",
       "3                                    0                                 0  \n",
       "4                                    0                                 0  \n",
       "\n",
       "[5 rows x 137 columns]"
      ]
     },
     "execution_count": 78,
     "metadata": {},
     "output_type": "execute_result"
    }
   ],
   "source": [
    "# Adding the results to the master dataframe\n",
    "data = pd.concat([data, dummy1], axis=1)\n",
    "data.head()"
   ]
  },
  {
   "cell_type": "code",
   "execution_count": 79,
   "metadata": {},
   "outputs": [],
   "source": [
    "data = data.drop(['Lead Origin', 'Lead Source', 'Last Activity', 'Specialization','What is your current occupation','Tags','Lead Quality','City','Last Notable Activity','Country','What matters most to you in choosing a course','Asymmetrique Activity Index','Asymmetrique Profile Index'], axis = 1)"
   ]
  },
  {
   "cell_type": "code",
   "execution_count": 80,
   "metadata": {},
   "outputs": [],
   "source": [
    "\n",
    "varlist =  ['Do Not Email', 'Do Not Call']\n",
    "\n",
    "def binary_map(x):\n",
    "    return x.map({'Yes': 1, 'No': 0})\n",
    "\n",
    "data[varlist] = data[varlist].apply(binary_map)\n",
    "\n"
   ]
  },
  {
   "cell_type": "code",
   "execution_count": 81,
   "metadata": {},
   "outputs": [
    {
     "data": {
      "text/html": [
       "<div>\n",
       "<style scoped>\n",
       "    .dataframe tbody tr th:only-of-type {\n",
       "        vertical-align: middle;\n",
       "    }\n",
       "\n",
       "    .dataframe tbody tr th {\n",
       "        vertical-align: top;\n",
       "    }\n",
       "\n",
       "    .dataframe thead th {\n",
       "        text-align: right;\n",
       "    }\n",
       "</style>\n",
       "<table border=\"1\" class=\"dataframe\">\n",
       "  <thead>\n",
       "    <tr style=\"text-align: right;\">\n",
       "      <th></th>\n",
       "      <th>Lead Number</th>\n",
       "      <th>Do Not Email</th>\n",
       "      <th>Do Not Call</th>\n",
       "      <th>Converted</th>\n",
       "      <th>TotalVisits</th>\n",
       "      <th>Total Time Spent on Website</th>\n",
       "      <th>Page Views Per Visit</th>\n",
       "      <th>Lead Origin_Landing Page Submission</th>\n",
       "      <th>Lead Origin_Lead Add Form</th>\n",
       "      <th>Lead Origin_Lead Import</th>\n",
       "      <th>...</th>\n",
       "      <th>Last Notable Activity_Unreachable</th>\n",
       "      <th>Last Notable Activity_Unsubscribed</th>\n",
       "      <th>Last Notable Activity_View in browser link Clicked</th>\n",
       "      <th>Country_Outside India</th>\n",
       "      <th>What matters most to you in choosing a course_Flexibility &amp; Convenience</th>\n",
       "      <th>What matters most to you in choosing a course_Other</th>\n",
       "      <th>Asymmetrique Activity Index_02.Medium</th>\n",
       "      <th>Asymmetrique Activity Index_03.Low</th>\n",
       "      <th>Asymmetrique Profile Index_02.Medium</th>\n",
       "      <th>Asymmetrique Profile Index_03.Low</th>\n",
       "    </tr>\n",
       "  </thead>\n",
       "  <tbody>\n",
       "    <tr>\n",
       "      <th>0</th>\n",
       "      <td>660737</td>\n",
       "      <td>0</td>\n",
       "      <td>0</td>\n",
       "      <td>0</td>\n",
       "      <td>0.0</td>\n",
       "      <td>0</td>\n",
       "      <td>0.0</td>\n",
       "      <td>0</td>\n",
       "      <td>0</td>\n",
       "      <td>0</td>\n",
       "      <td>...</td>\n",
       "      <td>0</td>\n",
       "      <td>0</td>\n",
       "      <td>0</td>\n",
       "      <td>1</td>\n",
       "      <td>0</td>\n",
       "      <td>0</td>\n",
       "      <td>1</td>\n",
       "      <td>0</td>\n",
       "      <td>1</td>\n",
       "      <td>0</td>\n",
       "    </tr>\n",
       "    <tr>\n",
       "      <th>1</th>\n",
       "      <td>660728</td>\n",
       "      <td>0</td>\n",
       "      <td>0</td>\n",
       "      <td>0</td>\n",
       "      <td>5.0</td>\n",
       "      <td>674</td>\n",
       "      <td>2.5</td>\n",
       "      <td>0</td>\n",
       "      <td>0</td>\n",
       "      <td>0</td>\n",
       "      <td>...</td>\n",
       "      <td>0</td>\n",
       "      <td>0</td>\n",
       "      <td>0</td>\n",
       "      <td>0</td>\n",
       "      <td>0</td>\n",
       "      <td>0</td>\n",
       "      <td>1</td>\n",
       "      <td>0</td>\n",
       "      <td>1</td>\n",
       "      <td>0</td>\n",
       "    </tr>\n",
       "    <tr>\n",
       "      <th>2</th>\n",
       "      <td>660727</td>\n",
       "      <td>0</td>\n",
       "      <td>0</td>\n",
       "      <td>1</td>\n",
       "      <td>2.0</td>\n",
       "      <td>1532</td>\n",
       "      <td>2.0</td>\n",
       "      <td>1</td>\n",
       "      <td>0</td>\n",
       "      <td>0</td>\n",
       "      <td>...</td>\n",
       "      <td>0</td>\n",
       "      <td>0</td>\n",
       "      <td>0</td>\n",
       "      <td>0</td>\n",
       "      <td>0</td>\n",
       "      <td>0</td>\n",
       "      <td>1</td>\n",
       "      <td>0</td>\n",
       "      <td>0</td>\n",
       "      <td>0</td>\n",
       "    </tr>\n",
       "    <tr>\n",
       "      <th>3</th>\n",
       "      <td>660719</td>\n",
       "      <td>0</td>\n",
       "      <td>0</td>\n",
       "      <td>0</td>\n",
       "      <td>1.0</td>\n",
       "      <td>305</td>\n",
       "      <td>1.0</td>\n",
       "      <td>1</td>\n",
       "      <td>0</td>\n",
       "      <td>0</td>\n",
       "      <td>...</td>\n",
       "      <td>0</td>\n",
       "      <td>0</td>\n",
       "      <td>0</td>\n",
       "      <td>0</td>\n",
       "      <td>0</td>\n",
       "      <td>0</td>\n",
       "      <td>1</td>\n",
       "      <td>0</td>\n",
       "      <td>0</td>\n",
       "      <td>0</td>\n",
       "    </tr>\n",
       "    <tr>\n",
       "      <th>4</th>\n",
       "      <td>660681</td>\n",
       "      <td>0</td>\n",
       "      <td>0</td>\n",
       "      <td>1</td>\n",
       "      <td>2.0</td>\n",
       "      <td>1428</td>\n",
       "      <td>1.0</td>\n",
       "      <td>1</td>\n",
       "      <td>0</td>\n",
       "      <td>0</td>\n",
       "      <td>...</td>\n",
       "      <td>0</td>\n",
       "      <td>0</td>\n",
       "      <td>0</td>\n",
       "      <td>0</td>\n",
       "      <td>0</td>\n",
       "      <td>0</td>\n",
       "      <td>1</td>\n",
       "      <td>0</td>\n",
       "      <td>0</td>\n",
       "      <td>0</td>\n",
       "    </tr>\n",
       "  </tbody>\n",
       "</table>\n",
       "<p>5 rows × 124 columns</p>\n",
       "</div>"
      ],
      "text/plain": [
       "   Lead Number  Do Not Email  Do Not Call  Converted  TotalVisits  \\\n",
       "0       660737             0            0          0          0.0   \n",
       "1       660728             0            0          0          5.0   \n",
       "2       660727             0            0          1          2.0   \n",
       "3       660719             0            0          0          1.0   \n",
       "4       660681             0            0          1          2.0   \n",
       "\n",
       "   Total Time Spent on Website  Page Views Per Visit  \\\n",
       "0                            0                   0.0   \n",
       "1                          674                   2.5   \n",
       "2                         1532                   2.0   \n",
       "3                          305                   1.0   \n",
       "4                         1428                   1.0   \n",
       "\n",
       "   Lead Origin_Landing Page Submission  Lead Origin_Lead Add Form  \\\n",
       "0                                    0                          0   \n",
       "1                                    0                          0   \n",
       "2                                    1                          0   \n",
       "3                                    1                          0   \n",
       "4                                    1                          0   \n",
       "\n",
       "   Lead Origin_Lead Import  ...  Last Notable Activity_Unreachable  \\\n",
       "0                        0  ...                                  0   \n",
       "1                        0  ...                                  0   \n",
       "2                        0  ...                                  0   \n",
       "3                        0  ...                                  0   \n",
       "4                        0  ...                                  0   \n",
       "\n",
       "   Last Notable Activity_Unsubscribed  \\\n",
       "0                                   0   \n",
       "1                                   0   \n",
       "2                                   0   \n",
       "3                                   0   \n",
       "4                                   0   \n",
       "\n",
       "   Last Notable Activity_View in browser link Clicked  Country_Outside India  \\\n",
       "0                                                  0                       1   \n",
       "1                                                  0                       0   \n",
       "2                                                  0                       0   \n",
       "3                                                  0                       0   \n",
       "4                                                  0                       0   \n",
       "\n",
       "   What matters most to you in choosing a course_Flexibility & Convenience  \\\n",
       "0                                                  0                         \n",
       "1                                                  0                         \n",
       "2                                                  0                         \n",
       "3                                                  0                         \n",
       "4                                                  0                         \n",
       "\n",
       "   What matters most to you in choosing a course_Other  \\\n",
       "0                                                  0     \n",
       "1                                                  0     \n",
       "2                                                  0     \n",
       "3                                                  0     \n",
       "4                                                  0     \n",
       "\n",
       "   Asymmetrique Activity Index_02.Medium  Asymmetrique Activity Index_03.Low  \\\n",
       "0                                      1                                   0   \n",
       "1                                      1                                   0   \n",
       "2                                      1                                   0   \n",
       "3                                      1                                   0   \n",
       "4                                      1                                   0   \n",
       "\n",
       "   Asymmetrique Profile Index_02.Medium  Asymmetrique Profile Index_03.Low  \n",
       "0                                     1                                  0  \n",
       "1                                     1                                  0  \n",
       "2                                     0                                  0  \n",
       "3                                     0                                  0  \n",
       "4                                     0                                  0  \n",
       "\n",
       "[5 rows x 124 columns]"
      ]
     },
     "execution_count": 81,
     "metadata": {},
     "output_type": "execute_result"
    }
   ],
   "source": [
    "data.head()"
   ]
  },
  {
   "cell_type": "code",
   "execution_count": 82,
   "metadata": {},
   "outputs": [
    {
     "data": {
      "text/html": [
       "<div>\n",
       "<style scoped>\n",
       "    .dataframe tbody tr th:only-of-type {\n",
       "        vertical-align: middle;\n",
       "    }\n",
       "\n",
       "    .dataframe tbody tr th {\n",
       "        vertical-align: top;\n",
       "    }\n",
       "\n",
       "    .dataframe thead th {\n",
       "        text-align: right;\n",
       "    }\n",
       "</style>\n",
       "<table border=\"1\" class=\"dataframe\">\n",
       "  <thead>\n",
       "    <tr style=\"text-align: right;\">\n",
       "      <th></th>\n",
       "      <th>Do Not Email</th>\n",
       "      <th>Do Not Call</th>\n",
       "      <th>TotalVisits</th>\n",
       "      <th>Total Time Spent on Website</th>\n",
       "      <th>Page Views Per Visit</th>\n",
       "      <th>Lead Origin_Landing Page Submission</th>\n",
       "      <th>Lead Origin_Lead Add Form</th>\n",
       "      <th>Lead Origin_Lead Import</th>\n",
       "      <th>Lead Source_Direct Traffic</th>\n",
       "      <th>Lead Source_Facebook</th>\n",
       "      <th>...</th>\n",
       "      <th>Last Notable Activity_Unreachable</th>\n",
       "      <th>Last Notable Activity_Unsubscribed</th>\n",
       "      <th>Last Notable Activity_View in browser link Clicked</th>\n",
       "      <th>Country_Outside India</th>\n",
       "      <th>What matters most to you in choosing a course_Flexibility &amp; Convenience</th>\n",
       "      <th>What matters most to you in choosing a course_Other</th>\n",
       "      <th>Asymmetrique Activity Index_02.Medium</th>\n",
       "      <th>Asymmetrique Activity Index_03.Low</th>\n",
       "      <th>Asymmetrique Profile Index_02.Medium</th>\n",
       "      <th>Asymmetrique Profile Index_03.Low</th>\n",
       "    </tr>\n",
       "  </thead>\n",
       "  <tbody>\n",
       "    <tr>\n",
       "      <th>0</th>\n",
       "      <td>0</td>\n",
       "      <td>0</td>\n",
       "      <td>0.0</td>\n",
       "      <td>0</td>\n",
       "      <td>0.0</td>\n",
       "      <td>0</td>\n",
       "      <td>0</td>\n",
       "      <td>0</td>\n",
       "      <td>0</td>\n",
       "      <td>0</td>\n",
       "      <td>...</td>\n",
       "      <td>0</td>\n",
       "      <td>0</td>\n",
       "      <td>0</td>\n",
       "      <td>1</td>\n",
       "      <td>0</td>\n",
       "      <td>0</td>\n",
       "      <td>1</td>\n",
       "      <td>0</td>\n",
       "      <td>1</td>\n",
       "      <td>0</td>\n",
       "    </tr>\n",
       "    <tr>\n",
       "      <th>1</th>\n",
       "      <td>0</td>\n",
       "      <td>0</td>\n",
       "      <td>5.0</td>\n",
       "      <td>674</td>\n",
       "      <td>2.5</td>\n",
       "      <td>0</td>\n",
       "      <td>0</td>\n",
       "      <td>0</td>\n",
       "      <td>0</td>\n",
       "      <td>0</td>\n",
       "      <td>...</td>\n",
       "      <td>0</td>\n",
       "      <td>0</td>\n",
       "      <td>0</td>\n",
       "      <td>0</td>\n",
       "      <td>0</td>\n",
       "      <td>0</td>\n",
       "      <td>1</td>\n",
       "      <td>0</td>\n",
       "      <td>1</td>\n",
       "      <td>0</td>\n",
       "    </tr>\n",
       "    <tr>\n",
       "      <th>2</th>\n",
       "      <td>0</td>\n",
       "      <td>0</td>\n",
       "      <td>2.0</td>\n",
       "      <td>1532</td>\n",
       "      <td>2.0</td>\n",
       "      <td>1</td>\n",
       "      <td>0</td>\n",
       "      <td>0</td>\n",
       "      <td>1</td>\n",
       "      <td>0</td>\n",
       "      <td>...</td>\n",
       "      <td>0</td>\n",
       "      <td>0</td>\n",
       "      <td>0</td>\n",
       "      <td>0</td>\n",
       "      <td>0</td>\n",
       "      <td>0</td>\n",
       "      <td>1</td>\n",
       "      <td>0</td>\n",
       "      <td>0</td>\n",
       "      <td>0</td>\n",
       "    </tr>\n",
       "    <tr>\n",
       "      <th>3</th>\n",
       "      <td>0</td>\n",
       "      <td>0</td>\n",
       "      <td>1.0</td>\n",
       "      <td>305</td>\n",
       "      <td>1.0</td>\n",
       "      <td>1</td>\n",
       "      <td>0</td>\n",
       "      <td>0</td>\n",
       "      <td>1</td>\n",
       "      <td>0</td>\n",
       "      <td>...</td>\n",
       "      <td>0</td>\n",
       "      <td>0</td>\n",
       "      <td>0</td>\n",
       "      <td>0</td>\n",
       "      <td>0</td>\n",
       "      <td>0</td>\n",
       "      <td>1</td>\n",
       "      <td>0</td>\n",
       "      <td>0</td>\n",
       "      <td>0</td>\n",
       "    </tr>\n",
       "    <tr>\n",
       "      <th>4</th>\n",
       "      <td>0</td>\n",
       "      <td>0</td>\n",
       "      <td>2.0</td>\n",
       "      <td>1428</td>\n",
       "      <td>1.0</td>\n",
       "      <td>1</td>\n",
       "      <td>0</td>\n",
       "      <td>0</td>\n",
       "      <td>0</td>\n",
       "      <td>0</td>\n",
       "      <td>...</td>\n",
       "      <td>0</td>\n",
       "      <td>0</td>\n",
       "      <td>0</td>\n",
       "      <td>0</td>\n",
       "      <td>0</td>\n",
       "      <td>0</td>\n",
       "      <td>1</td>\n",
       "      <td>0</td>\n",
       "      <td>0</td>\n",
       "      <td>0</td>\n",
       "    </tr>\n",
       "  </tbody>\n",
       "</table>\n",
       "<p>5 rows × 122 columns</p>\n",
       "</div>"
      ],
      "text/plain": [
       "   Do Not Email  Do Not Call  TotalVisits  Total Time Spent on Website  \\\n",
       "0             0            0          0.0                            0   \n",
       "1             0            0          5.0                          674   \n",
       "2             0            0          2.0                         1532   \n",
       "3             0            0          1.0                          305   \n",
       "4             0            0          2.0                         1428   \n",
       "\n",
       "   Page Views Per Visit  Lead Origin_Landing Page Submission  \\\n",
       "0                   0.0                                    0   \n",
       "1                   2.5                                    0   \n",
       "2                   2.0                                    1   \n",
       "3                   1.0                                    1   \n",
       "4                   1.0                                    1   \n",
       "\n",
       "   Lead Origin_Lead Add Form  Lead Origin_Lead Import  \\\n",
       "0                          0                        0   \n",
       "1                          0                        0   \n",
       "2                          0                        0   \n",
       "3                          0                        0   \n",
       "4                          0                        0   \n",
       "\n",
       "   Lead Source_Direct Traffic  Lead Source_Facebook  ...  \\\n",
       "0                           0                     0  ...   \n",
       "1                           0                     0  ...   \n",
       "2                           1                     0  ...   \n",
       "3                           1                     0  ...   \n",
       "4                           0                     0  ...   \n",
       "\n",
       "   Last Notable Activity_Unreachable  Last Notable Activity_Unsubscribed  \\\n",
       "0                                  0                                   0   \n",
       "1                                  0                                   0   \n",
       "2                                  0                                   0   \n",
       "3                                  0                                   0   \n",
       "4                                  0                                   0   \n",
       "\n",
       "   Last Notable Activity_View in browser link Clicked  Country_Outside India  \\\n",
       "0                                                  0                       1   \n",
       "1                                                  0                       0   \n",
       "2                                                  0                       0   \n",
       "3                                                  0                       0   \n",
       "4                                                  0                       0   \n",
       "\n",
       "   What matters most to you in choosing a course_Flexibility & Convenience  \\\n",
       "0                                                  0                         \n",
       "1                                                  0                         \n",
       "2                                                  0                         \n",
       "3                                                  0                         \n",
       "4                                                  0                         \n",
       "\n",
       "   What matters most to you in choosing a course_Other  \\\n",
       "0                                                  0     \n",
       "1                                                  0     \n",
       "2                                                  0     \n",
       "3                                                  0     \n",
       "4                                                  0     \n",
       "\n",
       "   Asymmetrique Activity Index_02.Medium  Asymmetrique Activity Index_03.Low  \\\n",
       "0                                      1                                   0   \n",
       "1                                      1                                   0   \n",
       "2                                      1                                   0   \n",
       "3                                      1                                   0   \n",
       "4                                      1                                   0   \n",
       "\n",
       "   Asymmetrique Profile Index_02.Medium  Asymmetrique Profile Index_03.Low  \n",
       "0                                     1                                  0  \n",
       "1                                     1                                  0  \n",
       "2                                     0                                  0  \n",
       "3                                     0                                  0  \n",
       "4                                     0                                  0  \n",
       "\n",
       "[5 rows x 122 columns]"
      ]
     },
     "execution_count": 82,
     "metadata": {},
     "output_type": "execute_result"
    }
   ],
   "source": [
    "#Test train split\n",
    "\n",
    "from sklearn.model_selection import train_test_split\n",
    "\n",
    "# Putting feature variable to X\n",
    "X = data.drop(['Lead Number','Converted'], axis=1)\n",
    "\n",
    "X.head()\n"
   ]
  },
  {
   "cell_type": "code",
   "execution_count": 83,
   "metadata": {},
   "outputs": [
    {
     "data": {
      "text/plain": [
       "0    0\n",
       "1    0\n",
       "2    1\n",
       "3    0\n",
       "4    1\n",
       "Name: Converted, dtype: int64"
      ]
     },
     "execution_count": 83,
     "metadata": {},
     "output_type": "execute_result"
    }
   ],
   "source": [
    "y = data['Converted']\n",
    "\n",
    "y.head()"
   ]
  },
  {
   "cell_type": "code",
   "execution_count": 84,
   "metadata": {},
   "outputs": [],
   "source": [
    "# Splitting the data into train and test\n",
    "X_train, X_test, y_train, y_test = train_test_split(X, y, train_size=0.7, test_size=0.3, random_state=50)"
   ]
  },
  {
   "cell_type": "code",
   "execution_count": 85,
   "metadata": {},
   "outputs": [
    {
     "name": "stderr",
     "output_type": "stream",
     "text": [
      "C:\\Users\\STS\\Anaconda2\\lib\\site-packages\\sklearn\\preprocessing\\data.py:645: DataConversionWarning: Data with input dtype int64, float64 were all converted to float64 by StandardScaler.\n",
      "  return self.partial_fit(X, y)\n",
      "C:\\Users\\STS\\Anaconda2\\lib\\site-packages\\sklearn\\base.py:464: DataConversionWarning: Data with input dtype int64, float64 were all converted to float64 by StandardScaler.\n",
      "  return self.fit(X, **fit_params).transform(X)\n",
      "C:\\Users\\STS\\Anaconda2\\lib\\site-packages\\ipykernel_launcher.py:5: SettingWithCopyWarning: \n",
      "A value is trying to be set on a copy of a slice from a DataFrame.\n",
      "Try using .loc[row_indexer,col_indexer] = value instead\n",
      "\n",
      "See the caveats in the documentation: http://pandas.pydata.org/pandas-docs/stable/indexing.html#indexing-view-versus-copy\n",
      "  \"\"\"\n",
      "C:\\Users\\STS\\Anaconda2\\lib\\site-packages\\pandas\\core\\indexing.py:543: SettingWithCopyWarning: \n",
      "A value is trying to be set on a copy of a slice from a DataFrame.\n",
      "Try using .loc[row_indexer,col_indexer] = value instead\n",
      "\n",
      "See the caveats in the documentation: http://pandas.pydata.org/pandas-docs/stable/indexing.html#indexing-view-versus-copy\n",
      "  self.obj[item] = s\n"
     ]
    },
    {
     "data": {
      "text/html": [
       "<div>\n",
       "<style scoped>\n",
       "    .dataframe tbody tr th:only-of-type {\n",
       "        vertical-align: middle;\n",
       "    }\n",
       "\n",
       "    .dataframe tbody tr th {\n",
       "        vertical-align: top;\n",
       "    }\n",
       "\n",
       "    .dataframe thead th {\n",
       "        text-align: right;\n",
       "    }\n",
       "</style>\n",
       "<table border=\"1\" class=\"dataframe\">\n",
       "  <thead>\n",
       "    <tr style=\"text-align: right;\">\n",
       "      <th></th>\n",
       "      <th>Do Not Email</th>\n",
       "      <th>Do Not Call</th>\n",
       "      <th>TotalVisits</th>\n",
       "      <th>Total Time Spent on Website</th>\n",
       "      <th>Page Views Per Visit</th>\n",
       "      <th>Lead Origin_Landing Page Submission</th>\n",
       "      <th>Lead Origin_Lead Add Form</th>\n",
       "      <th>Lead Origin_Lead Import</th>\n",
       "      <th>Lead Source_Direct Traffic</th>\n",
       "      <th>Lead Source_Facebook</th>\n",
       "      <th>...</th>\n",
       "      <th>Last Notable Activity_Unreachable</th>\n",
       "      <th>Last Notable Activity_Unsubscribed</th>\n",
       "      <th>Last Notable Activity_View in browser link Clicked</th>\n",
       "      <th>Country_Outside India</th>\n",
       "      <th>What matters most to you in choosing a course_Flexibility &amp; Convenience</th>\n",
       "      <th>What matters most to you in choosing a course_Other</th>\n",
       "      <th>Asymmetrique Activity Index_02.Medium</th>\n",
       "      <th>Asymmetrique Activity Index_03.Low</th>\n",
       "      <th>Asymmetrique Profile Index_02.Medium</th>\n",
       "      <th>Asymmetrique Profile Index_03.Low</th>\n",
       "    </tr>\n",
       "  </thead>\n",
       "  <tbody>\n",
       "    <tr>\n",
       "      <th>7551</th>\n",
       "      <td>0</td>\n",
       "      <td>0</td>\n",
       "      <td>0.964330</td>\n",
       "      <td>-0.106395</td>\n",
       "      <td>1.772003</td>\n",
       "      <td>0</td>\n",
       "      <td>0</td>\n",
       "      <td>0</td>\n",
       "      <td>0</td>\n",
       "      <td>0</td>\n",
       "      <td>...</td>\n",
       "      <td>0</td>\n",
       "      <td>0</td>\n",
       "      <td>0</td>\n",
       "      <td>0</td>\n",
       "      <td>0</td>\n",
       "      <td>0</td>\n",
       "      <td>0</td>\n",
       "      <td>0</td>\n",
       "      <td>1</td>\n",
       "      <td>0</td>\n",
       "    </tr>\n",
       "    <tr>\n",
       "      <th>8564</th>\n",
       "      <td>0</td>\n",
       "      <td>0</td>\n",
       "      <td>1.390074</td>\n",
       "      <td>0.242047</td>\n",
       "      <td>0.568291</td>\n",
       "      <td>0</td>\n",
       "      <td>0</td>\n",
       "      <td>0</td>\n",
       "      <td>0</td>\n",
       "      <td>0</td>\n",
       "      <td>...</td>\n",
       "      <td>0</td>\n",
       "      <td>0</td>\n",
       "      <td>0</td>\n",
       "      <td>0</td>\n",
       "      <td>0</td>\n",
       "      <td>0</td>\n",
       "      <td>1</td>\n",
       "      <td>0</td>\n",
       "      <td>1</td>\n",
       "      <td>0</td>\n",
       "    </tr>\n",
       "    <tr>\n",
       "      <th>4354</th>\n",
       "      <td>0</td>\n",
       "      <td>0</td>\n",
       "      <td>-0.738645</td>\n",
       "      <td>-0.297296</td>\n",
       "      <td>-0.635422</td>\n",
       "      <td>1</td>\n",
       "      <td>0</td>\n",
       "      <td>0</td>\n",
       "      <td>1</td>\n",
       "      <td>0</td>\n",
       "      <td>...</td>\n",
       "      <td>0</td>\n",
       "      <td>0</td>\n",
       "      <td>0</td>\n",
       "      <td>0</td>\n",
       "      <td>0</td>\n",
       "      <td>0</td>\n",
       "      <td>0</td>\n",
       "      <td>0</td>\n",
       "      <td>0</td>\n",
       "      <td>0</td>\n",
       "    </tr>\n",
       "    <tr>\n",
       "      <th>112</th>\n",
       "      <td>0</td>\n",
       "      <td>0</td>\n",
       "      <td>-1.164389</td>\n",
       "      <td>-0.855174</td>\n",
       "      <td>-1.237278</td>\n",
       "      <td>0</td>\n",
       "      <td>1</td>\n",
       "      <td>0</td>\n",
       "      <td>0</td>\n",
       "      <td>0</td>\n",
       "      <td>...</td>\n",
       "      <td>0</td>\n",
       "      <td>0</td>\n",
       "      <td>0</td>\n",
       "      <td>1</td>\n",
       "      <td>0</td>\n",
       "      <td>0</td>\n",
       "      <td>1</td>\n",
       "      <td>0</td>\n",
       "      <td>0</td>\n",
       "      <td>0</td>\n",
       "    </tr>\n",
       "    <tr>\n",
       "      <th>7270</th>\n",
       "      <td>0</td>\n",
       "      <td>0</td>\n",
       "      <td>-0.312901</td>\n",
       "      <td>2.497654</td>\n",
       "      <td>-0.635422</td>\n",
       "      <td>0</td>\n",
       "      <td>0</td>\n",
       "      <td>0</td>\n",
       "      <td>0</td>\n",
       "      <td>0</td>\n",
       "      <td>...</td>\n",
       "      <td>0</td>\n",
       "      <td>0</td>\n",
       "      <td>0</td>\n",
       "      <td>0</td>\n",
       "      <td>0</td>\n",
       "      <td>0</td>\n",
       "      <td>0</td>\n",
       "      <td>0</td>\n",
       "      <td>0</td>\n",
       "      <td>0</td>\n",
       "    </tr>\n",
       "  </tbody>\n",
       "</table>\n",
       "<p>5 rows × 122 columns</p>\n",
       "</div>"
      ],
      "text/plain": [
       "      Do Not Email  Do Not Call  TotalVisits  Total Time Spent on Website  \\\n",
       "7551             0            0     0.964330                    -0.106395   \n",
       "8564             0            0     1.390074                     0.242047   \n",
       "4354             0            0    -0.738645                    -0.297296   \n",
       "112              0            0    -1.164389                    -0.855174   \n",
       "7270             0            0    -0.312901                     2.497654   \n",
       "\n",
       "      Page Views Per Visit  Lead Origin_Landing Page Submission  \\\n",
       "7551              1.772003                                    0   \n",
       "8564              0.568291                                    0   \n",
       "4354             -0.635422                                    1   \n",
       "112              -1.237278                                    0   \n",
       "7270             -0.635422                                    0   \n",
       "\n",
       "      Lead Origin_Lead Add Form  Lead Origin_Lead Import  \\\n",
       "7551                          0                        0   \n",
       "8564                          0                        0   \n",
       "4354                          0                        0   \n",
       "112                           1                        0   \n",
       "7270                          0                        0   \n",
       "\n",
       "      Lead Source_Direct Traffic  Lead Source_Facebook  ...  \\\n",
       "7551                           0                     0  ...   \n",
       "8564                           0                     0  ...   \n",
       "4354                           1                     0  ...   \n",
       "112                            0                     0  ...   \n",
       "7270                           0                     0  ...   \n",
       "\n",
       "      Last Notable Activity_Unreachable  Last Notable Activity_Unsubscribed  \\\n",
       "7551                                  0                                   0   \n",
       "8564                                  0                                   0   \n",
       "4354                                  0                                   0   \n",
       "112                                   0                                   0   \n",
       "7270                                  0                                   0   \n",
       "\n",
       "      Last Notable Activity_View in browser link Clicked  \\\n",
       "7551                                                  0    \n",
       "8564                                                  0    \n",
       "4354                                                  0    \n",
       "112                                                   0    \n",
       "7270                                                  0    \n",
       "\n",
       "      Country_Outside India  \\\n",
       "7551                      0   \n",
       "8564                      0   \n",
       "4354                      0   \n",
       "112                       1   \n",
       "7270                      0   \n",
       "\n",
       "      What matters most to you in choosing a course_Flexibility & Convenience  \\\n",
       "7551                                                  0                         \n",
       "8564                                                  0                         \n",
       "4354                                                  0                         \n",
       "112                                                   0                         \n",
       "7270                                                  0                         \n",
       "\n",
       "      What matters most to you in choosing a course_Other  \\\n",
       "7551                                                  0     \n",
       "8564                                                  0     \n",
       "4354                                                  0     \n",
       "112                                                   0     \n",
       "7270                                                  0     \n",
       "\n",
       "      Asymmetrique Activity Index_02.Medium  \\\n",
       "7551                                      0   \n",
       "8564                                      1   \n",
       "4354                                      0   \n",
       "112                                       1   \n",
       "7270                                      0   \n",
       "\n",
       "      Asymmetrique Activity Index_03.Low  \\\n",
       "7551                                   0   \n",
       "8564                                   0   \n",
       "4354                                   0   \n",
       "112                                    0   \n",
       "7270                                   0   \n",
       "\n",
       "      Asymmetrique Profile Index_02.Medium  Asymmetrique Profile Index_03.Low  \n",
       "7551                                     1                                  0  \n",
       "8564                                     1                                  0  \n",
       "4354                                     0                                  0  \n",
       "112                                      0                                  0  \n",
       "7270                                     0                                  0  \n",
       "\n",
       "[5 rows x 122 columns]"
      ]
     },
     "execution_count": 85,
     "metadata": {},
     "output_type": "execute_result"
    }
   ],
   "source": [
    "from sklearn.preprocessing import StandardScaler\n",
    "\n",
    "scaler = StandardScaler()\n",
    "\n",
    "X_train[['TotalVisits','Total Time Spent on Website','Page Views Per Visit']] = scaler.fit_transform(X_train[['TotalVisits','Total Time Spent on Website','Page Views Per Visit']])\n",
    "\n",
    "X_train.head()"
   ]
  },
  {
   "cell_type": "code",
   "execution_count": 86,
   "metadata": {},
   "outputs": [
    {
     "data": {
      "text/plain": [
       "0L"
      ]
     },
     "execution_count": 86,
     "metadata": {},
     "output_type": "execute_result"
    }
   ],
   "source": [
    "converted_percentage = (sum(data['Converted'])/len(data['Converted'].index))*100\n",
    "converted_percentage"
   ]
  },
  {
   "cell_type": "code",
   "execution_count": 87,
   "metadata": {},
   "outputs": [
    {
     "name": "stderr",
     "output_type": "stream",
     "text": [
      "C:\\Users\\STS\\Anaconda2\\lib\\site-packages\\numpy\\core\\fromnumeric.py:2389: FutureWarning: Method .ptp is deprecated and will be removed in a future version. Use numpy.ptp instead.\n",
      "  return ptp(axis=axis, out=out, **kwargs)\n",
      "C:\\Users\\STS\\Anaconda2\\lib\\site-packages\\statsmodels\\genmod\\families\\family.py:880: RuntimeWarning: invalid value encountered in divide\n",
      "  n_endog_mu = self._clean((1. - endog) / (1. - mu))\n",
      "C:\\Users\\STS\\Anaconda2\\lib\\site-packages\\statsmodels\\genmod\\families\\family.py:880: RuntimeWarning: divide by zero encountered in divide\n",
      "  n_endog_mu = self._clean((1. - endog) / (1. - mu))\n",
      "C:\\Users\\STS\\Anaconda2\\lib\\site-packages\\statsmodels\\genmod\\families\\links.py:167: RuntimeWarning: overflow encountered in exp\n",
      "  t = np.exp(-z)\n",
      "C:\\Users\\STS\\Anaconda2\\lib\\site-packages\\statsmodels\\genmod\\families\\family.py:879: RuntimeWarning: invalid value encountered in divide\n",
      "  endog_mu = self._clean(endog / mu)\n",
      "C:\\Users\\STS\\Anaconda2\\lib\\site-packages\\statsmodels\\genmod\\families\\family.py:879: RuntimeWarning: divide by zero encountered in divide\n",
      "  endog_mu = self._clean(endog / mu)\n",
      "C:\\Users\\STS\\Anaconda2\\lib\\site-packages\\statsmodels\\genmod\\families\\family.py:932: RuntimeWarning: divide by zero encountered in divide\n",
      "  special.gammaln(n - y + 1) + y * np.log(mu / (1 - mu)) +\n",
      "C:\\Users\\STS\\Anaconda2\\lib\\site-packages\\statsmodels\\genmod\\families\\family.py:932: RuntimeWarning: divide by zero encountered in log\n",
      "  special.gammaln(n - y + 1) + y * np.log(mu / (1 - mu)) +\n",
      "C:\\Users\\STS\\Anaconda2\\lib\\site-packages\\statsmodels\\genmod\\families\\family.py:932: RuntimeWarning: invalid value encountered in multiply\n",
      "  special.gammaln(n - y + 1) + y * np.log(mu / (1 - mu)) +\n",
      "C:\\Users\\STS\\Anaconda2\\lib\\site-packages\\statsmodels\\genmod\\families\\family.py:933: RuntimeWarning: divide by zero encountered in log\n",
      "  n * np.log(1 - mu)) * var_weights\n",
      "C:\\Users\\STS\\Anaconda2\\lib\\site-packages\\statsmodels\\genmod\\families\\family.py:933: RuntimeWarning: invalid value encountered in add\n",
      "  n * np.log(1 - mu)) * var_weights\n"
     ]
    },
    {
     "data": {
      "text/html": [
       "<table class=\"simpletable\">\n",
       "<caption>Generalized Linear Model Regression Results</caption>\n",
       "<tr>\n",
       "  <th>Dep. Variable:</th>      <td>Converted</td>    <th>  No. Observations:  </th>  <td>  5931</td>  \n",
       "</tr>\n",
       "<tr>\n",
       "  <th>Model:</th>                 <td>GLM</td>       <th>  Df Residuals:      </th>  <td>  5816</td>  \n",
       "</tr>\n",
       "<tr>\n",
       "  <th>Model Family:</th>       <td>Binomial</td>     <th>  Df Model:          </th>  <td>   114</td>  \n",
       "</tr>\n",
       "<tr>\n",
       "  <th>Link Function:</th>        <td>logit</td>      <th>  Scale:             </th> <td>  1.0000</td> \n",
       "</tr>\n",
       "<tr>\n",
       "  <th>Method:</th>               <td>IRLS</td>       <th>  Log-Likelihood:    </th> <td>     nan</td> \n",
       "</tr>\n",
       "<tr>\n",
       "  <th>Date:</th>           <td>Sun, 17 Nov 2019</td> <th>  Deviance:          </th> <td>     nan</td> \n",
       "</tr>\n",
       "<tr>\n",
       "  <th>Time:</th>               <td>15:50:12</td>     <th>  Pearson chi2:      </th> <td>2.82e+18</td> \n",
       "</tr>\n",
       "<tr>\n",
       "  <th>No. Iterations:</th>        <td>100</td>       <th>  Covariance Type:   </th> <td>nonrobust</td>\n",
       "</tr>\n",
       "</table>\n",
       "<table class=\"simpletable\">\n",
       "<tr>\n",
       "                                     <td></td>                                        <th>coef</th>     <th>std err</th>      <th>z</th>      <th>P>|z|</th>  <th>[0.025</th>    <th>0.975]</th>  \n",
       "</tr>\n",
       "<tr>\n",
       "  <th>const</th>                                                                   <td> 1.618e+15</td> <td> 5.54e+07</td> <td> 2.92e+07</td> <td> 0.000</td> <td> 1.62e+15</td> <td> 1.62e+15</td>\n",
       "</tr>\n",
       "<tr>\n",
       "  <th>Do Not Email</th>                                                            <td>-2.259e+14</td> <td>  4.7e+06</td> <td>-4.81e+07</td> <td> 0.000</td> <td>-2.26e+14</td> <td>-2.26e+14</td>\n",
       "</tr>\n",
       "<tr>\n",
       "  <th>Do Not Call</th>                                                             <td> 9.247e+14</td> <td> 4.79e+07</td> <td> 1.93e+07</td> <td> 0.000</td> <td> 9.25e+14</td> <td> 9.25e+14</td>\n",
       "</tr>\n",
       "<tr>\n",
       "  <th>TotalVisits</th>                                                             <td> 3.802e+13</td> <td> 1.52e+06</td> <td>  2.5e+07</td> <td> 0.000</td> <td>  3.8e+13</td> <td>  3.8e+13</td>\n",
       "</tr>\n",
       "<tr>\n",
       "  <th>Total Time Spent on Website</th>                                             <td> 3.408e+14</td> <td> 1.09e+06</td> <td> 3.14e+08</td> <td> 0.000</td> <td> 3.41e+14</td> <td> 3.41e+14</td>\n",
       "</tr>\n",
       "<tr>\n",
       "  <th>Page Views Per Visit</th>                                                    <td>-1.121e+14</td> <td> 1.66e+06</td> <td>-6.76e+07</td> <td> 0.000</td> <td>-1.12e+14</td> <td>-1.12e+14</td>\n",
       "</tr>\n",
       "<tr>\n",
       "  <th>Lead Origin_Landing Page Submission</th>                                     <td>-2.767e+13</td> <td> 3.58e+06</td> <td>-7.72e+06</td> <td> 0.000</td> <td>-2.77e+13</td> <td>-2.77e+13</td>\n",
       "</tr>\n",
       "<tr>\n",
       "  <th>Lead Origin_Lead Add Form</th>                                               <td> -4.35e+14</td> <td> 3.93e+07</td> <td>-1.11e+07</td> <td> 0.000</td> <td>-4.35e+14</td> <td>-4.35e+14</td>\n",
       "</tr>\n",
       "<tr>\n",
       "  <th>Lead Origin_Lead Import</th>                                                 <td> 1.383e+14</td> <td> 2.17e+07</td> <td> 6.36e+06</td> <td> 0.000</td> <td> 1.38e+14</td> <td> 1.38e+14</td>\n",
       "</tr>\n",
       "<tr>\n",
       "  <th>Lead Source_Direct Traffic</th>                                              <td>-8.206e+14</td> <td> 4.04e+07</td> <td>-2.03e+07</td> <td> 0.000</td> <td>-8.21e+14</td> <td>-8.21e+14</td>\n",
       "</tr>\n",
       "<tr>\n",
       "  <th>Lead Source_Facebook</th>                                                    <td> 1.383e+14</td> <td> 2.17e+07</td> <td> 6.36e+06</td> <td> 0.000</td> <td> 1.38e+14</td> <td> 1.38e+14</td>\n",
       "</tr>\n",
       "<tr>\n",
       "  <th>Lead Source_Google</th>                                                      <td>-8.104e+14</td> <td> 4.04e+07</td> <td>-2.01e+07</td> <td> 0.000</td> <td> -8.1e+14</td> <td> -8.1e+14</td>\n",
       "</tr>\n",
       "<tr>\n",
       "  <th>Lead Source_Live Chat</th>                                                   <td> 7.037e+15</td> <td> 6.88e+07</td> <td> 1.02e+08</td> <td> 0.000</td> <td> 7.04e+15</td> <td> 7.04e+15</td>\n",
       "</tr>\n",
       "<tr>\n",
       "  <th>Lead Source_NC_EDM</th>                                                      <td> 8.384e+15</td> <td> 7.85e+07</td> <td> 1.07e+08</td> <td> 0.000</td> <td> 8.38e+15</td> <td> 8.38e+15</td>\n",
       "</tr>\n",
       "<tr>\n",
       "  <th>Lead Source_Olark Chat</th>                                                  <td>-6.637e+14</td> <td> 4.02e+07</td> <td>-1.65e+07</td> <td> 0.000</td> <td>-6.64e+14</td> <td>-6.64e+14</td>\n",
       "</tr>\n",
       "<tr>\n",
       "  <th>Lead Source_Organic Search</th>                                              <td>-8.314e+14</td> <td> 4.05e+07</td> <td>-2.05e+07</td> <td> 0.000</td> <td>-8.31e+14</td> <td>-8.31e+14</td>\n",
       "</tr>\n",
       "<tr>\n",
       "  <th>Lead Source_Pay per Click Ads</th>                                           <td>-3.495e+15</td> <td> 7.85e+07</td> <td>-4.45e+07</td> <td> 0.000</td> <td> -3.5e+15</td> <td> -3.5e+15</td>\n",
       "</tr>\n",
       "<tr>\n",
       "  <th>Lead Source_Press_Release</th>                                               <td>-3.947e+15</td> <td>  7.9e+07</td> <td>-4.99e+07</td> <td> 0.000</td> <td>-3.95e+15</td> <td>-3.95e+15</td>\n",
       "</tr>\n",
       "<tr>\n",
       "  <th>Lead Source_Reference</th>                                                   <td>-3.147e+14</td> <td> 1.52e+07</td> <td>-2.07e+07</td> <td> 0.000</td> <td>-3.15e+14</td> <td>-3.15e+14</td>\n",
       "</tr>\n",
       "<tr>\n",
       "  <th>Lead Source_Referral Sites</th>                                              <td>-9.026e+14</td> <td> 4.12e+07</td> <td>-2.19e+07</td> <td> 0.000</td> <td>-9.03e+14</td> <td>-9.03e+14</td>\n",
       "</tr>\n",
       "<tr>\n",
       "  <th>Lead Source_Social Media</th>                                                <td> -4.11e+14</td> <td> 6.31e+07</td> <td>-6.51e+06</td> <td> 0.000</td> <td>-4.11e+14</td> <td>-4.11e+14</td>\n",
       "</tr>\n",
       "<tr>\n",
       "  <th>Lead Source_WeLearn</th>                                                     <td> 2.255e+15</td> <td> 7.85e+07</td> <td> 2.87e+07</td> <td> 0.000</td> <td> 2.26e+15</td> <td> 2.26e+15</td>\n",
       "</tr>\n",
       "<tr>\n",
       "  <th>Lead Source_Welingak Website</th>                                            <td>-3.873e+14</td> <td> 1.63e+07</td> <td>-2.38e+07</td> <td> 0.000</td> <td>-3.87e+14</td> <td>-3.87e+14</td>\n",
       "</tr>\n",
       "<tr>\n",
       "  <th>Lead Source_bing</th>                                                        <td>-4.213e+15</td> <td> 5.26e+07</td> <td>-8.01e+07</td> <td> 0.000</td> <td>-4.21e+15</td> <td>-4.21e+15</td>\n",
       "</tr>\n",
       "<tr>\n",
       "  <th>Lead Source_blog</th>                                                        <td> -4.82e+15</td> <td> 7.85e+07</td> <td>-6.14e+07</td> <td> 0.000</td> <td>-4.82e+15</td> <td>-4.82e+15</td>\n",
       "</tr>\n",
       "<tr>\n",
       "  <th>Lead Source_testone</th>                                                     <td>-4.153e+15</td> <td> 7.89e+07</td> <td>-5.26e+07</td> <td> 0.000</td> <td>-4.15e+15</td> <td>-4.15e+15</td>\n",
       "</tr>\n",
       "<tr>\n",
       "  <th>Lead Source_welearnblog_Home</th>                                            <td>   52.5507</td> <td>  4.9e-07</td> <td> 1.07e+08</td> <td> 0.000</td> <td>   52.551</td> <td>   52.551</td>\n",
       "</tr>\n",
       "<tr>\n",
       "  <th>Lead Source_youtubechannel</th>                                              <td>-8.415e+15</td> <td> 7.93e+07</td> <td>-1.06e+08</td> <td> 0.000</td> <td>-8.42e+15</td> <td>-8.42e+15</td>\n",
       "</tr>\n",
       "<tr>\n",
       "  <th>Last Activity_Converted to Lead</th>                                         <td>-2.942e+15</td> <td> 4.81e+07</td> <td>-6.12e+07</td> <td> 0.000</td> <td>-2.94e+15</td> <td>-2.94e+15</td>\n",
       "</tr>\n",
       "<tr>\n",
       "  <th>Last Activity_Email Bounced</th>                                             <td>-2.888e+15</td> <td> 4.84e+07</td> <td>-5.97e+07</td> <td> 0.000</td> <td>-2.89e+15</td> <td>-2.89e+15</td>\n",
       "</tr>\n",
       "<tr>\n",
       "  <th>Last Activity_Email Link Clicked</th>                                        <td>-2.801e+15</td> <td> 4.86e+07</td> <td>-5.76e+07</td> <td> 0.000</td> <td> -2.8e+15</td> <td> -2.8e+15</td>\n",
       "</tr>\n",
       "<tr>\n",
       "  <th>Last Activity_Email Marked Spam</th>                                         <td>  -4.9e+13</td> <td> 3.08e+07</td> <td>-1.59e+06</td> <td> 0.000</td> <td> -4.9e+13</td> <td> -4.9e+13</td>\n",
       "</tr>\n",
       "<tr>\n",
       "  <th>Last Activity_Email Opened</th>                                              <td> -2.46e+15</td> <td> 4.79e+07</td> <td>-5.13e+07</td> <td> 0.000</td> <td>-2.46e+15</td> <td>-2.46e+15</td>\n",
       "</tr>\n",
       "<tr>\n",
       "  <th>Last Activity_Email Received</th>                                            <td> 9.968e+13</td> <td> 3.84e+07</td> <td>  2.6e+06</td> <td> 0.000</td> <td> 9.97e+13</td> <td> 9.97e+13</td>\n",
       "</tr>\n",
       "<tr>\n",
       "  <th>Last Activity_Form Submitted on Website</th>                                 <td>-2.659e+15</td> <td> 4.85e+07</td> <td>-5.48e+07</td> <td> 0.000</td> <td>-2.66e+15</td> <td>-2.66e+15</td>\n",
       "</tr>\n",
       "<tr>\n",
       "  <th>Last Activity_Had a Phone Conversation</th>                                  <td>-2.324e+15</td> <td> 5.23e+07</td> <td>-4.44e+07</td> <td> 0.000</td> <td>-2.32e+15</td> <td>-2.32e+15</td>\n",
       "</tr>\n",
       "<tr>\n",
       "  <th>Last Activity_Olark Chat Conversation</th>                                   <td>-2.782e+15</td> <td>  4.8e+07</td> <td> -5.8e+07</td> <td> 0.000</td> <td>-2.78e+15</td> <td>-2.78e+15</td>\n",
       "</tr>\n",
       "<tr>\n",
       "  <th>Last Activity_Page Visited on Website</th>                                   <td>-2.676e+15</td> <td> 4.81e+07</td> <td>-5.56e+07</td> <td> 0.000</td> <td>-2.68e+15</td> <td>-2.68e+15</td>\n",
       "</tr>\n",
       "<tr>\n",
       "  <th>Last Activity_Resubscribed to emails</th>                                    <td> 6.383e+14</td> <td> 3.84e+07</td> <td> 1.66e+07</td> <td> 0.000</td> <td> 6.38e+14</td> <td> 6.38e+14</td>\n",
       "</tr>\n",
       "<tr>\n",
       "  <th>Last Activity_SMS Sent</th>                                                  <td>-2.355e+15</td> <td>  4.8e+07</td> <td> -4.9e+07</td> <td> 0.000</td> <td>-2.36e+15</td> <td>-2.36e+15</td>\n",
       "</tr>\n",
       "<tr>\n",
       "  <th>Last Activity_Unreachable</th>                                               <td>-2.564e+15</td> <td> 4.92e+07</td> <td>-5.22e+07</td> <td> 0.000</td> <td>-2.56e+15</td> <td>-2.56e+15</td>\n",
       "</tr>\n",
       "<tr>\n",
       "  <th>Last Activity_Unsubscribed</th>                                              <td>-2.941e+15</td> <td> 5.36e+07</td> <td>-5.49e+07</td> <td> 0.000</td> <td>-2.94e+15</td> <td>-2.94e+15</td>\n",
       "</tr>\n",
       "<tr>\n",
       "  <th>Last Activity_View in browser link Clicked</th>                              <td>-5.379e+15</td> <td> 6.18e+07</td> <td>-8.71e+07</td> <td> 0.000</td> <td>-5.38e+15</td> <td>-5.38e+15</td>\n",
       "</tr>\n",
       "<tr>\n",
       "  <th>Last Activity_Visited Booth in Tradeshow</th>                                <td>   34.4998</td> <td>  6.7e-07</td> <td> 5.15e+07</td> <td> 0.000</td> <td>   34.500</td> <td>   34.500</td>\n",
       "</tr>\n",
       "<tr>\n",
       "  <th>Specialization_Business Administration</th>                                  <td> 6.165e+13</td> <td> 5.02e+06</td> <td> 1.23e+07</td> <td> 0.000</td> <td> 6.16e+13</td> <td> 6.16e+13</td>\n",
       "</tr>\n",
       "<tr>\n",
       "  <th>Specialization_E-Business</th>                                               <td>-5.155e+13</td> <td> 1.16e+07</td> <td>-4.43e+06</td> <td> 0.000</td> <td>-5.15e+13</td> <td>-5.15e+13</td>\n",
       "</tr>\n",
       "<tr>\n",
       "  <th>Specialization_E-COMMERCE</th>                                               <td>-1.173e+14</td> <td> 8.65e+06</td> <td>-1.36e+07</td> <td> 0.000</td> <td>-1.17e+14</td> <td>-1.17e+14</td>\n",
       "</tr>\n",
       "<tr>\n",
       "  <th>Specialization_Finance Management</th>                                       <td>-8.568e+13</td> <td> 3.84e+06</td> <td>-2.23e+07</td> <td> 0.000</td> <td>-8.57e+13</td> <td>-8.57e+13</td>\n",
       "</tr>\n",
       "<tr>\n",
       "  <th>Specialization_Healthcare Management</th>                                    <td> 8.418e+13</td> <td> 7.86e+06</td> <td> 1.07e+07</td> <td> 0.000</td> <td> 8.42e+13</td> <td> 8.42e+13</td>\n",
       "</tr>\n",
       "<tr>\n",
       "  <th>Specialization_Hospitality Management</th>                                   <td>-2.062e+14</td> <td> 8.15e+06</td> <td>-2.53e+07</td> <td> 0.000</td> <td>-2.06e+14</td> <td>-2.06e+14</td>\n",
       "</tr>\n",
       "<tr>\n",
       "  <th>Specialization_Human Resource Management</th>                                <td> 2.918e+13</td> <td> 3.95e+06</td> <td> 7.38e+06</td> <td> 0.000</td> <td> 2.92e+13</td> <td> 2.92e+13</td>\n",
       "</tr>\n",
       "<tr>\n",
       "  <th>Specialization_IT Projects Management</th>                                   <td> 9.714e+13</td> <td> 5.34e+06</td> <td> 1.82e+07</td> <td> 0.000</td> <td> 9.71e+13</td> <td> 9.71e+13</td>\n",
       "</tr>\n",
       "<tr>\n",
       "  <th>Specialization_International Business</th>                                   <td>-1.412e+14</td> <td> 6.96e+06</td> <td>-2.03e+07</td> <td> 0.000</td> <td>-1.41e+14</td> <td>-1.41e+14</td>\n",
       "</tr>\n",
       "<tr>\n",
       "  <th>Specialization_Marketing Management</th>                                     <td>-5.173e+13</td> <td> 3.85e+06</td> <td>-1.34e+07</td> <td> 0.000</td> <td>-5.17e+13</td> <td>-5.17e+13</td>\n",
       "</tr>\n",
       "<tr>\n",
       "  <th>Specialization_Media and Advertising</th>                                    <td>-2.379e+14</td> <td> 6.59e+06</td> <td>-3.61e+07</td> <td> 0.000</td> <td>-2.38e+14</td> <td>-2.38e+14</td>\n",
       "</tr>\n",
       "<tr>\n",
       "  <th>Specialization_Operations Management</th>                                    <td> 4.038e+13</td> <td>  4.7e+06</td> <td>  8.6e+06</td> <td> 0.000</td> <td> 4.04e+13</td> <td> 4.04e+13</td>\n",
       "</tr>\n",
       "<tr>\n",
       "  <th>Specialization_Retail Management</th>                                        <td>-4.207e+14</td> <td>  9.5e+06</td> <td>-4.43e+07</td> <td> 0.000</td> <td>-4.21e+14</td> <td>-4.21e+14</td>\n",
       "</tr>\n",
       "<tr>\n",
       "  <th>Specialization_Rural and Agribusiness</th>                                   <td>-3.235e+14</td> <td> 1.12e+07</td> <td>-2.89e+07</td> <td> 0.000</td> <td>-3.24e+14</td> <td>-3.24e+14</td>\n",
       "</tr>\n",
       "<tr>\n",
       "  <th>Specialization_Services Excellence</th>                                      <td> 2.715e+14</td> <td> 1.37e+07</td> <td> 1.98e+07</td> <td> 0.000</td> <td> 2.71e+14</td> <td> 2.71e+14</td>\n",
       "</tr>\n",
       "<tr>\n",
       "  <th>Specialization_Supply Chain Management</th>                                  <td>-2.674e+14</td> <td> 5.56e+06</td> <td>-4.81e+07</td> <td> 0.000</td> <td>-2.67e+14</td> <td>-2.67e+14</td>\n",
       "</tr>\n",
       "<tr>\n",
       "  <th>Specialization_Travel and Tourism</th>                                       <td> -3.12e+14</td> <td> 7.15e+06</td> <td>-4.36e+07</td> <td> 0.000</td> <td>-3.12e+14</td> <td>-3.12e+14</td>\n",
       "</tr>\n",
       "<tr>\n",
       "  <th>What is your current occupation_Housewife</th>                               <td> 4.704e+15</td> <td>  2.6e+07</td> <td> 1.81e+08</td> <td> 0.000</td> <td>  4.7e+15</td> <td>  4.7e+15</td>\n",
       "</tr>\n",
       "<tr>\n",
       "  <th>What is your current occupation_Other</th>                                   <td> 1.111e+15</td> <td>  2.6e+07</td> <td> 4.28e+07</td> <td> 0.000</td> <td> 1.11e+15</td> <td> 1.11e+15</td>\n",
       "</tr>\n",
       "<tr>\n",
       "  <th>What is your current occupation_Student</th>                                 <td> 9.666e+14</td> <td> 7.18e+06</td> <td> 1.35e+08</td> <td> 0.000</td> <td> 9.67e+14</td> <td> 9.67e+14</td>\n",
       "</tr>\n",
       "<tr>\n",
       "  <th>What is your current occupation_Unemployed</th>                              <td> 1.095e+15</td> <td> 3.54e+06</td> <td> 3.09e+08</td> <td> 0.000</td> <td> 1.09e+15</td> <td> 1.09e+15</td>\n",
       "</tr>\n",
       "<tr>\n",
       "  <th>What is your current occupation_Working Professional</th>                    <td> 1.164e+15</td> <td> 5.15e+06</td> <td> 2.26e+08</td> <td> 0.000</td> <td> 1.16e+15</td> <td> 1.16e+15</td>\n",
       "</tr>\n",
       "<tr>\n",
       "  <th>Tags_Busy</th>                                                               <td>-5.193e+14</td> <td> 8.15e+06</td> <td>-6.37e+07</td> <td> 0.000</td> <td>-5.19e+14</td> <td>-5.19e+14</td>\n",
       "</tr>\n",
       "<tr>\n",
       "  <th>Tags_Closed by Horizzon</th>                                                 <td> 1.322e+15</td> <td> 7.83e+06</td> <td> 1.69e+08</td> <td> 0.000</td> <td> 1.32e+15</td> <td> 1.32e+15</td>\n",
       "</tr>\n",
       "<tr>\n",
       "  <th>Tags_Diploma holder (Not Eligible)</th>                                      <td>-4.095e+13</td> <td> 1.19e+07</td> <td>-3.45e+06</td> <td> 0.000</td> <td> -4.1e+13</td> <td> -4.1e+13</td>\n",
       "</tr>\n",
       "<tr>\n",
       "  <th>Tags_Graduation in progress</th>                                             <td> 6.381e+14</td> <td> 9.53e+06</td> <td>  6.7e+07</td> <td> 0.000</td> <td> 6.38e+14</td> <td> 6.38e+14</td>\n",
       "</tr>\n",
       "<tr>\n",
       "  <th>Tags_In confusion whether part time or DLP</th>                              <td> -2.25e+15</td> <td> 4.79e+07</td> <td>-4.69e+07</td> <td> 0.000</td> <td>-2.25e+15</td> <td>-2.25e+15</td>\n",
       "</tr>\n",
       "<tr>\n",
       "  <th>Tags_Interested  in full time MBA</th>                                       <td> 6.179e+12</td> <td> 8.83e+06</td> <td>    7e+05</td> <td> 0.000</td> <td> 6.18e+12</td> <td> 6.18e+12</td>\n",
       "</tr>\n",
       "<tr>\n",
       "  <th>Tags_Interested in Next batch</th>                                           <td>  3.85e+15</td> <td> 3.43e+07</td> <td> 1.12e+08</td> <td> 0.000</td> <td> 3.85e+15</td> <td> 3.85e+15</td>\n",
       "</tr>\n",
       "<tr>\n",
       "  <th>Tags_Interested in other courses</th>                                        <td> 9.883e+13</td> <td>  5.9e+06</td> <td> 1.67e+07</td> <td> 0.000</td> <td> 9.88e+13</td> <td> 9.88e+13</td>\n",
       "</tr>\n",
       "<tr>\n",
       "  <th>Tags_Lateral student</th>                                                    <td> 4.307e+15</td> <td>  4.8e+07</td> <td> 8.97e+07</td> <td> 0.000</td> <td> 4.31e+15</td> <td> 4.31e+15</td>\n",
       "</tr>\n",
       "<tr>\n",
       "  <th>Tags_Lost to EINS</th>                                                       <td> 1.926e+15</td> <td> 7.99e+06</td> <td> 2.41e+08</td> <td> 0.000</td> <td> 1.93e+15</td> <td> 1.93e+15</td>\n",
       "</tr>\n",
       "<tr>\n",
       "  <th>Tags_Lost to Others</th>                                                     <td>-3.522e+15</td> <td> 2.83e+07</td> <td>-1.25e+08</td> <td> 0.000</td> <td>-3.52e+15</td> <td>-3.52e+15</td>\n",
       "</tr>\n",
       "<tr>\n",
       "  <th>Tags_Not doing further education</th>                                        <td>-3.419e+15</td> <td> 8.06e+06</td> <td>-4.24e+08</td> <td> 0.000</td> <td>-3.42e+15</td> <td>-3.42e+15</td>\n",
       "</tr>\n",
       "<tr>\n",
       "  <th>Tags_Recognition issue (DEC approval)</th>                                   <td>-3.564e+15</td> <td> 6.92e+07</td> <td>-5.15e+07</td> <td> 0.000</td> <td>-3.56e+15</td> <td>-3.56e+15</td>\n",
       "</tr>\n",
       "<tr>\n",
       "  <th>Tags_Ringing</th>                                                            <td> -2.97e+14</td> <td> 5.63e+06</td> <td>-5.27e+07</td> <td> 0.000</td> <td>-2.97e+14</td> <td>-2.97e+14</td>\n",
       "</tr>\n",
       "<tr>\n",
       "  <th>Tags_Shall take in the next coming month</th>                                <td> 6.344e+15</td> <td> 6.77e+07</td> <td> 9.36e+07</td> <td> 0.000</td> <td> 6.34e+15</td> <td> 6.34e+15</td>\n",
       "</tr>\n",
       "<tr>\n",
       "  <th>Tags_Still Thinking</th>                                                     <td>-4.786e+15</td> <td> 3.94e+07</td> <td>-1.21e+08</td> <td> 0.000</td> <td>-4.79e+15</td> <td>-4.79e+15</td>\n",
       "</tr>\n",
       "<tr>\n",
       "  <th>Tags_University not recognized</th>                                          <td>   -5.8599</td> <td> 1.34e-07</td> <td>-4.39e+07</td> <td> 0.000</td> <td>   -5.860</td> <td>   -5.860</td>\n",
       "</tr>\n",
       "<tr>\n",
       "  <th>Tags_Unknown</th>                                                            <td> 1.343e+15</td> <td> 5.95e+06</td> <td> 2.26e+08</td> <td> 0.000</td> <td> 1.34e+15</td> <td> 1.34e+15</td>\n",
       "</tr>\n",
       "<tr>\n",
       "  <th>Tags_Want to take admission but has financial problems</th>                  <td>-2.344e+15</td> <td> 3.96e+07</td> <td>-5.92e+07</td> <td> 0.000</td> <td>-2.34e+15</td> <td>-2.34e+15</td>\n",
       "</tr>\n",
       "<tr>\n",
       "  <th>Tags_Will revert after reading the email</th>                                <td> 7.162e+14</td> <td> 6.07e+06</td> <td> 1.18e+08</td> <td> 0.000</td> <td> 7.16e+14</td> <td> 7.16e+14</td>\n",
       "</tr>\n",
       "<tr>\n",
       "  <th>Tags_in touch with EINS</th>                                                 <td> 9.258e+14</td> <td>  2.2e+07</td> <td> 4.21e+07</td> <td> 0.000</td> <td> 9.26e+14</td> <td> 9.26e+14</td>\n",
       "</tr>\n",
       "<tr>\n",
       "  <th>Tags_invalid number</th>                                                     <td>-2.899e+14</td> <td> 1.05e+07</td> <td>-2.75e+07</td> <td> 0.000</td> <td> -2.9e+14</td> <td> -2.9e+14</td>\n",
       "</tr>\n",
       "<tr>\n",
       "  <th>Tags_number not provided</th>                                                <td>-3.486e+15</td> <td> 1.89e+07</td> <td>-1.85e+08</td> <td> 0.000</td> <td>-3.49e+15</td> <td>-3.49e+15</td>\n",
       "</tr>\n",
       "<tr>\n",
       "  <th>Tags_opp hangup</th>                                                         <td>-2.028e+13</td> <td> 1.58e+07</td> <td>-1.29e+06</td> <td> 0.000</td> <td>-2.03e+13</td> <td>-2.03e+13</td>\n",
       "</tr>\n",
       "<tr>\n",
       "  <th>Tags_switched off</th>                                                       <td>-5.405e+14</td> <td> 7.52e+06</td> <td>-7.18e+07</td> <td> 0.000</td> <td>-5.41e+14</td> <td>-5.41e+14</td>\n",
       "</tr>\n",
       "<tr>\n",
       "  <th>Tags_wrong number given</th>                                                 <td>-2.148e+15</td> <td> 1.49e+07</td> <td>-1.44e+08</td> <td> 0.000</td> <td>-2.15e+15</td> <td>-2.15e+15</td>\n",
       "</tr>\n",
       "<tr>\n",
       "  <th>Lead Quality_Low in Relevance</th>                                           <td>  1.03e+14</td> <td> 5.22e+06</td> <td> 1.98e+07</td> <td> 0.000</td> <td> 1.03e+14</td> <td> 1.03e+14</td>\n",
       "</tr>\n",
       "<tr>\n",
       "  <th>Lead Quality_Might be</th>                                                   <td>-6.494e+13</td> <td> 4.51e+06</td> <td>-1.44e+07</td> <td> 0.000</td> <td>-6.49e+13</td> <td>-6.49e+13</td>\n",
       "</tr>\n",
       "<tr>\n",
       "  <th>Lead Quality_Not Sure</th>                                                   <td> 4.479e+13</td> <td> 4.98e+06</td> <td>    9e+06</td> <td> 0.000</td> <td> 4.48e+13</td> <td> 4.48e+13</td>\n",
       "</tr>\n",
       "<tr>\n",
       "  <th>Lead Quality_Worst</th>                                                      <td>-4.343e+14</td> <td> 6.54e+06</td> <td>-6.65e+07</td> <td> 0.000</td> <td>-4.34e+14</td> <td>-4.34e+14</td>\n",
       "</tr>\n",
       "<tr>\n",
       "  <th>City_Other Cities</th>                                                       <td> 1.026e+13</td> <td> 3.74e+06</td> <td> 2.74e+06</td> <td> 0.000</td> <td> 1.03e+13</td> <td> 1.03e+13</td>\n",
       "</tr>\n",
       "<tr>\n",
       "  <th>City_Other Cities of Maharashtra</th>                                        <td>-8.353e+13</td> <td> 4.29e+06</td> <td>-1.95e+07</td> <td> 0.000</td> <td>-8.35e+13</td> <td>-8.35e+13</td>\n",
       "</tr>\n",
       "<tr>\n",
       "  <th>City_Other Metro Cities</th>                                                 <td>-5.435e+13</td> <td> 4.85e+06</td> <td>-1.12e+07</td> <td> 0.000</td> <td>-5.44e+13</td> <td>-5.44e+13</td>\n",
       "</tr>\n",
       "<tr>\n",
       "  <th>City_Thane & Outskirts</th>                                                  <td> 5.903e+13</td> <td> 3.43e+06</td> <td> 1.72e+07</td> <td> 0.000</td> <td>  5.9e+13</td> <td>  5.9e+13</td>\n",
       "</tr>\n",
       "<tr>\n",
       "  <th>City_Tier II Cities</th>                                                     <td> 5.503e+13</td> <td> 9.84e+06</td> <td> 5.59e+06</td> <td> 0.000</td> <td>  5.5e+13</td> <td>  5.5e+13</td>\n",
       "</tr>\n",
       "<tr>\n",
       "  <th>Last Notable Activity_Email Bounced</th>                                     <td> 1.917e+13</td> <td> 1.65e+07</td> <td> 1.16e+06</td> <td> 0.000</td> <td> 1.92e+13</td> <td> 1.92e+13</td>\n",
       "</tr>\n",
       "<tr>\n",
       "  <th>Last Notable Activity_Email Link Clicked</th>                                <td> 3.405e+14</td> <td> 1.58e+07</td> <td> 2.16e+07</td> <td> 0.000</td> <td>  3.4e+14</td> <td>  3.4e+14</td>\n",
       "</tr>\n",
       "<tr>\n",
       "  <th>Last Notable Activity_Email Marked Spam</th>                                 <td>  -4.9e+13</td> <td> 3.08e+07</td> <td>-1.59e+06</td> <td> 0.000</td> <td> -4.9e+13</td> <td> -4.9e+13</td>\n",
       "</tr>\n",
       "<tr>\n",
       "  <th>Last Notable Activity_Email Opened</th>                                      <td> 1.503e+14</td> <td> 1.28e+07</td> <td> 1.17e+07</td> <td> 0.000</td> <td>  1.5e+14</td> <td>  1.5e+14</td>\n",
       "</tr>\n",
       "<tr>\n",
       "  <th>Last Notable Activity_Email Received</th>                                    <td> 9.968e+13</td> <td> 3.84e+07</td> <td>  2.6e+06</td> <td> 0.000</td> <td> 9.97e+13</td> <td> 9.97e+13</td>\n",
       "</tr>\n",
       "<tr>\n",
       "  <th>Last Notable Activity_Form Submitted on Website</th>                         <td>-3.102e+15</td> <td> 6.41e+07</td> <td>-4.84e+07</td> <td> 0.000</td> <td> -3.1e+15</td> <td> -3.1e+15</td>\n",
       "</tr>\n",
       "<tr>\n",
       "  <th>Last Notable Activity_Had a Phone Conversation</th>                          <td> 3.674e+14</td> <td> 3.46e+07</td> <td> 1.06e+07</td> <td> 0.000</td> <td> 3.67e+14</td> <td> 3.67e+14</td>\n",
       "</tr>\n",
       "<tr>\n",
       "  <th>Last Notable Activity_Modified</th>                                          <td>-3.302e+13</td> <td> 1.24e+07</td> <td>-2.66e+06</td> <td> 0.000</td> <td> -3.3e+13</td> <td> -3.3e+13</td>\n",
       "</tr>\n",
       "<tr>\n",
       "  <th>Last Notable Activity_Olark Chat Conversation</th>                           <td>-2.617e+14</td> <td> 1.38e+07</td> <td> -1.9e+07</td> <td> 0.000</td> <td>-2.62e+14</td> <td>-2.62e+14</td>\n",
       "</tr>\n",
       "<tr>\n",
       "  <th>Last Notable Activity_Page Visited on Website</th>                           <td> 2.469e+14</td> <td> 1.41e+07</td> <td> 1.75e+07</td> <td> 0.000</td> <td> 2.47e+14</td> <td> 2.47e+14</td>\n",
       "</tr>\n",
       "<tr>\n",
       "  <th>Last Notable Activity_Resubscribed to emails</th>                            <td> 6.383e+14</td> <td> 3.84e+07</td> <td> 1.66e+07</td> <td> 0.000</td> <td> 6.38e+14</td> <td> 6.38e+14</td>\n",
       "</tr>\n",
       "<tr>\n",
       "  <th>Last Notable Activity_SMS Sent</th>                                          <td>  6.68e+14</td> <td>  1.3e+07</td> <td> 5.14e+07</td> <td> 0.000</td> <td> 6.68e+14</td> <td> 6.68e+14</td>\n",
       "</tr>\n",
       "<tr>\n",
       "  <th>Last Notable Activity_Unreachable</th>                                       <td> 6.584e+14</td> <td> 2.06e+07</td> <td>  3.2e+07</td> <td> 0.000</td> <td> 6.58e+14</td> <td> 6.58e+14</td>\n",
       "</tr>\n",
       "<tr>\n",
       "  <th>Last Notable Activity_Unsubscribed</th>                                      <td> 1.087e+15</td> <td> 2.79e+07</td> <td>  3.9e+07</td> <td> 0.000</td> <td> 1.09e+15</td> <td> 1.09e+15</td>\n",
       "</tr>\n",
       "<tr>\n",
       "  <th>Last Notable Activity_View in browser link Clicked</th>                      <td> 7.878e+14</td> <td> 7.35e+07</td> <td> 1.07e+07</td> <td> 0.000</td> <td> 7.88e+14</td> <td> 7.88e+14</td>\n",
       "</tr>\n",
       "<tr>\n",
       "  <th>Country_Outside India</th>                                                   <td> 3.179e+13</td> <td> 4.22e+06</td> <td> 7.53e+06</td> <td> 0.000</td> <td> 3.18e+13</td> <td> 3.18e+13</td>\n",
       "</tr>\n",
       "<tr>\n",
       "  <th>What matters most to you in choosing a course_Flexibility & Convenience</th> <td> 3.564e+15</td> <td> 6.77e+07</td> <td> 5.26e+07</td> <td> 0.000</td> <td> 3.56e+15</td> <td> 3.56e+15</td>\n",
       "</tr>\n",
       "<tr>\n",
       "  <th>What matters most to you in choosing a course_Other</th>                     <td>-3.057e+15</td> <td> 6.79e+07</td> <td> -4.5e+07</td> <td> 0.000</td> <td>-3.06e+15</td> <td>-3.06e+15</td>\n",
       "</tr>\n",
       "<tr>\n",
       "  <th>Asymmetrique Activity Index_02.Medium</th>                                   <td> 4.857e+13</td> <td> 2.28e+06</td> <td> 2.13e+07</td> <td> 0.000</td> <td> 4.86e+13</td> <td> 4.86e+13</td>\n",
       "</tr>\n",
       "<tr>\n",
       "  <th>Asymmetrique Activity Index_03.Low</th>                                      <td>-6.938e+14</td> <td> 5.25e+06</td> <td>-1.32e+08</td> <td> 0.000</td> <td>-6.94e+14</td> <td>-6.94e+14</td>\n",
       "</tr>\n",
       "<tr>\n",
       "  <th>Asymmetrique Profile Index_02.Medium</th>                                    <td> 3.684e+13</td> <td> 2.76e+06</td> <td> 1.34e+07</td> <td> 0.000</td> <td> 3.68e+13</td> <td> 3.68e+13</td>\n",
       "</tr>\n",
       "<tr>\n",
       "  <th>Asymmetrique Profile Index_03.Low</th>                                       <td>-1.499e+14</td> <td> 1.76e+07</td> <td>-8.51e+06</td> <td> 0.000</td> <td> -1.5e+14</td> <td> -1.5e+14</td>\n",
       "</tr>\n",
       "</table>"
      ],
      "text/plain": [
       "<class 'statsmodels.iolib.summary.Summary'>\n",
       "\"\"\"\n",
       "                 Generalized Linear Model Regression Results                  \n",
       "==============================================================================\n",
       "Dep. Variable:              Converted   No. Observations:                 5931\n",
       "Model:                            GLM   Df Residuals:                     5816\n",
       "Model Family:                Binomial   Df Model:                          114\n",
       "Link Function:                  logit   Scale:                          1.0000\n",
       "Method:                          IRLS   Log-Likelihood:                    nan\n",
       "Date:                Sun, 17 Nov 2019   Deviance:                          nan\n",
       "Time:                        15:50:12   Pearson chi2:                 2.82e+18\n",
       "No. Iterations:                   100   Covariance Type:             nonrobust\n",
       "===========================================================================================================================================\n",
       "                                                                              coef    std err          z      P>|z|      [0.025      0.975]\n",
       "-------------------------------------------------------------------------------------------------------------------------------------------\n",
       "const                                                                    1.618e+15   5.54e+07   2.92e+07      0.000    1.62e+15    1.62e+15\n",
       "Do Not Email                                                            -2.259e+14    4.7e+06  -4.81e+07      0.000   -2.26e+14   -2.26e+14\n",
       "Do Not Call                                                              9.247e+14   4.79e+07   1.93e+07      0.000    9.25e+14    9.25e+14\n",
       "TotalVisits                                                              3.802e+13   1.52e+06    2.5e+07      0.000     3.8e+13     3.8e+13\n",
       "Total Time Spent on Website                                              3.408e+14   1.09e+06   3.14e+08      0.000    3.41e+14    3.41e+14\n",
       "Page Views Per Visit                                                    -1.121e+14   1.66e+06  -6.76e+07      0.000   -1.12e+14   -1.12e+14\n",
       "Lead Origin_Landing Page Submission                                     -2.767e+13   3.58e+06  -7.72e+06      0.000   -2.77e+13   -2.77e+13\n",
       "Lead Origin_Lead Add Form                                                -4.35e+14   3.93e+07  -1.11e+07      0.000   -4.35e+14   -4.35e+14\n",
       "Lead Origin_Lead Import                                                  1.383e+14   2.17e+07   6.36e+06      0.000    1.38e+14    1.38e+14\n",
       "Lead Source_Direct Traffic                                              -8.206e+14   4.04e+07  -2.03e+07      0.000   -8.21e+14   -8.21e+14\n",
       "Lead Source_Facebook                                                     1.383e+14   2.17e+07   6.36e+06      0.000    1.38e+14    1.38e+14\n",
       "Lead Source_Google                                                      -8.104e+14   4.04e+07  -2.01e+07      0.000    -8.1e+14    -8.1e+14\n",
       "Lead Source_Live Chat                                                    7.037e+15   6.88e+07   1.02e+08      0.000    7.04e+15    7.04e+15\n",
       "Lead Source_NC_EDM                                                       8.384e+15   7.85e+07   1.07e+08      0.000    8.38e+15    8.38e+15\n",
       "Lead Source_Olark Chat                                                  -6.637e+14   4.02e+07  -1.65e+07      0.000   -6.64e+14   -6.64e+14\n",
       "Lead Source_Organic Search                                              -8.314e+14   4.05e+07  -2.05e+07      0.000   -8.31e+14   -8.31e+14\n",
       "Lead Source_Pay per Click Ads                                           -3.495e+15   7.85e+07  -4.45e+07      0.000    -3.5e+15    -3.5e+15\n",
       "Lead Source_Press_Release                                               -3.947e+15    7.9e+07  -4.99e+07      0.000   -3.95e+15   -3.95e+15\n",
       "Lead Source_Reference                                                   -3.147e+14   1.52e+07  -2.07e+07      0.000   -3.15e+14   -3.15e+14\n",
       "Lead Source_Referral Sites                                              -9.026e+14   4.12e+07  -2.19e+07      0.000   -9.03e+14   -9.03e+14\n",
       "Lead Source_Social Media                                                 -4.11e+14   6.31e+07  -6.51e+06      0.000   -4.11e+14   -4.11e+14\n",
       "Lead Source_WeLearn                                                      2.255e+15   7.85e+07   2.87e+07      0.000    2.26e+15    2.26e+15\n",
       "Lead Source_Welingak Website                                            -3.873e+14   1.63e+07  -2.38e+07      0.000   -3.87e+14   -3.87e+14\n",
       "Lead Source_bing                                                        -4.213e+15   5.26e+07  -8.01e+07      0.000   -4.21e+15   -4.21e+15\n",
       "Lead Source_blog                                                         -4.82e+15   7.85e+07  -6.14e+07      0.000   -4.82e+15   -4.82e+15\n",
       "Lead Source_testone                                                     -4.153e+15   7.89e+07  -5.26e+07      0.000   -4.15e+15   -4.15e+15\n",
       "Lead Source_welearnblog_Home                                               52.5507    4.9e-07   1.07e+08      0.000      52.551      52.551\n",
       "Lead Source_youtubechannel                                              -8.415e+15   7.93e+07  -1.06e+08      0.000   -8.42e+15   -8.42e+15\n",
       "Last Activity_Converted to Lead                                         -2.942e+15   4.81e+07  -6.12e+07      0.000   -2.94e+15   -2.94e+15\n",
       "Last Activity_Email Bounced                                             -2.888e+15   4.84e+07  -5.97e+07      0.000   -2.89e+15   -2.89e+15\n",
       "Last Activity_Email Link Clicked                                        -2.801e+15   4.86e+07  -5.76e+07      0.000    -2.8e+15    -2.8e+15\n",
       "Last Activity_Email Marked Spam                                           -4.9e+13   3.08e+07  -1.59e+06      0.000    -4.9e+13    -4.9e+13\n",
       "Last Activity_Email Opened                                               -2.46e+15   4.79e+07  -5.13e+07      0.000   -2.46e+15   -2.46e+15\n",
       "Last Activity_Email Received                                             9.968e+13   3.84e+07    2.6e+06      0.000    9.97e+13    9.97e+13\n",
       "Last Activity_Form Submitted on Website                                 -2.659e+15   4.85e+07  -5.48e+07      0.000   -2.66e+15   -2.66e+15\n",
       "Last Activity_Had a Phone Conversation                                  -2.324e+15   5.23e+07  -4.44e+07      0.000   -2.32e+15   -2.32e+15\n",
       "Last Activity_Olark Chat Conversation                                   -2.782e+15    4.8e+07   -5.8e+07      0.000   -2.78e+15   -2.78e+15\n",
       "Last Activity_Page Visited on Website                                   -2.676e+15   4.81e+07  -5.56e+07      0.000   -2.68e+15   -2.68e+15\n",
       "Last Activity_Resubscribed to emails                                     6.383e+14   3.84e+07   1.66e+07      0.000    6.38e+14    6.38e+14\n",
       "Last Activity_SMS Sent                                                  -2.355e+15    4.8e+07   -4.9e+07      0.000   -2.36e+15   -2.36e+15\n",
       "Last Activity_Unreachable                                               -2.564e+15   4.92e+07  -5.22e+07      0.000   -2.56e+15   -2.56e+15\n",
       "Last Activity_Unsubscribed                                              -2.941e+15   5.36e+07  -5.49e+07      0.000   -2.94e+15   -2.94e+15\n",
       "Last Activity_View in browser link Clicked                              -5.379e+15   6.18e+07  -8.71e+07      0.000   -5.38e+15   -5.38e+15\n",
       "Last Activity_Visited Booth in Tradeshow                                   34.4998    6.7e-07   5.15e+07      0.000      34.500      34.500\n",
       "Specialization_Business Administration                                   6.165e+13   5.02e+06   1.23e+07      0.000    6.16e+13    6.16e+13\n",
       "Specialization_E-Business                                               -5.155e+13   1.16e+07  -4.43e+06      0.000   -5.15e+13   -5.15e+13\n",
       "Specialization_E-COMMERCE                                               -1.173e+14   8.65e+06  -1.36e+07      0.000   -1.17e+14   -1.17e+14\n",
       "Specialization_Finance Management                                       -8.568e+13   3.84e+06  -2.23e+07      0.000   -8.57e+13   -8.57e+13\n",
       "Specialization_Healthcare Management                                     8.418e+13   7.86e+06   1.07e+07      0.000    8.42e+13    8.42e+13\n",
       "Specialization_Hospitality Management                                   -2.062e+14   8.15e+06  -2.53e+07      0.000   -2.06e+14   -2.06e+14\n",
       "Specialization_Human Resource Management                                 2.918e+13   3.95e+06   7.38e+06      0.000    2.92e+13    2.92e+13\n",
       "Specialization_IT Projects Management                                    9.714e+13   5.34e+06   1.82e+07      0.000    9.71e+13    9.71e+13\n",
       "Specialization_International Business                                   -1.412e+14   6.96e+06  -2.03e+07      0.000   -1.41e+14   -1.41e+14\n",
       "Specialization_Marketing Management                                     -5.173e+13   3.85e+06  -1.34e+07      0.000   -5.17e+13   -5.17e+13\n",
       "Specialization_Media and Advertising                                    -2.379e+14   6.59e+06  -3.61e+07      0.000   -2.38e+14   -2.38e+14\n",
       "Specialization_Operations Management                                     4.038e+13    4.7e+06    8.6e+06      0.000    4.04e+13    4.04e+13\n",
       "Specialization_Retail Management                                        -4.207e+14    9.5e+06  -4.43e+07      0.000   -4.21e+14   -4.21e+14\n",
       "Specialization_Rural and Agribusiness                                   -3.235e+14   1.12e+07  -2.89e+07      0.000   -3.24e+14   -3.24e+14\n",
       "Specialization_Services Excellence                                       2.715e+14   1.37e+07   1.98e+07      0.000    2.71e+14    2.71e+14\n",
       "Specialization_Supply Chain Management                                  -2.674e+14   5.56e+06  -4.81e+07      0.000   -2.67e+14   -2.67e+14\n",
       "Specialization_Travel and Tourism                                        -3.12e+14   7.15e+06  -4.36e+07      0.000   -3.12e+14   -3.12e+14\n",
       "What is your current occupation_Housewife                                4.704e+15    2.6e+07   1.81e+08      0.000     4.7e+15     4.7e+15\n",
       "What is your current occupation_Other                                    1.111e+15    2.6e+07   4.28e+07      0.000    1.11e+15    1.11e+15\n",
       "What is your current occupation_Student                                  9.666e+14   7.18e+06   1.35e+08      0.000    9.67e+14    9.67e+14\n",
       "What is your current occupation_Unemployed                               1.095e+15   3.54e+06   3.09e+08      0.000    1.09e+15    1.09e+15\n",
       "What is your current occupation_Working Professional                     1.164e+15   5.15e+06   2.26e+08      0.000    1.16e+15    1.16e+15\n",
       "Tags_Busy                                                               -5.193e+14   8.15e+06  -6.37e+07      0.000   -5.19e+14   -5.19e+14\n",
       "Tags_Closed by Horizzon                                                  1.322e+15   7.83e+06   1.69e+08      0.000    1.32e+15    1.32e+15\n",
       "Tags_Diploma holder (Not Eligible)                                      -4.095e+13   1.19e+07  -3.45e+06      0.000    -4.1e+13    -4.1e+13\n",
       "Tags_Graduation in progress                                              6.381e+14   9.53e+06    6.7e+07      0.000    6.38e+14    6.38e+14\n",
       "Tags_In confusion whether part time or DLP                               -2.25e+15   4.79e+07  -4.69e+07      0.000   -2.25e+15   -2.25e+15\n",
       "Tags_Interested  in full time MBA                                        6.179e+12   8.83e+06      7e+05      0.000    6.18e+12    6.18e+12\n",
       "Tags_Interested in Next batch                                             3.85e+15   3.43e+07   1.12e+08      0.000    3.85e+15    3.85e+15\n",
       "Tags_Interested in other courses                                         9.883e+13    5.9e+06   1.67e+07      0.000    9.88e+13    9.88e+13\n",
       "Tags_Lateral student                                                     4.307e+15    4.8e+07   8.97e+07      0.000    4.31e+15    4.31e+15\n",
       "Tags_Lost to EINS                                                        1.926e+15   7.99e+06   2.41e+08      0.000    1.93e+15    1.93e+15\n",
       "Tags_Lost to Others                                                     -3.522e+15   2.83e+07  -1.25e+08      0.000   -3.52e+15   -3.52e+15\n",
       "Tags_Not doing further education                                        -3.419e+15   8.06e+06  -4.24e+08      0.000   -3.42e+15   -3.42e+15\n",
       "Tags_Recognition issue (DEC approval)                                   -3.564e+15   6.92e+07  -5.15e+07      0.000   -3.56e+15   -3.56e+15\n",
       "Tags_Ringing                                                             -2.97e+14   5.63e+06  -5.27e+07      0.000   -2.97e+14   -2.97e+14\n",
       "Tags_Shall take in the next coming month                                 6.344e+15   6.77e+07   9.36e+07      0.000    6.34e+15    6.34e+15\n",
       "Tags_Still Thinking                                                     -4.786e+15   3.94e+07  -1.21e+08      0.000   -4.79e+15   -4.79e+15\n",
       "Tags_University not recognized                                             -5.8599   1.34e-07  -4.39e+07      0.000      -5.860      -5.860\n",
       "Tags_Unknown                                                             1.343e+15   5.95e+06   2.26e+08      0.000    1.34e+15    1.34e+15\n",
       "Tags_Want to take admission but has financial problems                  -2.344e+15   3.96e+07  -5.92e+07      0.000   -2.34e+15   -2.34e+15\n",
       "Tags_Will revert after reading the email                                 7.162e+14   6.07e+06   1.18e+08      0.000    7.16e+14    7.16e+14\n",
       "Tags_in touch with EINS                                                  9.258e+14    2.2e+07   4.21e+07      0.000    9.26e+14    9.26e+14\n",
       "Tags_invalid number                                                     -2.899e+14   1.05e+07  -2.75e+07      0.000    -2.9e+14    -2.9e+14\n",
       "Tags_number not provided                                                -3.486e+15   1.89e+07  -1.85e+08      0.000   -3.49e+15   -3.49e+15\n",
       "Tags_opp hangup                                                         -2.028e+13   1.58e+07  -1.29e+06      0.000   -2.03e+13   -2.03e+13\n",
       "Tags_switched off                                                       -5.405e+14   7.52e+06  -7.18e+07      0.000   -5.41e+14   -5.41e+14\n",
       "Tags_wrong number given                                                 -2.148e+15   1.49e+07  -1.44e+08      0.000   -2.15e+15   -2.15e+15\n",
       "Lead Quality_Low in Relevance                                             1.03e+14   5.22e+06   1.98e+07      0.000    1.03e+14    1.03e+14\n",
       "Lead Quality_Might be                                                   -6.494e+13   4.51e+06  -1.44e+07      0.000   -6.49e+13   -6.49e+13\n",
       "Lead Quality_Not Sure                                                    4.479e+13   4.98e+06      9e+06      0.000    4.48e+13    4.48e+13\n",
       "Lead Quality_Worst                                                      -4.343e+14   6.54e+06  -6.65e+07      0.000   -4.34e+14   -4.34e+14\n",
       "City_Other Cities                                                        1.026e+13   3.74e+06   2.74e+06      0.000    1.03e+13    1.03e+13\n",
       "City_Other Cities of Maharashtra                                        -8.353e+13   4.29e+06  -1.95e+07      0.000   -8.35e+13   -8.35e+13\n",
       "City_Other Metro Cities                                                 -5.435e+13   4.85e+06  -1.12e+07      0.000   -5.44e+13   -5.44e+13\n",
       "City_Thane & Outskirts                                                   5.903e+13   3.43e+06   1.72e+07      0.000     5.9e+13     5.9e+13\n",
       "City_Tier II Cities                                                      5.503e+13   9.84e+06   5.59e+06      0.000     5.5e+13     5.5e+13\n",
       "Last Notable Activity_Email Bounced                                      1.917e+13   1.65e+07   1.16e+06      0.000    1.92e+13    1.92e+13\n",
       "Last Notable Activity_Email Link Clicked                                 3.405e+14   1.58e+07   2.16e+07      0.000     3.4e+14     3.4e+14\n",
       "Last Notable Activity_Email Marked Spam                                   -4.9e+13   3.08e+07  -1.59e+06      0.000    -4.9e+13    -4.9e+13\n",
       "Last Notable Activity_Email Opened                                       1.503e+14   1.28e+07   1.17e+07      0.000     1.5e+14     1.5e+14\n",
       "Last Notable Activity_Email Received                                     9.968e+13   3.84e+07    2.6e+06      0.000    9.97e+13    9.97e+13\n",
       "Last Notable Activity_Form Submitted on Website                         -3.102e+15   6.41e+07  -4.84e+07      0.000    -3.1e+15    -3.1e+15\n",
       "Last Notable Activity_Had a Phone Conversation                           3.674e+14   3.46e+07   1.06e+07      0.000    3.67e+14    3.67e+14\n",
       "Last Notable Activity_Modified                                          -3.302e+13   1.24e+07  -2.66e+06      0.000    -3.3e+13    -3.3e+13\n",
       "Last Notable Activity_Olark Chat Conversation                           -2.617e+14   1.38e+07   -1.9e+07      0.000   -2.62e+14   -2.62e+14\n",
       "Last Notable Activity_Page Visited on Website                            2.469e+14   1.41e+07   1.75e+07      0.000    2.47e+14    2.47e+14\n",
       "Last Notable Activity_Resubscribed to emails                             6.383e+14   3.84e+07   1.66e+07      0.000    6.38e+14    6.38e+14\n",
       "Last Notable Activity_SMS Sent                                            6.68e+14    1.3e+07   5.14e+07      0.000    6.68e+14    6.68e+14\n",
       "Last Notable Activity_Unreachable                                        6.584e+14   2.06e+07    3.2e+07      0.000    6.58e+14    6.58e+14\n",
       "Last Notable Activity_Unsubscribed                                       1.087e+15   2.79e+07    3.9e+07      0.000    1.09e+15    1.09e+15\n",
       "Last Notable Activity_View in browser link Clicked                       7.878e+14   7.35e+07   1.07e+07      0.000    7.88e+14    7.88e+14\n",
       "Country_Outside India                                                    3.179e+13   4.22e+06   7.53e+06      0.000    3.18e+13    3.18e+13\n",
       "What matters most to you in choosing a course_Flexibility & Convenience  3.564e+15   6.77e+07   5.26e+07      0.000    3.56e+15    3.56e+15\n",
       "What matters most to you in choosing a course_Other                     -3.057e+15   6.79e+07   -4.5e+07      0.000   -3.06e+15   -3.06e+15\n",
       "Asymmetrique Activity Index_02.Medium                                    4.857e+13   2.28e+06   2.13e+07      0.000    4.86e+13    4.86e+13\n",
       "Asymmetrique Activity Index_03.Low                                      -6.938e+14   5.25e+06  -1.32e+08      0.000   -6.94e+14   -6.94e+14\n",
       "Asymmetrique Profile Index_02.Medium                                     3.684e+13   2.76e+06   1.34e+07      0.000    3.68e+13    3.68e+13\n",
       "Asymmetrique Profile Index_03.Low                                       -1.499e+14   1.76e+07  -8.51e+06      0.000    -1.5e+14    -1.5e+14\n",
       "===========================================================================================================================================\n",
       "\"\"\""
      ]
     },
     "execution_count": 87,
     "metadata": {},
     "output_type": "execute_result"
    }
   ],
   "source": [
    "import statsmodels.api as sm\n",
    "\n",
    "logm1 = sm.GLM(y_train,(sm.add_constant(X_train)), family = sm.families.Binomial())\n",
    "logm1.fit().summary()"
   ]
  },
  {
   "cell_type": "code",
   "execution_count": 88,
   "metadata": {},
   "outputs": [
    {
     "data": {
      "text/plain": [
       "Index([u'Do Not Email', u'Do Not Call', u'TotalVisits',\n",
       "       u'Total Time Spent on Website', u'Page Views Per Visit',\n",
       "       u'Lead Origin_Landing Page Submission', u'Lead Origin_Lead Add Form',\n",
       "       u'Lead Origin_Lead Import', u'Lead Source_Direct Traffic',\n",
       "       u'Lead Source_Facebook',\n",
       "       ...\n",
       "       u'Last Notable Activity_Unreachable',\n",
       "       u'Last Notable Activity_Unsubscribed',\n",
       "       u'Last Notable Activity_View in browser link Clicked',\n",
       "       u'Country_Outside India',\n",
       "       u'What matters most to you in choosing a course_Flexibility & Convenience',\n",
       "       u'What matters most to you in choosing a course_Other',\n",
       "       u'Asymmetrique Activity Index_02.Medium',\n",
       "       u'Asymmetrique Activity Index_03.Low',\n",
       "       u'Asymmetrique Profile Index_02.Medium',\n",
       "       u'Asymmetrique Profile Index_03.Low'],\n",
       "      dtype='object', length=122)"
      ]
     },
     "execution_count": 88,
     "metadata": {},
     "output_type": "execute_result"
    }
   ],
   "source": [
    "X_train.columns"
   ]
  },
  {
   "cell_type": "code",
   "execution_count": 89,
   "metadata": {},
   "outputs": [
    {
     "name": "stderr",
     "output_type": "stream",
     "text": [
      "C:\\Users\\STS\\Anaconda2\\lib\\site-packages\\sklearn\\linear_model\\logistic.py:433: FutureWarning: Default solver will be changed to 'lbfgs' in 0.22. Specify a solver to silence this warning.\n",
      "  FutureWarning)\n"
     ]
    }
   ],
   "source": [
    "from sklearn.linear_model import LogisticRegression\n",
    "logreg = LogisticRegression()\n",
    "\n",
    "from sklearn.feature_selection import RFE\n",
    "rfe = RFE(logreg, 20)             # running RFE with 15 variables as output\n",
    "rfe = rfe.fit(X_train, y_train)\n"
   ]
  },
  {
   "cell_type": "code",
   "execution_count": 90,
   "metadata": {},
   "outputs": [
    {
     "data": {
      "text/plain": [
       "[('Do Not Email', False, 3),\n",
       " ('Do Not Call', False, 65),\n",
       " ('TotalVisits', False, 64),\n",
       " ('Total Time Spent on Website', False, 9),\n",
       " ('Page Views Per Visit', False, 58),\n",
       " ('Lead Origin_Landing Page Submission', False, 34),\n",
       " ('Lead Origin_Lead Add Form', False, 28),\n",
       " ('Lead Origin_Lead Import', False, 44),\n",
       " ('Lead Source_Direct Traffic', False, 6),\n",
       " ('Lead Source_Facebook', False, 31),\n",
       " ('Lead Source_Google', False, 7),\n",
       " ('Lead Source_Live Chat', False, 98),\n",
       " ('Lead Source_NC_EDM', False, 32),\n",
       " ('Lead Source_Olark Chat', False, 57),\n",
       " ('Lead Source_Organic Search', False, 8),\n",
       " ('Lead Source_Pay per Click Ads', False, 93),\n",
       " ('Lead Source_Press_Release', False, 99),\n",
       " ('Lead Source_Reference', False, 33),\n",
       " ('Lead Source_Referral Sites', False, 10),\n",
       " ('Lead Source_Social Media', False, 73),\n",
       " ('Lead Source_WeLearn', False, 97),\n",
       " ('Lead Source_Welingak Website', True, 1),\n",
       " ('Lead Source_bing', False, 45),\n",
       " ('Lead Source_blog', False, 56),\n",
       " ('Lead Source_testone', False, 96),\n",
       " ('Lead Source_welearnblog_Home', False, 101),\n",
       " ('Lead Source_youtubechannel', False, 66),\n",
       " ('Last Activity_Converted to Lead', False, 24),\n",
       " ('Last Activity_Email Bounced', False, 16),\n",
       " ('Last Activity_Email Link Clicked', False, 90),\n",
       " ('Last Activity_Email Marked Spam', False, 81),\n",
       " ('Last Activity_Email Opened', False, 68),\n",
       " ('Last Activity_Email Received', False, 95),\n",
       " ('Last Activity_Form Submitted on Website', False, 67),\n",
       " ('Last Activity_Had a Phone Conversation', False, 69),\n",
       " ('Last Activity_Olark Chat Conversation', False, 15),\n",
       " ('Last Activity_Page Visited on Website', False, 40),\n",
       " ('Last Activity_Resubscribed to emails', False, 72),\n",
       " ('Last Activity_SMS Sent', True, 1),\n",
       " ('Last Activity_Unreachable', False, 82),\n",
       " ('Last Activity_Unsubscribed', False, 74),\n",
       " ('Last Activity_View in browser link Clicked', False, 47),\n",
       " ('Last Activity_Visited Booth in Tradeshow', False, 103),\n",
       " ('Specialization_Business Administration', False, 87),\n",
       " ('Specialization_E-Business', False, 53),\n",
       " ('Specialization_E-COMMERCE', False, 89),\n",
       " ('Specialization_Finance Management', False, 48),\n",
       " ('Specialization_Healthcare Management', False, 79),\n",
       " ('Specialization_Hospitality Management', False, 39),\n",
       " ('Specialization_Human Resource Management', False, 78),\n",
       " ('Specialization_IT Projects Management', False, 49),\n",
       " ('Specialization_International Business', False, 38),\n",
       " ('Specialization_Marketing Management', False, 86),\n",
       " ('Specialization_Media and Advertising', False, 25),\n",
       " ('Specialization_Operations Management', False, 85),\n",
       " ('Specialization_Retail Management', False, 22),\n",
       " ('Specialization_Rural and Agribusiness', False, 36),\n",
       " ('Specialization_Services Excellence', False, 41),\n",
       " ('Specialization_Supply Chain Management', False, 35),\n",
       " ('Specialization_Travel and Tourism', False, 20),\n",
       " ('What is your current occupation_Housewife', False, 11),\n",
       " ('What is your current occupation_Other', False, 26),\n",
       " ('What is your current occupation_Student', True, 1),\n",
       " ('What is your current occupation_Unemployed', True, 1),\n",
       " ('What is your current occupation_Working Professional', True, 1),\n",
       " ('Tags_Busy', True, 1),\n",
       " ('Tags_Closed by Horizzon', True, 1),\n",
       " ('Tags_Diploma holder (Not Eligible)', False, 13),\n",
       " ('Tags_Graduation in progress', False, 37),\n",
       " ('Tags_In confusion whether part time or DLP', False, 30),\n",
       " ('Tags_Interested  in full time MBA', False, 4),\n",
       " ('Tags_Interested in Next batch', False, 21),\n",
       " ('Tags_Interested in other courses', False, 5),\n",
       " ('Tags_Lateral student', False, 2),\n",
       " ('Tags_Lost to EINS', True, 1),\n",
       " ('Tags_Lost to Others', False, 55),\n",
       " ('Tags_Not doing further education', True, 1),\n",
       " ('Tags_Recognition issue (DEC approval)', False, 62),\n",
       " ('Tags_Ringing', True, 1),\n",
       " ('Tags_Shall take in the next coming month', False, 23),\n",
       " ('Tags_Still Thinking', False, 19),\n",
       " ('Tags_University not recognized', False, 102),\n",
       " ('Tags_Unknown', True, 1),\n",
       " ('Tags_Want to take admission but has financial problems', False, 59),\n",
       " ('Tags_Will revert after reading the email', True, 1),\n",
       " ('Tags_in touch with EINS', False, 12),\n",
       " ('Tags_invalid number', True, 1),\n",
       " ('Tags_number not provided', True, 1),\n",
       " ('Tags_opp hangup', False, 27),\n",
       " ('Tags_switched off', True, 1),\n",
       " ('Tags_wrong number given', True, 1),\n",
       " ('Lead Quality_Low in Relevance', False, 75),\n",
       " ('Lead Quality_Might be', False, 18),\n",
       " ('Lead Quality_Not Sure', False, 17),\n",
       " ('Lead Quality_Worst', True, 1),\n",
       " ('City_Other Cities', False, 52),\n",
       " ('City_Other Cities of Maharashtra', False, 61),\n",
       " ('City_Other Metro Cities', False, 60),\n",
       " ('City_Thane & Outskirts', False, 88),\n",
       " ('City_Tier II Cities', False, 84),\n",
       " ('Last Notable Activity_Email Bounced', False, 43),\n",
       " ('Last Notable Activity_Email Link Clicked', False, 29),\n",
       " ('Last Notable Activity_Email Marked Spam', False, 83),\n",
       " ('Last Notable Activity_Email Opened', False, 42),\n",
       " ('Last Notable Activity_Email Received', False, 94),\n",
       " ('Last Notable Activity_Form Submitted on Website', False, 77),\n",
       " ('Last Notable Activity_Had a Phone Conversation', False, 91),\n",
       " ('Last Notable Activity_Modified', True, 1),\n",
       " ('Last Notable Activity_Olark Chat Conversation', True, 1),\n",
       " ('Last Notable Activity_Page Visited on Website', False, 70),\n",
       " ('Last Notable Activity_Resubscribed to emails', False, 71),\n",
       " ('Last Notable Activity_SMS Sent', False, 14),\n",
       " ('Last Notable Activity_Unreachable', False, 46),\n",
       " ('Last Notable Activity_Unsubscribed', False, 51),\n",
       " ('Last Notable Activity_View in browser link Clicked', False, 80),\n",
       " ('Country_Outside India', False, 50),\n",
       " ('What matters most to you in choosing a course_Flexibility & Convenience',\n",
       "  False,\n",
       "  92),\n",
       " ('What matters most to you in choosing a course_Other', False, 100),\n",
       " ('Asymmetrique Activity Index_02.Medium', False, 54),\n",
       " ('Asymmetrique Activity Index_03.Low', True, 1),\n",
       " ('Asymmetrique Profile Index_02.Medium', False, 76),\n",
       " ('Asymmetrique Profile Index_03.Low', False, 63)]"
      ]
     },
     "execution_count": 90,
     "metadata": {},
     "output_type": "execute_result"
    }
   ],
   "source": [
    "list(zip(X_train.columns, rfe.support_, rfe.ranking_))\n"
   ]
  },
  {
   "cell_type": "code",
   "execution_count": 91,
   "metadata": {},
   "outputs": [
    {
     "data": {
      "text/plain": [
       "Index([u'Lead Source_Welingak Website', u'Last Activity_SMS Sent',\n",
       "       u'What is your current occupation_Student',\n",
       "       u'What is your current occupation_Unemployed',\n",
       "       u'What is your current occupation_Working Professional', u'Tags_Busy',\n",
       "       u'Tags_Closed by Horizzon', u'Tags_Lost to EINS',\n",
       "       u'Tags_Not doing further education', u'Tags_Ringing', u'Tags_Unknown',\n",
       "       u'Tags_Will revert after reading the email', u'Tags_invalid number',\n",
       "       u'Tags_number not provided', u'Tags_switched off',\n",
       "       u'Tags_wrong number given', u'Lead Quality_Worst',\n",
       "       u'Last Notable Activity_Modified',\n",
       "       u'Last Notable Activity_Olark Chat Conversation',\n",
       "       u'Asymmetrique Activity Index_03.Low'],\n",
       "      dtype='object')"
      ]
     },
     "execution_count": 91,
     "metadata": {},
     "output_type": "execute_result"
    }
   ],
   "source": [
    "col = X_train.columns[rfe.support_]\n",
    "col"
   ]
  },
  {
   "cell_type": "code",
   "execution_count": 92,
   "metadata": {},
   "outputs": [
    {
     "data": {
      "text/html": [
       "<table class=\"simpletable\">\n",
       "<caption>Generalized Linear Model Regression Results</caption>\n",
       "<tr>\n",
       "  <th>Dep. Variable:</th>      <td>Converted</td>    <th>  No. Observations:  </th>  <td>  5931</td>  \n",
       "</tr>\n",
       "<tr>\n",
       "  <th>Model:</th>                 <td>GLM</td>       <th>  Df Residuals:      </th>  <td>  5910</td>  \n",
       "</tr>\n",
       "<tr>\n",
       "  <th>Model Family:</th>       <td>Binomial</td>     <th>  Df Model:          </th>  <td>    20</td>  \n",
       "</tr>\n",
       "<tr>\n",
       "  <th>Link Function:</th>        <td>logit</td>      <th>  Scale:             </th> <td>  1.0000</td> \n",
       "</tr>\n",
       "<tr>\n",
       "  <th>Method:</th>               <td>IRLS</td>       <th>  Log-Likelihood:    </th> <td> -1106.5</td> \n",
       "</tr>\n",
       "<tr>\n",
       "  <th>Date:</th>           <td>Sun, 17 Nov 2019</td> <th>  Deviance:          </th> <td>  2213.1</td> \n",
       "</tr>\n",
       "<tr>\n",
       "  <th>Time:</th>               <td>15:50:20</td>     <th>  Pearson chi2:      </th> <td>1.13e+04</td> \n",
       "</tr>\n",
       "<tr>\n",
       "  <th>No. Iterations:</th>        <td>24</td>        <th>  Covariance Type:   </th> <td>nonrobust</td>\n",
       "</tr>\n",
       "</table>\n",
       "<table class=\"simpletable\">\n",
       "<tr>\n",
       "                            <td></td>                              <th>coef</th>     <th>std err</th>      <th>z</th>      <th>P>|z|</th>  <th>[0.025</th>    <th>0.975]</th>  \n",
       "</tr>\n",
       "<tr>\n",
       "  <th>const</th>                                                <td>   -4.9761</td> <td>    0.261</td> <td>  -19.062</td> <td> 0.000</td> <td>   -5.488</td> <td>   -4.464</td>\n",
       "</tr>\n",
       "<tr>\n",
       "  <th>Lead Source_Welingak Website</th>                         <td>    3.2691</td> <td>    1.032</td> <td>    3.167</td> <td> 0.002</td> <td>    1.246</td> <td>    5.292</td>\n",
       "</tr>\n",
       "<tr>\n",
       "  <th>Last Activity_SMS Sent</th>                               <td>    2.1137</td> <td>    0.128</td> <td>   16.552</td> <td> 0.000</td> <td>    1.863</td> <td>    2.364</td>\n",
       "</tr>\n",
       "<tr>\n",
       "  <th>What is your current occupation_Student</th>              <td>    2.2697</td> <td>    0.559</td> <td>    4.062</td> <td> 0.000</td> <td>    1.175</td> <td>    3.365</td>\n",
       "</tr>\n",
       "<tr>\n",
       "  <th>What is your current occupation_Unemployed</th>           <td>    2.5538</td> <td>    0.150</td> <td>   17.026</td> <td> 0.000</td> <td>    2.260</td> <td>    2.848</td>\n",
       "</tr>\n",
       "<tr>\n",
       "  <th>What is your current occupation_Working Professional</th> <td>    2.8338</td> <td>    0.381</td> <td>    7.433</td> <td> 0.000</td> <td>    2.087</td> <td>    3.581</td>\n",
       "</tr>\n",
       "<tr>\n",
       "  <th>Tags_Busy</th>                                            <td>    1.7522</td> <td>    0.304</td> <td>    5.769</td> <td> 0.000</td> <td>    1.157</td> <td>    2.347</td>\n",
       "</tr>\n",
       "<tr>\n",
       "  <th>Tags_Closed by Horizzon</th>                              <td>    8.1544</td> <td>    0.758</td> <td>   10.764</td> <td> 0.000</td> <td>    6.670</td> <td>    9.639</td>\n",
       "</tr>\n",
       "<tr>\n",
       "  <th>Tags_Lost to EINS</th>                                    <td>    9.5322</td> <td>    0.823</td> <td>   11.589</td> <td> 0.000</td> <td>    7.920</td> <td>   11.144</td>\n",
       "</tr>\n",
       "<tr>\n",
       "  <th>Tags_Not doing further education</th>                     <td>  -21.8649</td> <td>  1.9e+04</td> <td>   -0.001</td> <td> 0.999</td> <td>-3.73e+04</td> <td> 3.72e+04</td>\n",
       "</tr>\n",
       "<tr>\n",
       "  <th>Tags_Ringing</th>                                         <td>   -2.2970</td> <td>    0.321</td> <td>   -7.146</td> <td> 0.000</td> <td>   -2.927</td> <td>   -1.667</td>\n",
       "</tr>\n",
       "<tr>\n",
       "  <th>Tags_Unknown</th>                                         <td>    2.8459</td> <td>    0.235</td> <td>   12.098</td> <td> 0.000</td> <td>    2.385</td> <td>    3.307</td>\n",
       "</tr>\n",
       "<tr>\n",
       "  <th>Tags_Will revert after reading the email</th>             <td>    5.8932</td> <td>    0.274</td> <td>   21.509</td> <td> 0.000</td> <td>    5.356</td> <td>    6.430</td>\n",
       "</tr>\n",
       "<tr>\n",
       "  <th>Tags_invalid number</th>                                  <td>   -2.1123</td> <td>    1.055</td> <td>   -2.003</td> <td> 0.045</td> <td>   -4.180</td> <td>   -0.045</td>\n",
       "</tr>\n",
       "<tr>\n",
       "  <th>Tags_number not provided</th>                             <td>  -24.2462</td> <td> 5.11e+04</td> <td>   -0.000</td> <td> 1.000</td> <td>   -1e+05</td> <td>    1e+05</td>\n",
       "</tr>\n",
       "<tr>\n",
       "  <th>Tags_switched off</th>                                    <td>   -3.1247</td> <td>    0.750</td> <td>   -4.164</td> <td> 0.000</td> <td>   -4.596</td> <td>   -1.654</td>\n",
       "</tr>\n",
       "<tr>\n",
       "  <th>Tags_wrong number given</th>                              <td>  -24.0097</td> <td>    4e+04</td> <td>   -0.001</td> <td> 1.000</td> <td>-7.84e+04</td> <td> 7.83e+04</td>\n",
       "</tr>\n",
       "<tr>\n",
       "  <th>Lead Quality_Worst</th>                                   <td>   -2.6763</td> <td>    0.781</td> <td>   -3.428</td> <td> 0.001</td> <td>   -4.206</td> <td>   -1.146</td>\n",
       "</tr>\n",
       "<tr>\n",
       "  <th>Last Notable Activity_Modified</th>                       <td>   -1.4945</td> <td>    0.134</td> <td>  -11.175</td> <td> 0.000</td> <td>   -1.757</td> <td>   -1.232</td>\n",
       "</tr>\n",
       "<tr>\n",
       "  <th>Last Notable Activity_Olark Chat Conversation</th>        <td>   -1.4230</td> <td>    0.431</td> <td>   -3.304</td> <td> 0.001</td> <td>   -2.267</td> <td>   -0.579</td>\n",
       "</tr>\n",
       "<tr>\n",
       "  <th>Asymmetrique Activity Index_03.Low</th>                   <td>   -2.2752</td> <td>    0.475</td> <td>   -4.792</td> <td> 0.000</td> <td>   -3.206</td> <td>   -1.345</td>\n",
       "</tr>\n",
       "</table>"
      ],
      "text/plain": [
       "<class 'statsmodels.iolib.summary.Summary'>\n",
       "\"\"\"\n",
       "                 Generalized Linear Model Regression Results                  \n",
       "==============================================================================\n",
       "Dep. Variable:              Converted   No. Observations:                 5931\n",
       "Model:                            GLM   Df Residuals:                     5910\n",
       "Model Family:                Binomial   Df Model:                           20\n",
       "Link Function:                  logit   Scale:                          1.0000\n",
       "Method:                          IRLS   Log-Likelihood:                -1106.5\n",
       "Date:                Sun, 17 Nov 2019   Deviance:                       2213.1\n",
       "Time:                        15:50:20   Pearson chi2:                 1.13e+04\n",
       "No. Iterations:                    24   Covariance Type:             nonrobust\n",
       "========================================================================================================================\n",
       "                                                           coef    std err          z      P>|z|      [0.025      0.975]\n",
       "------------------------------------------------------------------------------------------------------------------------\n",
       "const                                                   -4.9761      0.261    -19.062      0.000      -5.488      -4.464\n",
       "Lead Source_Welingak Website                             3.2691      1.032      3.167      0.002       1.246       5.292\n",
       "Last Activity_SMS Sent                                   2.1137      0.128     16.552      0.000       1.863       2.364\n",
       "What is your current occupation_Student                  2.2697      0.559      4.062      0.000       1.175       3.365\n",
       "What is your current occupation_Unemployed               2.5538      0.150     17.026      0.000       2.260       2.848\n",
       "What is your current occupation_Working Professional     2.8338      0.381      7.433      0.000       2.087       3.581\n",
       "Tags_Busy                                                1.7522      0.304      5.769      0.000       1.157       2.347\n",
       "Tags_Closed by Horizzon                                  8.1544      0.758     10.764      0.000       6.670       9.639\n",
       "Tags_Lost to EINS                                        9.5322      0.823     11.589      0.000       7.920      11.144\n",
       "Tags_Not doing further education                       -21.8649    1.9e+04     -0.001      0.999   -3.73e+04    3.72e+04\n",
       "Tags_Ringing                                            -2.2970      0.321     -7.146      0.000      -2.927      -1.667\n",
       "Tags_Unknown                                             2.8459      0.235     12.098      0.000       2.385       3.307\n",
       "Tags_Will revert after reading the email                 5.8932      0.274     21.509      0.000       5.356       6.430\n",
       "Tags_invalid number                                     -2.1123      1.055     -2.003      0.045      -4.180      -0.045\n",
       "Tags_number not provided                               -24.2462   5.11e+04     -0.000      1.000      -1e+05       1e+05\n",
       "Tags_switched off                                       -3.1247      0.750     -4.164      0.000      -4.596      -1.654\n",
       "Tags_wrong number given                                -24.0097      4e+04     -0.001      1.000   -7.84e+04    7.83e+04\n",
       "Lead Quality_Worst                                      -2.6763      0.781     -3.428      0.001      -4.206      -1.146\n",
       "Last Notable Activity_Modified                          -1.4945      0.134    -11.175      0.000      -1.757      -1.232\n",
       "Last Notable Activity_Olark Chat Conversation           -1.4230      0.431     -3.304      0.001      -2.267      -0.579\n",
       "Asymmetrique Activity Index_03.Low                      -2.2752      0.475     -4.792      0.000      -3.206      -1.345\n",
       "========================================================================================================================\n",
       "\"\"\""
      ]
     },
     "execution_count": 92,
     "metadata": {},
     "output_type": "execute_result"
    }
   ],
   "source": [
    "X_train_sm = sm.add_constant(X_train[col])\n",
    "logm2 = sm.GLM(y_train,X_train_sm, family = sm.families.Binomial())\n",
    "res = logm2.fit()\n",
    "res.summary()"
   ]
  },
  {
   "cell_type": "code",
   "execution_count": 93,
   "metadata": {},
   "outputs": [],
   "source": [
    "col1 = col.drop('Tags_number not provided',1)\n",
    "col1 = col1.drop('Tags_wrong number given',1)\n",
    "col1 = col1.drop('Tags_Not doing further education',1)\n",
    "\n"
   ]
  },
  {
   "cell_type": "code",
   "execution_count": 94,
   "metadata": {},
   "outputs": [
    {
     "data": {
      "text/html": [
       "<table class=\"simpletable\">\n",
       "<caption>Generalized Linear Model Regression Results</caption>\n",
       "<tr>\n",
       "  <th>Dep. Variable:</th>      <td>Converted</td>    <th>  No. Observations:  </th>  <td>  5931</td>  \n",
       "</tr>\n",
       "<tr>\n",
       "  <th>Model:</th>                 <td>GLM</td>       <th>  Df Residuals:      </th>  <td>  5913</td>  \n",
       "</tr>\n",
       "<tr>\n",
       "  <th>Model Family:</th>       <td>Binomial</td>     <th>  Df Model:          </th>  <td>    17</td>  \n",
       "</tr>\n",
       "<tr>\n",
       "  <th>Link Function:</th>        <td>logit</td>      <th>  Scale:             </th> <td>  1.0000</td> \n",
       "</tr>\n",
       "<tr>\n",
       "  <th>Method:</th>               <td>IRLS</td>       <th>  Log-Likelihood:    </th> <td> -1116.3</td> \n",
       "</tr>\n",
       "<tr>\n",
       "  <th>Date:</th>           <td>Sun, 17 Nov 2019</td> <th>  Deviance:          </th> <td>  2232.6</td> \n",
       "</tr>\n",
       "<tr>\n",
       "  <th>Time:</th>               <td>15:50:22</td>     <th>  Pearson chi2:      </th> <td>1.10e+04</td> \n",
       "</tr>\n",
       "<tr>\n",
       "  <th>No. Iterations:</th>         <td>8</td>        <th>  Covariance Type:   </th> <td>nonrobust</td>\n",
       "</tr>\n",
       "</table>\n",
       "<table class=\"simpletable\">\n",
       "<tr>\n",
       "                            <td></td>                              <th>coef</th>     <th>std err</th>      <th>z</th>      <th>P>|z|</th>  <th>[0.025</th>    <th>0.975]</th>  \n",
       "</tr>\n",
       "<tr>\n",
       "  <th>const</th>                                                <td>   -5.2853</td> <td>    0.262</td> <td>  -20.144</td> <td> 0.000</td> <td>   -5.799</td> <td>   -4.771</td>\n",
       "</tr>\n",
       "<tr>\n",
       "  <th>Lead Source_Welingak Website</th>                         <td>    3.2701</td> <td>    1.032</td> <td>    3.170</td> <td> 0.002</td> <td>    1.248</td> <td>    5.292</td>\n",
       "</tr>\n",
       "<tr>\n",
       "  <th>Last Activity_SMS Sent</th>                               <td>    2.0605</td> <td>    0.126</td> <td>   16.388</td> <td> 0.000</td> <td>    1.814</td> <td>    2.307</td>\n",
       "</tr>\n",
       "<tr>\n",
       "  <th>What is your current occupation_Student</th>              <td>    2.2829</td> <td>    0.564</td> <td>    4.049</td> <td> 0.000</td> <td>    1.178</td> <td>    3.388</td>\n",
       "</tr>\n",
       "<tr>\n",
       "  <th>What is your current occupation_Unemployed</th>           <td>    2.5390</td> <td>    0.149</td> <td>   17.040</td> <td> 0.000</td> <td>    2.247</td> <td>    2.831</td>\n",
       "</tr>\n",
       "<tr>\n",
       "  <th>What is your current occupation_Working Professional</th> <td>    2.8481</td> <td>    0.385</td> <td>    7.395</td> <td> 0.000</td> <td>    2.093</td> <td>    3.603</td>\n",
       "</tr>\n",
       "<tr>\n",
       "  <th>Tags_Busy</th>                                            <td>    2.0986</td> <td>    0.301</td> <td>    6.982</td> <td> 0.000</td> <td>    1.509</td> <td>    2.688</td>\n",
       "</tr>\n",
       "<tr>\n",
       "  <th>Tags_Closed by Horizzon</th>                              <td>    8.4478</td> <td>    0.758</td> <td>   11.138</td> <td> 0.000</td> <td>    6.961</td> <td>    9.934</td>\n",
       "</tr>\n",
       "<tr>\n",
       "  <th>Tags_Lost to EINS</th>                                    <td>    9.7944</td> <td>    0.820</td> <td>   11.943</td> <td> 0.000</td> <td>    8.187</td> <td>   11.402</td>\n",
       "</tr>\n",
       "<tr>\n",
       "  <th>Tags_Ringing</th>                                         <td>   -1.9306</td> <td>    0.317</td> <td>   -6.093</td> <td> 0.000</td> <td>   -2.552</td> <td>   -1.310</td>\n",
       "</tr>\n",
       "<tr>\n",
       "  <th>Tags_Unknown</th>                                         <td>    3.1723</td> <td>    0.235</td> <td>   13.499</td> <td> 0.000</td> <td>    2.712</td> <td>    3.633</td>\n",
       "</tr>\n",
       "<tr>\n",
       "  <th>Tags_Will revert after reading the email</th>             <td>    6.2021</td> <td>    0.275</td> <td>   22.523</td> <td> 0.000</td> <td>    5.662</td> <td>    6.742</td>\n",
       "</tr>\n",
       "<tr>\n",
       "  <th>Tags_invalid number</th>                                  <td>   -1.7531</td> <td>    1.053</td> <td>   -1.665</td> <td> 0.096</td> <td>   -3.816</td> <td>    0.310</td>\n",
       "</tr>\n",
       "<tr>\n",
       "  <th>Tags_switched off</th>                                    <td>   -2.7546</td> <td>    0.748</td> <td>   -3.681</td> <td> 0.000</td> <td>   -4.221</td> <td>   -1.288</td>\n",
       "</tr>\n",
       "<tr>\n",
       "  <th>Lead Quality_Worst</th>                                   <td>   -2.5719</td> <td>    0.793</td> <td>   -3.242</td> <td> 0.001</td> <td>   -4.127</td> <td>   -1.017</td>\n",
       "</tr>\n",
       "<tr>\n",
       "  <th>Last Notable Activity_Modified</th>                       <td>   -1.4667</td> <td>    0.133</td> <td>  -10.992</td> <td> 0.000</td> <td>   -1.728</td> <td>   -1.205</td>\n",
       "</tr>\n",
       "<tr>\n",
       "  <th>Last Notable Activity_Olark Chat Conversation</th>        <td>   -1.4225</td> <td>    0.431</td> <td>   -3.303</td> <td> 0.001</td> <td>   -2.267</td> <td>   -0.578</td>\n",
       "</tr>\n",
       "<tr>\n",
       "  <th>Asymmetrique Activity Index_03.Low</th>                   <td>   -2.2547</td> <td>    0.476</td> <td>   -4.732</td> <td> 0.000</td> <td>   -3.189</td> <td>   -1.321</td>\n",
       "</tr>\n",
       "</table>"
      ],
      "text/plain": [
       "<class 'statsmodels.iolib.summary.Summary'>\n",
       "\"\"\"\n",
       "                 Generalized Linear Model Regression Results                  \n",
       "==============================================================================\n",
       "Dep. Variable:              Converted   No. Observations:                 5931\n",
       "Model:                            GLM   Df Residuals:                     5913\n",
       "Model Family:                Binomial   Df Model:                           17\n",
       "Link Function:                  logit   Scale:                          1.0000\n",
       "Method:                          IRLS   Log-Likelihood:                -1116.3\n",
       "Date:                Sun, 17 Nov 2019   Deviance:                       2232.6\n",
       "Time:                        15:50:22   Pearson chi2:                 1.10e+04\n",
       "No. Iterations:                     8   Covariance Type:             nonrobust\n",
       "========================================================================================================================\n",
       "                                                           coef    std err          z      P>|z|      [0.025      0.975]\n",
       "------------------------------------------------------------------------------------------------------------------------\n",
       "const                                                   -5.2853      0.262    -20.144      0.000      -5.799      -4.771\n",
       "Lead Source_Welingak Website                             3.2701      1.032      3.170      0.002       1.248       5.292\n",
       "Last Activity_SMS Sent                                   2.0605      0.126     16.388      0.000       1.814       2.307\n",
       "What is your current occupation_Student                  2.2829      0.564      4.049      0.000       1.178       3.388\n",
       "What is your current occupation_Unemployed               2.5390      0.149     17.040      0.000       2.247       2.831\n",
       "What is your current occupation_Working Professional     2.8481      0.385      7.395      0.000       2.093       3.603\n",
       "Tags_Busy                                                2.0986      0.301      6.982      0.000       1.509       2.688\n",
       "Tags_Closed by Horizzon                                  8.4478      0.758     11.138      0.000       6.961       9.934\n",
       "Tags_Lost to EINS                                        9.7944      0.820     11.943      0.000       8.187      11.402\n",
       "Tags_Ringing                                            -1.9306      0.317     -6.093      0.000      -2.552      -1.310\n",
       "Tags_Unknown                                             3.1723      0.235     13.499      0.000       2.712       3.633\n",
       "Tags_Will revert after reading the email                 6.2021      0.275     22.523      0.000       5.662       6.742\n",
       "Tags_invalid number                                     -1.7531      1.053     -1.665      0.096      -3.816       0.310\n",
       "Tags_switched off                                       -2.7546      0.748     -3.681      0.000      -4.221      -1.288\n",
       "Lead Quality_Worst                                      -2.5719      0.793     -3.242      0.001      -4.127      -1.017\n",
       "Last Notable Activity_Modified                          -1.4667      0.133    -10.992      0.000      -1.728      -1.205\n",
       "Last Notable Activity_Olark Chat Conversation           -1.4225      0.431     -3.303      0.001      -2.267      -0.578\n",
       "Asymmetrique Activity Index_03.Low                      -2.2547      0.476     -4.732      0.000      -3.189      -1.321\n",
       "========================================================================================================================\n",
       "\"\"\""
      ]
     },
     "execution_count": 94,
     "metadata": {},
     "output_type": "execute_result"
    }
   ],
   "source": [
    "X_train_sm = sm.add_constant(X_train[col1])\n",
    "logm2 = sm.GLM(y_train,X_train_sm, family = sm.families.Binomial())\n",
    "res = logm2.fit()\n",
    "res.summary()"
   ]
  },
  {
   "cell_type": "code",
   "execution_count": 95,
   "metadata": {},
   "outputs": [
    {
     "data": {
      "text/plain": [
       "7551    0.001180\n",
       "8564    0.923196\n",
       "4354    0.027128\n",
       "112     0.997553\n",
       "7270    0.604931\n",
       "8712    0.027128\n",
       "642     0.604931\n",
       "5209    0.068094\n",
       "7658    0.994833\n",
       "809     0.019765\n",
       "dtype: float64"
      ]
     },
     "execution_count": 95,
     "metadata": {},
     "output_type": "execute_result"
    }
   ],
   "source": [
    "\n",
    "# Getting the predicted values on the train set\n",
    "y_train_pred = res.predict(X_train_sm)\n",
    "y_train_pred[:10]"
   ]
  },
  {
   "cell_type": "code",
   "execution_count": 96,
   "metadata": {},
   "outputs": [
    {
     "data": {
      "text/plain": [
       "array([0.00118048, 0.92319632, 0.02712787, 0.99755348, 0.60493074,\n",
       "       0.02712787, 0.60493074, 0.06809398, 0.99483317, 0.01976461])"
      ]
     },
     "execution_count": 96,
     "metadata": {},
     "output_type": "execute_result"
    }
   ],
   "source": [
    "y_train_pred = y_train_pred.values.reshape(-1)\n",
    "y_train_pred[:10]"
   ]
  },
  {
   "cell_type": "code",
   "execution_count": 97,
   "metadata": {},
   "outputs": [
    {
     "data": {
      "text/html": [
       "<div>\n",
       "<style scoped>\n",
       "    .dataframe tbody tr th:only-of-type {\n",
       "        vertical-align: middle;\n",
       "    }\n",
       "\n",
       "    .dataframe tbody tr th {\n",
       "        vertical-align: top;\n",
       "    }\n",
       "\n",
       "    .dataframe thead th {\n",
       "        text-align: right;\n",
       "    }\n",
       "</style>\n",
       "<table border=\"1\" class=\"dataframe\">\n",
       "  <thead>\n",
       "    <tr style=\"text-align: right;\">\n",
       "      <th></th>\n",
       "      <th>Converted</th>\n",
       "      <th>Converted_prob</th>\n",
       "      <th>Prospect ID</th>\n",
       "    </tr>\n",
       "  </thead>\n",
       "  <tbody>\n",
       "    <tr>\n",
       "      <th>0</th>\n",
       "      <td>0</td>\n",
       "      <td>0.001180</td>\n",
       "      <td>7551</td>\n",
       "    </tr>\n",
       "    <tr>\n",
       "      <th>1</th>\n",
       "      <td>1</td>\n",
       "      <td>0.923196</td>\n",
       "      <td>8564</td>\n",
       "    </tr>\n",
       "    <tr>\n",
       "      <th>2</th>\n",
       "      <td>0</td>\n",
       "      <td>0.027128</td>\n",
       "      <td>4354</td>\n",
       "    </tr>\n",
       "    <tr>\n",
       "      <th>3</th>\n",
       "      <td>1</td>\n",
       "      <td>0.997553</td>\n",
       "      <td>112</td>\n",
       "    </tr>\n",
       "    <tr>\n",
       "      <th>4</th>\n",
       "      <td>1</td>\n",
       "      <td>0.604931</td>\n",
       "      <td>7270</td>\n",
       "    </tr>\n",
       "  </tbody>\n",
       "</table>\n",
       "</div>"
      ],
      "text/plain": [
       "   Converted  Converted_prob  Prospect ID\n",
       "0          0        0.001180         7551\n",
       "1          1        0.923196         8564\n",
       "2          0        0.027128         4354\n",
       "3          1        0.997553          112\n",
       "4          1        0.604931         7270"
      ]
     },
     "execution_count": 97,
     "metadata": {},
     "output_type": "execute_result"
    }
   ],
   "source": [
    "y_train_pred_final = pd.DataFrame({'Converted':y_train.values, 'Converted_prob':y_train_pred})\n",
    "y_train_pred_final['Prospect ID'] = y_train.index\n",
    "y_train_pred_final.head()"
   ]
  },
  {
   "cell_type": "code",
   "execution_count": 98,
   "metadata": {},
   "outputs": [
    {
     "data": {
      "text/html": [
       "<div>\n",
       "<style scoped>\n",
       "    .dataframe tbody tr th:only-of-type {\n",
       "        vertical-align: middle;\n",
       "    }\n",
       "\n",
       "    .dataframe tbody tr th {\n",
       "        vertical-align: top;\n",
       "    }\n",
       "\n",
       "    .dataframe thead th {\n",
       "        text-align: right;\n",
       "    }\n",
       "</style>\n",
       "<table border=\"1\" class=\"dataframe\">\n",
       "  <thead>\n",
       "    <tr style=\"text-align: right;\">\n",
       "      <th></th>\n",
       "      <th>Converted</th>\n",
       "      <th>Converted_prob</th>\n",
       "      <th>Prospect ID</th>\n",
       "      <th>predicted</th>\n",
       "    </tr>\n",
       "  </thead>\n",
       "  <tbody>\n",
       "    <tr>\n",
       "      <th>0</th>\n",
       "      <td>0</td>\n",
       "      <td>0.001180</td>\n",
       "      <td>7551</td>\n",
       "      <td>0</td>\n",
       "    </tr>\n",
       "    <tr>\n",
       "      <th>1</th>\n",
       "      <td>1</td>\n",
       "      <td>0.923196</td>\n",
       "      <td>8564</td>\n",
       "      <td>1</td>\n",
       "    </tr>\n",
       "    <tr>\n",
       "      <th>2</th>\n",
       "      <td>0</td>\n",
       "      <td>0.027128</td>\n",
       "      <td>4354</td>\n",
       "      <td>0</td>\n",
       "    </tr>\n",
       "    <tr>\n",
       "      <th>3</th>\n",
       "      <td>1</td>\n",
       "      <td>0.997553</td>\n",
       "      <td>112</td>\n",
       "      <td>1</td>\n",
       "    </tr>\n",
       "    <tr>\n",
       "      <th>4</th>\n",
       "      <td>1</td>\n",
       "      <td>0.604931</td>\n",
       "      <td>7270</td>\n",
       "      <td>1</td>\n",
       "    </tr>\n",
       "  </tbody>\n",
       "</table>\n",
       "</div>"
      ],
      "text/plain": [
       "   Converted  Converted_prob  Prospect ID  predicted\n",
       "0          0        0.001180         7551          0\n",
       "1          1        0.923196         8564          1\n",
       "2          0        0.027128         4354          0\n",
       "3          1        0.997553          112          1\n",
       "4          1        0.604931         7270          1"
      ]
     },
     "execution_count": 98,
     "metadata": {},
     "output_type": "execute_result"
    }
   ],
   "source": [
    "y_train_pred_final['predicted'] = y_train_pred_final.Converted_prob.map(lambda x: 1 if x > 0.5 else 0)\n",
    "\n",
    "# Let's see the head\n",
    "y_train_pred_final.head()"
   ]
  },
  {
   "cell_type": "code",
   "execution_count": 99,
   "metadata": {},
   "outputs": [
    {
     "name": "stdout",
     "output_type": "stream",
     "text": [
      "[[3555  133]\n",
      " [ 298 1945]]\n"
     ]
    }
   ],
   "source": [
    "from sklearn import metrics\n",
    "\n",
    "# Confusion matrix \n",
    "confusion = metrics.confusion_matrix(y_train_pred_final.Converted, y_train_pred_final.predicted )\n",
    "print(confusion)"
   ]
  },
  {
   "cell_type": "code",
   "execution_count": 100,
   "metadata": {},
   "outputs": [
    {
     "name": "stdout",
     "output_type": "stream",
     "text": [
      "0.9273309728544933\n"
     ]
    }
   ],
   "source": [
    "print(metrics.accuracy_score(y_train_pred_final.Converted, y_train_pred_final.predicted))\n"
   ]
  },
  {
   "cell_type": "code",
   "execution_count": 104,
   "metadata": {},
   "outputs": [
    {
     "ename": "TypeError",
     "evalue": "cannot convert the series to <type 'float'>",
     "output_type": "error",
     "traceback": [
      "\u001b[1;31m\u001b[0m",
      "\u001b[1;31mTypeError\u001b[0mTraceback (most recent call last)",
      "\u001b[1;32m<ipython-input-104-18a6271162cc>\u001b[0m in \u001b[0;36m<module>\u001b[1;34m()\u001b[0m\n\u001b[0;32m      3\u001b[0m \u001b[0mvif\u001b[0m\u001b[1;33m[\u001b[0m\u001b[1;34m'Features'\u001b[0m\u001b[1;33m]\u001b[0m \u001b[1;33m=\u001b[0m \u001b[0mX_train\u001b[0m\u001b[1;33m[\u001b[0m\u001b[0mcol1\u001b[0m\u001b[1;33m]\u001b[0m\u001b[1;33m.\u001b[0m\u001b[0mcolumns\u001b[0m\u001b[1;33m\u001b[0m\u001b[0m\n\u001b[0;32m      4\u001b[0m \u001b[0mvif\u001b[0m\u001b[1;33m[\u001b[0m\u001b[1;34m'VIF'\u001b[0m\u001b[1;33m]\u001b[0m \u001b[1;33m=\u001b[0m \u001b[1;33m[\u001b[0m\u001b[0mvariance_inflation_factor\u001b[0m\u001b[1;33m(\u001b[0m\u001b[0mX_train\u001b[0m\u001b[1;33m[\u001b[0m\u001b[0mcol1\u001b[0m\u001b[1;33m]\u001b[0m\u001b[1;33m.\u001b[0m\u001b[0mvalues\u001b[0m\u001b[1;33m,\u001b[0m \u001b[0mi\u001b[0m\u001b[1;33m)\u001b[0m \u001b[1;32mfor\u001b[0m \u001b[0mi\u001b[0m \u001b[1;32min\u001b[0m \u001b[0mrange\u001b[0m\u001b[1;33m(\u001b[0m\u001b[0mX_train\u001b[0m\u001b[1;33m[\u001b[0m\u001b[0mcol1\u001b[0m\u001b[1;33m]\u001b[0m\u001b[1;33m.\u001b[0m\u001b[0mshape\u001b[0m\u001b[1;33m[\u001b[0m\u001b[1;36m1\u001b[0m\u001b[1;33m]\u001b[0m\u001b[1;33m)\u001b[0m\u001b[1;33m]\u001b[0m\u001b[1;33m\u001b[0m\u001b[0m\n\u001b[1;32m----> 5\u001b[1;33m \u001b[0mvif\u001b[0m\u001b[1;33m[\u001b[0m\u001b[1;34m'VIF'\u001b[0m\u001b[1;33m]\u001b[0m \u001b[1;33m=\u001b[0m \u001b[0mround\u001b[0m\u001b[1;33m(\u001b[0m\u001b[0mvif\u001b[0m\u001b[1;33m[\u001b[0m\u001b[1;34m'VIF'\u001b[0m\u001b[1;33m]\u001b[0m\u001b[1;33m,\u001b[0m \u001b[1;36m2\u001b[0m\u001b[1;33m)\u001b[0m\u001b[1;33m\u001b[0m\u001b[0m\n\u001b[0m\u001b[0;32m      6\u001b[0m \u001b[0mvif\u001b[0m \u001b[1;33m=\u001b[0m \u001b[0mvif\u001b[0m\u001b[1;33m.\u001b[0m\u001b[0msort_values\u001b[0m\u001b[1;33m(\u001b[0m\u001b[0mby\u001b[0m \u001b[1;33m=\u001b[0m \u001b[1;34m\"VIF\"\u001b[0m\u001b[1;33m,\u001b[0m \u001b[0mascending\u001b[0m \u001b[1;33m=\u001b[0m \u001b[0mFalse\u001b[0m\u001b[1;33m)\u001b[0m\u001b[1;33m\u001b[0m\u001b[0m\n\u001b[0;32m      7\u001b[0m \u001b[0mvif\u001b[0m\u001b[1;33m\u001b[0m\u001b[0m\n",
      "\u001b[1;32mC:\\Users\\STS\\Anaconda2\\lib\\site-packages\\pandas\\core\\series.pyc\u001b[0m in \u001b[0;36mwrapper\u001b[1;34m(self)\u001b[0m\n\u001b[0;32m     91\u001b[0m             \u001b[1;32mreturn\u001b[0m \u001b[0mconverter\u001b[0m\u001b[1;33m(\u001b[0m\u001b[0mself\u001b[0m\u001b[1;33m.\u001b[0m\u001b[0miloc\u001b[0m\u001b[1;33m[\u001b[0m\u001b[1;36m0\u001b[0m\u001b[1;33m]\u001b[0m\u001b[1;33m)\u001b[0m\u001b[1;33m\u001b[0m\u001b[0m\n\u001b[0;32m     92\u001b[0m         raise TypeError(\"cannot convert the series to \"\n\u001b[1;32m---> 93\u001b[1;33m                         \"{0}\".format(str(converter)))\n\u001b[0m\u001b[0;32m     94\u001b[0m \u001b[1;33m\u001b[0m\u001b[0m\n\u001b[0;32m     95\u001b[0m     \u001b[0mwrapper\u001b[0m\u001b[1;33m.\u001b[0m\u001b[0m__name__\u001b[0m \u001b[1;33m=\u001b[0m \u001b[1;34m\"__{name}__\"\u001b[0m\u001b[1;33m.\u001b[0m\u001b[0mformat\u001b[0m\u001b[1;33m(\u001b[0m\u001b[0mname\u001b[0m\u001b[1;33m=\u001b[0m\u001b[0mconverter\u001b[0m\u001b[1;33m.\u001b[0m\u001b[0m__name__\u001b[0m\u001b[1;33m)\u001b[0m\u001b[1;33m\u001b[0m\u001b[0m\n",
      "\u001b[1;31mTypeError\u001b[0m: cannot convert the series to <type 'float'>"
     ]
    }
   ],
   "source": [
    "from statsmodels.stats.outliers_influence import variance_inflation_factor\n",
    "vif = pd.DataFrame()\n",
    "vif['Features'] = X_train[col1].columns\n",
    "vif['VIF'] = [variance_inflation_factor(X_train[col1].values, i) for i in range(X_train[col1].shape[1])]\n",
    "vif['VIF'] = round(vif['VIF'], 2)\n",
    "vif = vif.sort_values(by = \"VIF\", ascending = False)\n",
    "vif"
   ]
  },
  {
   "cell_type": "code",
   "execution_count": 105,
   "metadata": {},
   "outputs": [
    {
     "name": "stdout",
     "output_type": "stream",
     "text": [
      "     prob  accuracy  sensi  speci\n",
      "0.0   0.0       0.0    1.0    0.0\n",
      "0.1   0.1       0.0    0.0    0.0\n",
      "0.2   0.2       0.0    0.0    0.0\n",
      "0.3   0.3       0.0    0.0    0.0\n",
      "0.4   0.4       0.0    0.0    0.0\n",
      "0.5   0.5       0.0    0.0    0.0\n",
      "0.6   0.6       0.0    0.0    0.0\n",
      "0.7   0.7       0.0    0.0    0.0\n",
      "0.8   0.8       0.0    0.0    0.0\n",
      "0.9   0.9       0.0    0.0    0.0\n"
     ]
    }
   ],
   "source": [
    "numbers = [float(x)/10 for x in range(10)]\n",
    "for i in numbers:\n",
    "    y_train_pred_final[i]= y_train_pred_final.Converted_prob.map(lambda x: 1 if x > i else 0)\n",
    "\n",
    "\n",
    "cutoff_df = pd.DataFrame( columns = ['prob','accuracy','sensi','speci'])\n",
    "from sklearn.metrics import confusion_matrix\n",
    "\n",
    "num = [0.0,0.1,0.2,0.3,0.4,0.5,0.6,0.7,0.8,0.9]\n",
    "for i in num:\n",
    "    cm1 = metrics.confusion_matrix(y_train_pred_final.Converted, y_train_pred_final[i] )\n",
    "    total=sum(sum(cm1))\n",
    "    accuracy = (cm1[0,0]+cm1[1,1])/total\n",
    "    \n",
    "    speci = cm1[0,0]/(cm1[0,0]+cm1[0,1])\n",
    "    sensi = cm1[1,1]/(cm1[1,0]+cm1[1,1])\n",
    "    cutoff_df.loc[i] =[ i ,accuracy,sensi,speci]\n",
    "print(cutoff_df)"
   ]
  },
  {
   "cell_type": "code",
   "execution_count": 106,
   "metadata": {},
   "outputs": [
    {
     "data": {
      "image/png": "[encoded data removed]",
      "text/plain": [
       "<Figure size 432x288 with 1 Axes>"
      ]
     },
     "metadata": {
      "needs_background": "light"
     },
     "output_type": "display_data"
    }
   ],
   "source": [
    "#ROC line can be drawn, use different from the code\n",
    "cutoff_df.plot.line(x='prob', y=['accuracy','sensi','speci'])\n",
    "plt.show()"
   ]
  },
  {
   "cell_type": "code",
   "execution_count": 108,
   "metadata": {},
   "outputs": [
    {
     "data": {
      "text/html": [
       "<div>\n",
       "<style scoped>\n",
       "    .dataframe tbody tr th:only-of-type {\n",
       "        vertical-align: middle;\n",
       "    }\n",
       "\n",
       "    .dataframe tbody tr th {\n",
       "        vertical-align: top;\n",
       "    }\n",
       "\n",
       "    .dataframe thead th {\n",
       "        text-align: right;\n",
       "    }\n",
       "</style>\n",
       "<table border=\"1\" class=\"dataframe\">\n",
       "  <thead>\n",
       "    <tr style=\"text-align: right;\">\n",
       "      <th></th>\n",
       "      <th>Converted</th>\n",
       "      <th>Converted_prob</th>\n",
       "      <th>Prospect ID</th>\n",
       "      <th>predicted</th>\n",
       "      <th>0.0</th>\n",
       "      <th>0.1</th>\n",
       "      <th>0.2</th>\n",
       "      <th>0.3</th>\n",
       "      <th>0.4</th>\n",
       "      <th>0.5</th>\n",
       "      <th>0.6</th>\n",
       "      <th>0.7</th>\n",
       "      <th>0.8</th>\n",
       "      <th>0.9</th>\n",
       "      <th>Lead_Score</th>\n",
       "    </tr>\n",
       "  </thead>\n",
       "  <tbody>\n",
       "    <tr>\n",
       "      <th>0</th>\n",
       "      <td>0</td>\n",
       "      <td>0.001180</td>\n",
       "      <td>7551</td>\n",
       "      <td>0</td>\n",
       "      <td>1</td>\n",
       "      <td>0</td>\n",
       "      <td>0</td>\n",
       "      <td>0</td>\n",
       "      <td>0</td>\n",
       "      <td>0</td>\n",
       "      <td>0</td>\n",
       "      <td>0</td>\n",
       "      <td>0</td>\n",
       "      <td>0</td>\n",
       "      <td>0.0</td>\n",
       "    </tr>\n",
       "    <tr>\n",
       "      <th>1</th>\n",
       "      <td>1</td>\n",
       "      <td>0.923196</td>\n",
       "      <td>8564</td>\n",
       "      <td>1</td>\n",
       "      <td>1</td>\n",
       "      <td>1</td>\n",
       "      <td>1</td>\n",
       "      <td>1</td>\n",
       "      <td>1</td>\n",
       "      <td>1</td>\n",
       "      <td>1</td>\n",
       "      <td>1</td>\n",
       "      <td>1</td>\n",
       "      <td>1</td>\n",
       "      <td>92.0</td>\n",
       "    </tr>\n",
       "    <tr>\n",
       "      <th>2</th>\n",
       "      <td>0</td>\n",
       "      <td>0.027128</td>\n",
       "      <td>4354</td>\n",
       "      <td>0</td>\n",
       "      <td>1</td>\n",
       "      <td>0</td>\n",
       "      <td>0</td>\n",
       "      <td>0</td>\n",
       "      <td>0</td>\n",
       "      <td>0</td>\n",
       "      <td>0</td>\n",
       "      <td>0</td>\n",
       "      <td>0</td>\n",
       "      <td>0</td>\n",
       "      <td>3.0</td>\n",
       "    </tr>\n",
       "    <tr>\n",
       "      <th>3</th>\n",
       "      <td>1</td>\n",
       "      <td>0.997553</td>\n",
       "      <td>112</td>\n",
       "      <td>1</td>\n",
       "      <td>1</td>\n",
       "      <td>1</td>\n",
       "      <td>1</td>\n",
       "      <td>1</td>\n",
       "      <td>1</td>\n",
       "      <td>1</td>\n",
       "      <td>1</td>\n",
       "      <td>1</td>\n",
       "      <td>1</td>\n",
       "      <td>1</td>\n",
       "      <td>100.0</td>\n",
       "    </tr>\n",
       "    <tr>\n",
       "      <th>4</th>\n",
       "      <td>1</td>\n",
       "      <td>0.604931</td>\n",
       "      <td>7270</td>\n",
       "      <td>1</td>\n",
       "      <td>1</td>\n",
       "      <td>1</td>\n",
       "      <td>1</td>\n",
       "      <td>1</td>\n",
       "      <td>1</td>\n",
       "      <td>1</td>\n",
       "      <td>1</td>\n",
       "      <td>0</td>\n",
       "      <td>0</td>\n",
       "      <td>0</td>\n",
       "      <td>60.0</td>\n",
       "    </tr>\n",
       "  </tbody>\n",
       "</table>\n",
       "</div>"
      ],
      "text/plain": [
       "   Converted  Converted_prob  Prospect ID  predicted  0.0  0.1  0.2  0.3  0.4  \\\n",
       "0          0        0.001180         7551          0    1    0    0    0    0   \n",
       "1          1        0.923196         8564          1    1    1    1    1    1   \n",
       "2          0        0.027128         4354          0    1    0    0    0    0   \n",
       "3          1        0.997553          112          1    1    1    1    1    1   \n",
       "4          1        0.604931         7270          1    1    1    1    1    1   \n",
       "\n",
       "   0.5  0.6  0.7  0.8  0.9  Lead_Score  \n",
       "0    0    0    0    0    0         0.0  \n",
       "1    1    1    1    1    1        92.0  \n",
       "2    0    0    0    0    0         3.0  \n",
       "3    1    1    1    1    1       100.0  \n",
       "4    1    1    0    0    0        60.0  "
      ]
     },
     "execution_count": 108,
     "metadata": {},
     "output_type": "execute_result"
    }
   ],
   "source": [
    "#Assign lead score = conversion probability to \n",
    "y_train_pred_final['Lead_Score'] = y_train_pred_final.Converted_prob.map( lambda x: round(x*100))\n",
    "\n",
    "y_train_pred_final.head()"
   ]
  },
  {
   "cell_type": "code",
   "execution_count": 110,
   "metadata": {},
   "outputs": [],
   "source": [
    "# check the accuracy ,specificity\n",
    "metrics.accuracy_score(y_train_pred_final.Converted, y_train_pred_final.predicted)\n",
    "\n",
    "confusion2 = metrics.confusion_matrix(y_train_pred_final.Converted, y_train_pred_final.predicted )\n",
    "confusion2\n",
    "\n",
    "TP = confusion2[1,1] # true positive \n",
    "TN = confusion2[0,0] # true negatives\n",
    "FP = confusion2[0,1] # false positives\n",
    "FN = confusion2[1,0] # false negatives"
   ]
  },
  {
   "cell_type": "code",
   "execution_count": 111,
   "metadata": {},
   "outputs": [
    {
     "name": "stderr",
     "output_type": "stream",
     "text": [
      "C:\\Users\\STS\\Anaconda2\\lib\\site-packages\\sklearn\\preprocessing\\data.py:645: DataConversionWarning: Data with input dtype int64, float64 were all converted to float64 by StandardScaler.\n",
      "  return self.partial_fit(X, y)\n",
      "C:\\Users\\STS\\Anaconda2\\lib\\site-packages\\sklearn\\base.py:464: DataConversionWarning: Data with input dtype int64, float64 were all converted to float64 by StandardScaler.\n",
      "  return self.fit(X, **fit_params).transform(X)\n",
      "C:\\Users\\STS\\Anaconda2\\lib\\site-packages\\ipykernel_launcher.py:2: SettingWithCopyWarning: \n",
      "A value is trying to be set on a copy of a slice from a DataFrame.\n",
      "Try using .loc[row_indexer,col_indexer] = value instead\n",
      "\n",
      "See the caveats in the documentation: http://pandas.pydata.org/pandas-docs/stable/indexing.html#indexing-view-versus-copy\n",
      "  \n"
     ]
    },
    {
     "data": {
      "text/html": [
       "<div>\n",
       "<style scoped>\n",
       "    .dataframe tbody tr th:only-of-type {\n",
       "        vertical-align: middle;\n",
       "    }\n",
       "\n",
       "    .dataframe tbody tr th {\n",
       "        vertical-align: top;\n",
       "    }\n",
       "\n",
       "    .dataframe thead th {\n",
       "        text-align: right;\n",
       "    }\n",
       "</style>\n",
       "<table border=\"1\" class=\"dataframe\">\n",
       "  <thead>\n",
       "    <tr style=\"text-align: right;\">\n",
       "      <th></th>\n",
       "      <th>Do Not Email</th>\n",
       "      <th>Do Not Call</th>\n",
       "      <th>TotalVisits</th>\n",
       "      <th>Total Time Spent on Website</th>\n",
       "      <th>Page Views Per Visit</th>\n",
       "      <th>Lead Origin_Landing Page Submission</th>\n",
       "      <th>Lead Origin_Lead Add Form</th>\n",
       "      <th>Lead Origin_Lead Import</th>\n",
       "      <th>Lead Source_Direct Traffic</th>\n",
       "      <th>Lead Source_Facebook</th>\n",
       "      <th>...</th>\n",
       "      <th>Last Notable Activity_Unreachable</th>\n",
       "      <th>Last Notable Activity_Unsubscribed</th>\n",
       "      <th>Last Notable Activity_View in browser link Clicked</th>\n",
       "      <th>Country_Outside India</th>\n",
       "      <th>What matters most to you in choosing a course_Flexibility &amp; Convenience</th>\n",
       "      <th>What matters most to you in choosing a course_Other</th>\n",
       "      <th>Asymmetrique Activity Index_02.Medium</th>\n",
       "      <th>Asymmetrique Activity Index_03.Low</th>\n",
       "      <th>Asymmetrique Profile Index_02.Medium</th>\n",
       "      <th>Asymmetrique Profile Index_03.Low</th>\n",
       "    </tr>\n",
       "  </thead>\n",
       "  <tbody>\n",
       "    <tr>\n",
       "      <th>7551</th>\n",
       "      <td>0</td>\n",
       "      <td>0</td>\n",
       "      <td>0.964330</td>\n",
       "      <td>-0.106395</td>\n",
       "      <td>1.772003</td>\n",
       "      <td>0</td>\n",
       "      <td>0</td>\n",
       "      <td>0</td>\n",
       "      <td>0</td>\n",
       "      <td>0</td>\n",
       "      <td>...</td>\n",
       "      <td>0</td>\n",
       "      <td>0</td>\n",
       "      <td>0</td>\n",
       "      <td>0</td>\n",
       "      <td>0</td>\n",
       "      <td>0</td>\n",
       "      <td>0</td>\n",
       "      <td>0</td>\n",
       "      <td>1</td>\n",
       "      <td>0</td>\n",
       "    </tr>\n",
       "    <tr>\n",
       "      <th>8564</th>\n",
       "      <td>0</td>\n",
       "      <td>0</td>\n",
       "      <td>1.390074</td>\n",
       "      <td>0.242047</td>\n",
       "      <td>0.568291</td>\n",
       "      <td>0</td>\n",
       "      <td>0</td>\n",
       "      <td>0</td>\n",
       "      <td>0</td>\n",
       "      <td>0</td>\n",
       "      <td>...</td>\n",
       "      <td>0</td>\n",
       "      <td>0</td>\n",
       "      <td>0</td>\n",
       "      <td>0</td>\n",
       "      <td>0</td>\n",
       "      <td>0</td>\n",
       "      <td>1</td>\n",
       "      <td>0</td>\n",
       "      <td>1</td>\n",
       "      <td>0</td>\n",
       "    </tr>\n",
       "    <tr>\n",
       "      <th>4354</th>\n",
       "      <td>0</td>\n",
       "      <td>0</td>\n",
       "      <td>-0.738645</td>\n",
       "      <td>-0.297296</td>\n",
       "      <td>-0.635422</td>\n",
       "      <td>1</td>\n",
       "      <td>0</td>\n",
       "      <td>0</td>\n",
       "      <td>1</td>\n",
       "      <td>0</td>\n",
       "      <td>...</td>\n",
       "      <td>0</td>\n",
       "      <td>0</td>\n",
       "      <td>0</td>\n",
       "      <td>0</td>\n",
       "      <td>0</td>\n",
       "      <td>0</td>\n",
       "      <td>0</td>\n",
       "      <td>0</td>\n",
       "      <td>0</td>\n",
       "      <td>0</td>\n",
       "    </tr>\n",
       "    <tr>\n",
       "      <th>112</th>\n",
       "      <td>0</td>\n",
       "      <td>0</td>\n",
       "      <td>-1.164389</td>\n",
       "      <td>-0.855174</td>\n",
       "      <td>-1.237278</td>\n",
       "      <td>0</td>\n",
       "      <td>1</td>\n",
       "      <td>0</td>\n",
       "      <td>0</td>\n",
       "      <td>0</td>\n",
       "      <td>...</td>\n",
       "      <td>0</td>\n",
       "      <td>0</td>\n",
       "      <td>0</td>\n",
       "      <td>1</td>\n",
       "      <td>0</td>\n",
       "      <td>0</td>\n",
       "      <td>1</td>\n",
       "      <td>0</td>\n",
       "      <td>0</td>\n",
       "      <td>0</td>\n",
       "    </tr>\n",
       "    <tr>\n",
       "      <th>7270</th>\n",
       "      <td>0</td>\n",
       "      <td>0</td>\n",
       "      <td>-0.312901</td>\n",
       "      <td>2.497654</td>\n",
       "      <td>-0.635422</td>\n",
       "      <td>0</td>\n",
       "      <td>0</td>\n",
       "      <td>0</td>\n",
       "      <td>0</td>\n",
       "      <td>0</td>\n",
       "      <td>...</td>\n",
       "      <td>0</td>\n",
       "      <td>0</td>\n",
       "      <td>0</td>\n",
       "      <td>0</td>\n",
       "      <td>0</td>\n",
       "      <td>0</td>\n",
       "      <td>0</td>\n",
       "      <td>0</td>\n",
       "      <td>0</td>\n",
       "      <td>0</td>\n",
       "    </tr>\n",
       "  </tbody>\n",
       "</table>\n",
       "<p>5 rows × 122 columns</p>\n",
       "</div>"
      ],
      "text/plain": [
       "      Do Not Email  Do Not Call  TotalVisits  Total Time Spent on Website  \\\n",
       "7551             0            0     0.964330                    -0.106395   \n",
       "8564             0            0     1.390074                     0.242047   \n",
       "4354             0            0    -0.738645                    -0.297296   \n",
       "112              0            0    -1.164389                    -0.855174   \n",
       "7270             0            0    -0.312901                     2.497654   \n",
       "\n",
       "      Page Views Per Visit  Lead Origin_Landing Page Submission  \\\n",
       "7551              1.772003                                    0   \n",
       "8564              0.568291                                    0   \n",
       "4354             -0.635422                                    1   \n",
       "112              -1.237278                                    0   \n",
       "7270             -0.635422                                    0   \n",
       "\n",
       "      Lead Origin_Lead Add Form  Lead Origin_Lead Import  \\\n",
       "7551                          0                        0   \n",
       "8564                          0                        0   \n",
       "4354                          0                        0   \n",
       "112                           1                        0   \n",
       "7270                          0                        0   \n",
       "\n",
       "      Lead Source_Direct Traffic  Lead Source_Facebook  ...  \\\n",
       "7551                           0                     0  ...   \n",
       "8564                           0                     0  ...   \n",
       "4354                           1                     0  ...   \n",
       "112                            0                     0  ...   \n",
       "7270                           0                     0  ...   \n",
       "\n",
       "      Last Notable Activity_Unreachable  Last Notable Activity_Unsubscribed  \\\n",
       "7551                                  0                                   0   \n",
       "8564                                  0                                   0   \n",
       "4354                                  0                                   0   \n",
       "112                                   0                                   0   \n",
       "7270                                  0                                   0   \n",
       "\n",
       "      Last Notable Activity_View in browser link Clicked  \\\n",
       "7551                                                  0    \n",
       "8564                                                  0    \n",
       "4354                                                  0    \n",
       "112                                                   0    \n",
       "7270                                                  0    \n",
       "\n",
       "      Country_Outside India  \\\n",
       "7551                      0   \n",
       "8564                      0   \n",
       "4354                      0   \n",
       "112                       1   \n",
       "7270                      0   \n",
       "\n",
       "      What matters most to you in choosing a course_Flexibility & Convenience  \\\n",
       "7551                                                  0                         \n",
       "8564                                                  0                         \n",
       "4354                                                  0                         \n",
       "112                                                   0                         \n",
       "7270                                                  0                         \n",
       "\n",
       "      What matters most to you in choosing a course_Other  \\\n",
       "7551                                                  0     \n",
       "8564                                                  0     \n",
       "4354                                                  0     \n",
       "112                                                   0     \n",
       "7270                                                  0     \n",
       "\n",
       "      Asymmetrique Activity Index_02.Medium  \\\n",
       "7551                                      0   \n",
       "8564                                      1   \n",
       "4354                                      0   \n",
       "112                                       1   \n",
       "7270                                      0   \n",
       "\n",
       "      Asymmetrique Activity Index_03.Low  \\\n",
       "7551                                   0   \n",
       "8564                                   0   \n",
       "4354                                   0   \n",
       "112                                    0   \n",
       "7270                                   0   \n",
       "\n",
       "      Asymmetrique Profile Index_02.Medium  Asymmetrique Profile Index_03.Low  \n",
       "7551                                     1                                  0  \n",
       "8564                                     1                                  0  \n",
       "4354                                     0                                  0  \n",
       "112                                      0                                  0  \n",
       "7270                                     0                                  0  \n",
       "\n",
       "[5 rows x 122 columns]"
      ]
     },
     "execution_count": 111,
     "metadata": {},
     "output_type": "execute_result"
    }
   ],
   "source": [
    "#check against the test data, check the accurcy\n",
    "X_test[['TotalVisits','Total Time Spent on Website','Page Views Per Visit']] = scaler.fit_transform(X_test[['TotalVisits','Total Time Spent on Website','Page Views Per Visit']])\n",
    "\n",
    "X_train.head()"
   ]
  },
  {
   "cell_type": "code",
   "execution_count": 113,
   "metadata": {},
   "outputs": [
    {
     "data": {
      "text/html": [
       "<div>\n",
       "<style scoped>\n",
       "    .dataframe tbody tr th:only-of-type {\n",
       "        vertical-align: middle;\n",
       "    }\n",
       "\n",
       "    .dataframe tbody tr th {\n",
       "        vertical-align: top;\n",
       "    }\n",
       "\n",
       "    .dataframe thead th {\n",
       "        text-align: right;\n",
       "    }\n",
       "</style>\n",
       "<table border=\"1\" class=\"dataframe\">\n",
       "  <thead>\n",
       "    <tr style=\"text-align: right;\">\n",
       "      <th></th>\n",
       "      <th>Lead Source_Welingak Website</th>\n",
       "      <th>Last Activity_SMS Sent</th>\n",
       "      <th>What is your current occupation_Student</th>\n",
       "      <th>What is your current occupation_Unemployed</th>\n",
       "      <th>What is your current occupation_Working Professional</th>\n",
       "      <th>Tags_Busy</th>\n",
       "      <th>Tags_Closed by Horizzon</th>\n",
       "      <th>Tags_Lost to EINS</th>\n",
       "      <th>Tags_Ringing</th>\n",
       "      <th>Tags_Unknown</th>\n",
       "      <th>Tags_Will revert after reading the email</th>\n",
       "      <th>Tags_invalid number</th>\n",
       "      <th>Tags_switched off</th>\n",
       "      <th>Lead Quality_Worst</th>\n",
       "      <th>Last Notable Activity_Modified</th>\n",
       "      <th>Last Notable Activity_Olark Chat Conversation</th>\n",
       "      <th>Asymmetrique Activity Index_03.Low</th>\n",
       "    </tr>\n",
       "  </thead>\n",
       "  <tbody>\n",
       "    <tr>\n",
       "      <th>6233</th>\n",
       "      <td>0</td>\n",
       "      <td>0</td>\n",
       "      <td>0</td>\n",
       "      <td>1</td>\n",
       "      <td>0</td>\n",
       "      <td>0</td>\n",
       "      <td>0</td>\n",
       "      <td>0</td>\n",
       "      <td>1</td>\n",
       "      <td>0</td>\n",
       "      <td>0</td>\n",
       "      <td>0</td>\n",
       "      <td>0</td>\n",
       "      <td>0</td>\n",
       "      <td>0</td>\n",
       "      <td>0</td>\n",
       "      <td>0</td>\n",
       "    </tr>\n",
       "    <tr>\n",
       "      <th>339</th>\n",
       "      <td>0</td>\n",
       "      <td>0</td>\n",
       "      <td>0</td>\n",
       "      <td>1</td>\n",
       "      <td>0</td>\n",
       "      <td>0</td>\n",
       "      <td>0</td>\n",
       "      <td>0</td>\n",
       "      <td>0</td>\n",
       "      <td>0</td>\n",
       "      <td>0</td>\n",
       "      <td>0</td>\n",
       "      <td>0</td>\n",
       "      <td>0</td>\n",
       "      <td>1</td>\n",
       "      <td>0</td>\n",
       "      <td>1</td>\n",
       "    </tr>\n",
       "    <tr>\n",
       "      <th>2519</th>\n",
       "      <td>0</td>\n",
       "      <td>1</td>\n",
       "      <td>1</td>\n",
       "      <td>0</td>\n",
       "      <td>0</td>\n",
       "      <td>0</td>\n",
       "      <td>0</td>\n",
       "      <td>0</td>\n",
       "      <td>0</td>\n",
       "      <td>0</td>\n",
       "      <td>1</td>\n",
       "      <td>0</td>\n",
       "      <td>0</td>\n",
       "      <td>0</td>\n",
       "      <td>0</td>\n",
       "      <td>0</td>\n",
       "      <td>0</td>\n",
       "    </tr>\n",
       "    <tr>\n",
       "      <th>2410</th>\n",
       "      <td>0</td>\n",
       "      <td>1</td>\n",
       "      <td>0</td>\n",
       "      <td>1</td>\n",
       "      <td>0</td>\n",
       "      <td>0</td>\n",
       "      <td>0</td>\n",
       "      <td>0</td>\n",
       "      <td>0</td>\n",
       "      <td>0</td>\n",
       "      <td>0</td>\n",
       "      <td>0</td>\n",
       "      <td>0</td>\n",
       "      <td>0</td>\n",
       "      <td>1</td>\n",
       "      <td>0</td>\n",
       "      <td>0</td>\n",
       "    </tr>\n",
       "    <tr>\n",
       "      <th>1534</th>\n",
       "      <td>0</td>\n",
       "      <td>1</td>\n",
       "      <td>0</td>\n",
       "      <td>0</td>\n",
       "      <td>0</td>\n",
       "      <td>0</td>\n",
       "      <td>0</td>\n",
       "      <td>0</td>\n",
       "      <td>0</td>\n",
       "      <td>1</td>\n",
       "      <td>0</td>\n",
       "      <td>0</td>\n",
       "      <td>0</td>\n",
       "      <td>0</td>\n",
       "      <td>1</td>\n",
       "      <td>0</td>\n",
       "      <td>0</td>\n",
       "    </tr>\n",
       "  </tbody>\n",
       "</table>\n",
       "</div>"
      ],
      "text/plain": [
       "      Lead Source_Welingak Website  Last Activity_SMS Sent  \\\n",
       "6233                             0                       0   \n",
       "339                              0                       0   \n",
       "2519                             0                       1   \n",
       "2410                             0                       1   \n",
       "1534                             0                       1   \n",
       "\n",
       "      What is your current occupation_Student  \\\n",
       "6233                                        0   \n",
       "339                                         0   \n",
       "2519                                        1   \n",
       "2410                                        0   \n",
       "1534                                        0   \n",
       "\n",
       "      What is your current occupation_Unemployed  \\\n",
       "6233                                           1   \n",
       "339                                            1   \n",
       "2519                                           0   \n",
       "2410                                           1   \n",
       "1534                                           0   \n",
       "\n",
       "      What is your current occupation_Working Professional  Tags_Busy  \\\n",
       "6233                                                  0             0   \n",
       "339                                                   0             0   \n",
       "2519                                                  0             0   \n",
       "2410                                                  0             0   \n",
       "1534                                                  0             0   \n",
       "\n",
       "      Tags_Closed by Horizzon  Tags_Lost to EINS  Tags_Ringing  Tags_Unknown  \\\n",
       "6233                        0                  0             1             0   \n",
       "339                         0                  0             0             0   \n",
       "2519                        0                  0             0             0   \n",
       "2410                        0                  0             0             0   \n",
       "1534                        0                  0             0             1   \n",
       "\n",
       "      Tags_Will revert after reading the email  Tags_invalid number  \\\n",
       "6233                                         0                    0   \n",
       "339                                          0                    0   \n",
       "2519                                         1                    0   \n",
       "2410                                         0                    0   \n",
       "1534                                         0                    0   \n",
       "\n",
       "      Tags_switched off  Lead Quality_Worst  Last Notable Activity_Modified  \\\n",
       "6233                  0                   0                               0   \n",
       "339                   0                   0                               1   \n",
       "2519                  0                   0                               0   \n",
       "2410                  0                   0                               1   \n",
       "1534                  0                   0                               1   \n",
       "\n",
       "      Last Notable Activity_Olark Chat Conversation  \\\n",
       "6233                                              0   \n",
       "339                                               0   \n",
       "2519                                              0   \n",
       "2410                                              0   \n",
       "1534                                              0   \n",
       "\n",
       "      Asymmetrique Activity Index_03.Low  \n",
       "6233                                   0  \n",
       "339                                    1  \n",
       "2519                                   0  \n",
       "2410                                   0  \n",
       "1534                                   0  "
      ]
     },
     "execution_count": 113,
     "metadata": {},
     "output_type": "execute_result"
    }
   ],
   "source": [
    "X_test = X_test[col1]\n",
    "X_test.head()"
   ]
  },
  {
   "cell_type": "code",
   "execution_count": 114,
   "metadata": {},
   "outputs": [],
   "source": [
    "X_test_sm = sm.add_constant(X_test)"
   ]
  },
  {
   "cell_type": "code",
   "execution_count": 115,
   "metadata": {},
   "outputs": [],
   "source": [
    "y_test_pred = res.predict(X_test_sm)"
   ]
  },
  {
   "cell_type": "code",
   "execution_count": 116,
   "metadata": {},
   "outputs": [
    {
     "data": {
      "text/plain": [
       "6233    0.009222\n",
       "339     0.001551\n",
       "2519    0.994833\n",
       "2410    0.104106\n",
       "1534    0.179586\n",
       "3534    0.004067\n",
       "7789    0.995996\n",
       "8670    0.107842\n",
       "9035    0.107842\n",
       "8070    0.997057\n",
       "dtype: float64"
      ]
     },
     "execution_count": 116,
     "metadata": {},
     "output_type": "execute_result"
    }
   ],
   "source": [
    "y_test_pred[:10]"
   ]
  },
  {
   "cell_type": "code",
   "execution_count": 136,
   "metadata": {},
   "outputs": [],
   "source": [
    "# Converting y_pred to a dataframe which is an array\n",
    "y_pred_tst1 = pd.DataFrame(y_test_pred)"
   ]
  },
  {
   "cell_type": "code",
   "execution_count": 137,
   "metadata": {},
   "outputs": [
    {
     "data": {
      "text/html": [
       "<div>\n",
       "<style scoped>\n",
       "    .dataframe tbody tr th:only-of-type {\n",
       "        vertical-align: middle;\n",
       "    }\n",
       "\n",
       "    .dataframe tbody tr th {\n",
       "        vertical-align: top;\n",
       "    }\n",
       "\n",
       "    .dataframe thead th {\n",
       "        text-align: right;\n",
       "    }\n",
       "</style>\n",
       "<table border=\"1\" class=\"dataframe\">\n",
       "  <thead>\n",
       "    <tr style=\"text-align: right;\">\n",
       "      <th></th>\n",
       "      <th>0</th>\n",
       "    </tr>\n",
       "  </thead>\n",
       "  <tbody>\n",
       "    <tr>\n",
       "      <th>6233</th>\n",
       "      <td>0.009222</td>\n",
       "    </tr>\n",
       "    <tr>\n",
       "      <th>339</th>\n",
       "      <td>0.001551</td>\n",
       "    </tr>\n",
       "    <tr>\n",
       "      <th>2519</th>\n",
       "      <td>0.994833</td>\n",
       "    </tr>\n",
       "    <tr>\n",
       "      <th>2410</th>\n",
       "      <td>0.104106</td>\n",
       "    </tr>\n",
       "    <tr>\n",
       "      <th>1534</th>\n",
       "      <td>0.179586</td>\n",
       "    </tr>\n",
       "  </tbody>\n",
       "</table>\n",
       "</div>"
      ],
      "text/plain": [
       "             0\n",
       "6233  0.009222\n",
       "339   0.001551\n",
       "2519  0.994833\n",
       "2410  0.104106\n",
       "1534  0.179586"
      ]
     },
     "execution_count": 137,
     "metadata": {},
     "output_type": "execute_result"
    }
   ],
   "source": [
    "y_pred_tst1.head()"
   ]
  },
  {
   "cell_type": "code",
   "execution_count": 138,
   "metadata": {},
   "outputs": [],
   "source": [
    "# Converting y_test to dataframe\n",
    "y_test_df = pd.DataFrame(y_test)"
   ]
  },
  {
   "cell_type": "code",
   "execution_count": 139,
   "metadata": {},
   "outputs": [],
   "source": [
    "# Putting CustID to index\n",
    "y_test_df['Prospect ID'] = y_test_df.index"
   ]
  },
  {
   "cell_type": "code",
   "execution_count": 140,
   "metadata": {},
   "outputs": [],
   "source": [
    "# Removing index for both dataframes to append them side by side \n",
    "y_pred_tst1.reset_index(drop=True, inplace=True)\n",
    "y_test_df.reset_index(drop=True, inplace=True)"
   ]
  },
  {
   "cell_type": "code",
   "execution_count": 141,
   "metadata": {},
   "outputs": [],
   "source": [
    "# Appending y_test_df and y_pred_1\n",
    "y_pred_tst1 = pd.concat([y_test_df, y_pred_tst1],axis=1)"
   ]
  },
  {
   "cell_type": "code",
   "execution_count": 142,
   "metadata": {},
   "outputs": [
    {
     "data": {
      "text/html": [
       "<div>\n",
       "<style scoped>\n",
       "    .dataframe tbody tr th:only-of-type {\n",
       "        vertical-align: middle;\n",
       "    }\n",
       "\n",
       "    .dataframe tbody tr th {\n",
       "        vertical-align: top;\n",
       "    }\n",
       "\n",
       "    .dataframe thead th {\n",
       "        text-align: right;\n",
       "    }\n",
       "</style>\n",
       "<table border=\"1\" class=\"dataframe\">\n",
       "  <thead>\n",
       "    <tr style=\"text-align: right;\">\n",
       "      <th></th>\n",
       "      <th>Converted</th>\n",
       "      <th>Prospect ID</th>\n",
       "      <th>0</th>\n",
       "    </tr>\n",
       "  </thead>\n",
       "  <tbody>\n",
       "    <tr>\n",
       "      <th>0</th>\n",
       "      <td>0</td>\n",
       "      <td>6233</td>\n",
       "      <td>0.009222</td>\n",
       "    </tr>\n",
       "    <tr>\n",
       "      <th>1</th>\n",
       "      <td>0</td>\n",
       "      <td>339</td>\n",
       "      <td>0.001551</td>\n",
       "    </tr>\n",
       "    <tr>\n",
       "      <th>2</th>\n",
       "      <td>1</td>\n",
       "      <td>2519</td>\n",
       "      <td>0.994833</td>\n",
       "    </tr>\n",
       "    <tr>\n",
       "      <th>3</th>\n",
       "      <td>0</td>\n",
       "      <td>2410</td>\n",
       "      <td>0.104106</td>\n",
       "    </tr>\n",
       "    <tr>\n",
       "      <th>4</th>\n",
       "      <td>0</td>\n",
       "      <td>1534</td>\n",
       "      <td>0.179586</td>\n",
       "    </tr>\n",
       "  </tbody>\n",
       "</table>\n",
       "</div>"
      ],
      "text/plain": [
       "   Converted  Prospect ID         0\n",
       "0          0         6233  0.009222\n",
       "1          0          339  0.001551\n",
       "2          1         2519  0.994833\n",
       "3          0         2410  0.104106\n",
       "4          0         1534  0.179586"
      ]
     },
     "execution_count": 142,
     "metadata": {},
     "output_type": "execute_result"
    }
   ],
   "source": [
    "y_pred_tst1.head()"
   ]
  },
  {
   "cell_type": "code",
   "execution_count": 143,
   "metadata": {},
   "outputs": [],
   "source": [
    "# Renaming the column \n",
    "y_pred_tst1= y_pred_tst1.rename(columns={ 0 : 'Converted_prob'})"
   ]
  },
  {
   "cell_type": "code",
   "execution_count": 144,
   "metadata": {},
   "outputs": [
    {
     "name": "stderr",
     "output_type": "stream",
     "text": [
      "C:\\Users\\STS\\Anaconda2\\lib\\site-packages\\ipykernel_launcher.py:2: FutureWarning: '.reindex_axis' is deprecated and will be removed in a future version. Use '.reindex' instead.\n",
      "  \n"
     ]
    }
   ],
   "source": [
    "# Rearranging the columns\n",
    "y_pred_tst1 = y_pred_tst1.reindex_axis(['Prospect ID','Converted','Converted_prob'], axis=1)"
   ]
  },
  {
   "cell_type": "code",
   "execution_count": 145,
   "metadata": {},
   "outputs": [
    {
     "data": {
      "text/html": [
       "<div>\n",
       "<style scoped>\n",
       "    .dataframe tbody tr th:only-of-type {\n",
       "        vertical-align: middle;\n",
       "    }\n",
       "\n",
       "    .dataframe tbody tr th {\n",
       "        vertical-align: top;\n",
       "    }\n",
       "\n",
       "    .dataframe thead th {\n",
       "        text-align: right;\n",
       "    }\n",
       "</style>\n",
       "<table border=\"1\" class=\"dataframe\">\n",
       "  <thead>\n",
       "    <tr style=\"text-align: right;\">\n",
       "      <th></th>\n",
       "      <th>Prospect ID</th>\n",
       "      <th>Converted</th>\n",
       "      <th>Converted_prob</th>\n",
       "      <th>final_predicted</th>\n",
       "    </tr>\n",
       "  </thead>\n",
       "  <tbody>\n",
       "    <tr>\n",
       "      <th>0</th>\n",
       "      <td>6233</td>\n",
       "      <td>0</td>\n",
       "      <td>0.009222</td>\n",
       "      <td>0</td>\n",
       "    </tr>\n",
       "    <tr>\n",
       "      <th>1</th>\n",
       "      <td>339</td>\n",
       "      <td>0</td>\n",
       "      <td>0.001551</td>\n",
       "      <td>0</td>\n",
       "    </tr>\n",
       "    <tr>\n",
       "      <th>2</th>\n",
       "      <td>2519</td>\n",
       "      <td>1</td>\n",
       "      <td>0.994833</td>\n",
       "      <td>1</td>\n",
       "    </tr>\n",
       "    <tr>\n",
       "      <th>3</th>\n",
       "      <td>2410</td>\n",
       "      <td>0</td>\n",
       "      <td>0.104106</td>\n",
       "      <td>0</td>\n",
       "    </tr>\n",
       "    <tr>\n",
       "      <th>4</th>\n",
       "      <td>1534</td>\n",
       "      <td>0</td>\n",
       "      <td>0.179586</td>\n",
       "      <td>0</td>\n",
       "    </tr>\n",
       "  </tbody>\n",
       "</table>\n",
       "</div>"
      ],
      "text/plain": [
       "   Prospect ID  Converted  Converted_prob  final_predicted\n",
       "0         6233          0        0.009222                0\n",
       "1          339          0        0.001551                0\n",
       "2         2519          1        0.994833                1\n",
       "3         2410          0        0.104106                0\n",
       "4         1534          0        0.179586                0"
      ]
     },
     "execution_count": 145,
     "metadata": {},
     "output_type": "execute_result"
    }
   ],
   "source": [
    "# Let's see the head of y_pred_final\n",
    "y_pred_final.head()"
   ]
  },
  {
   "cell_type": "code",
   "execution_count": 127,
   "metadata": {},
   "outputs": [],
   "source": [
    "y_pred_final['final_predicted'] = y_pred_final.Converted_prob.map(lambda x: 1 if x > 0.2 else 0)"
   ]
  },
  {
   "cell_type": "code",
   "execution_count": 128,
   "metadata": {},
   "outputs": [
    {
     "data": {
      "text/html": [
       "<div>\n",
       "<style scoped>\n",
       "    .dataframe tbody tr th:only-of-type {\n",
       "        vertical-align: middle;\n",
       "    }\n",
       "\n",
       "    .dataframe tbody tr th {\n",
       "        vertical-align: top;\n",
       "    }\n",
       "\n",
       "    .dataframe thead th {\n",
       "        text-align: right;\n",
       "    }\n",
       "</style>\n",
       "<table border=\"1\" class=\"dataframe\">\n",
       "  <thead>\n",
       "    <tr style=\"text-align: right;\">\n",
       "      <th></th>\n",
       "      <th>Prospect ID</th>\n",
       "      <th>Converted</th>\n",
       "      <th>Converted_prob</th>\n",
       "      <th>final_predicted</th>\n",
       "    </tr>\n",
       "  </thead>\n",
       "  <tbody>\n",
       "    <tr>\n",
       "      <th>0</th>\n",
       "      <td>6233</td>\n",
       "      <td>0</td>\n",
       "      <td>0.009222</td>\n",
       "      <td>0</td>\n",
       "    </tr>\n",
       "    <tr>\n",
       "      <th>1</th>\n",
       "      <td>339</td>\n",
       "      <td>0</td>\n",
       "      <td>0.001551</td>\n",
       "      <td>0</td>\n",
       "    </tr>\n",
       "    <tr>\n",
       "      <th>2</th>\n",
       "      <td>2519</td>\n",
       "      <td>1</td>\n",
       "      <td>0.994833</td>\n",
       "      <td>1</td>\n",
       "    </tr>\n",
       "    <tr>\n",
       "      <th>3</th>\n",
       "      <td>2410</td>\n",
       "      <td>0</td>\n",
       "      <td>0.104106</td>\n",
       "      <td>0</td>\n",
       "    </tr>\n",
       "    <tr>\n",
       "      <th>4</th>\n",
       "      <td>1534</td>\n",
       "      <td>0</td>\n",
       "      <td>0.179586</td>\n",
       "      <td>0</td>\n",
       "    </tr>\n",
       "  </tbody>\n",
       "</table>\n",
       "</div>"
      ],
      "text/plain": [
       "   Prospect ID  Converted  Converted_prob  final_predicted\n",
       "0         6233          0        0.009222                0\n",
       "1          339          0        0.001551                0\n",
       "2         2519          1        0.994833                1\n",
       "3         2410          0        0.104106                0\n",
       "4         1534          0        0.179586                0"
      ]
     },
     "execution_count": 128,
     "metadata": {},
     "output_type": "execute_result"
    }
   ],
   "source": [
    "y_pred_final.head()"
   ]
  },
  {
   "cell_type": "code",
   "execution_count": 129,
   "metadata": {},
   "outputs": [
    {
     "data": {
      "text/plain": [
       "0.9237121510027526"
      ]
     },
     "execution_count": 129,
     "metadata": {},
     "output_type": "execute_result"
    }
   ],
   "source": [
    "# Let's check the overall accuracy.\n",
    "metrics.accuracy_score(y_pred_final.Converted, y_pred_final.final_predicted)"
   ]
  },
  {
   "cell_type": "code",
   "execution_count": 130,
   "metadata": {},
   "outputs": [
    {
     "data": {
      "text/plain": [
       "0.963937093275488"
      ]
     },
     "execution_count": 130,
     "metadata": {},
     "output_type": "execute_result"
    }
   ],
   "source": [
    "# Let us calculate specificity\n",
    "TN / float(TN+FP)"
   ]
  },
  {
   "cell_type": "code",
   "execution_count": null,
   "metadata": {},
   "outputs": [],
   "source": []
  }
 ],
 "metadata": {
  "kernelspec": {
   "display_name": "Python 2",
   "language": "python",
   "name": "python2"
  },
  "language_info": {
   "codemirror_mode": {
    "name": "ipython",
    "version": 2
   },
   "file_extension": ".py",
   "mimetype": "text/x-python",
   "name": "python",
   "nbconvert_exporter": "python",
   "pygments_lexer": "ipython2",
   "version": "2.7.16"
  }
 },
 "nbformat": 4,
 "nbformat_minor": 2
}
